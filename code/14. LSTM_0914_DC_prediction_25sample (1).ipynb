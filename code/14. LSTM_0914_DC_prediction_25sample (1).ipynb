{
 "cells": [
  {
   "cell_type": "code",
   "execution_count": 1,
   "metadata": {},
   "outputs": [],
   "source": [
    "import os\n",
    "import pandas as pd\n",
    "import numpy as np\n",
    "import matplotlib.pyplot as plt\n",
    "import tensorflow as tf\n",
    "from glob import glob\n",
    "from sklearn.metrics import *\n",
    "from scipy.interpolate import InterpolatedUnivariateSpline"
   ]
  },
  {
   "cell_type": "code",
   "execution_count": 2,
   "metadata": {},
   "outputs": [],
   "source": [
    "os.environ[\"CUDA_DEVICE_ORDER\"]=\"PCI_BUS_ID\"\n",
    "os.environ[\"CUDA_VISIBLE_DEVICES\"]=\"3\""
   ]
  },
  {
   "cell_type": "code",
   "execution_count": 3,
   "metadata": {},
   "outputs": [],
   "source": [
    "def load_csvs(csv_paths, columns, dataset=\"mit\", plot=True, rename=None):\n",
    "    # dataset can be mit or nasa\n",
    "    data = []\n",
    "    cycles = []\n",
    "    # path of directory where files are present\n",
    "    for i, path in enumerate(csv_paths):\n",
    "        assert os.path.exists(path)\n",
    "        df = pd.read_csv(path)\n",
    "        df = df[columns]\n",
    "        if dataset == \"mit\":\n",
    "            df = df[df['Step_Index'] == 10] # discharge\n",
    "            df = df[df['Step_Time'] > 0] # remove outliers\n",
    "            df = df[df['Step_Time'] < 5000] #remove outliers\n",
    "            df = df[df[\"Cycle_Index\"] > 0] # remove outliers\n",
    "            #df = df[df[\"Current\"] < -4.0]\n",
    "            #df[\"Discharge_Capacity\"] = df[\"Discharge_Capacity\"].max()\n",
    "            df[\"Discharge_Capacity\"] /= 1.1\n",
    "            df = df[df[\"Voltage\"] <3.22] \n",
    "            df = df[df[\"Voltage\"] >2.0]\n",
    "            \n",
    "        elif dataset == \"nasa\":\n",
    "            if rename:\n",
    "                df = df.rename(columns=rename)\n",
    "            df = df[df['Voltage'] > 2.5]\n",
    "            df = df[df['Voltage'] < 4.]\n",
    "            df = df[df['Current_measured'] < -1.8]\n",
    "            df[\"Voltage\"] *= 0.58\n",
    "\n",
    "            df[\"Step_Time\"] /= 4\n",
    "            df[\"Discharge_Capacity\"] /= 2.0\n",
    "        else:\n",
    "            raise NotImplementedError\n",
    "        data.append(df)\n",
    "        cycle = df[\"Cycle_Index\"].unique()\n",
    "        cycles.append(cycle)\n",
    "        \n",
    "        print (f\"total points in {path}\", df.shape)\n",
    "        \n",
    "    if plot:\n",
    "        plot_cycles(data, cycles)\n",
    "    \n",
    "    \n",
    "    return data, cycles"
   ]
  },
  {
   "cell_type": "code",
   "execution_count": 4,
   "metadata": {},
   "outputs": [],
   "source": [
    "def fit_spline(data, cycles, no_points=400, dataset=\"mit\"):\n",
    "    i = 0\n",
    "    for cycle, d in zip (cycles, data):\n",
    "        cell_np = []\n",
    "        for index, c in enumerate (cycle):\n",
    "            cycle_data = d[d[\"Cycle_Index\"] == c]\n",
    "            \n",
    "            if dataset ==\"mit\":\n",
    "                cycle_data = cycle_data[cycle_data.Current < -4.0]\n",
    "                cycle_data.Discharge_Capacity = cycle_data.Discharge_Capacity.max()\n",
    "                cycle_data = cycle_data[cycle_data.Voltage > 2.65]\n",
    "            \n",
    "\n",
    "            #selecting part of curve that has patterns\n",
    "            time, voltage, capacity, ind = cycle_data.Step_Time.values, cycle_data.Voltage, cycle_data.Discharge_Capacity, cycle_data.Cycle_Index\n",
    "            time = time - time[0]\n",
    "            if time.shape[0] < 100:\n",
    "                continue\n",
    "\n",
    "            # using spline function to to make dimensions of all cycles equal (to create equal number of points in every cycle)\n",
    "            ius = InterpolatedUnivariateSpline(time, voltage)\n",
    "\n",
    "            # creating linear space 0, 4000 of 100,000 points\n",
    "            xi = np.linspace(0, 1000, 100000)\n",
    "\n",
    "            #discarding points that are greater than time\n",
    "            xi = xi[xi < time[-1]]\n",
    "            #creating indices equal to number of points of xi and selecting 400 equidistant integers\n",
    "            indices = np.linspace(0, time[-1]*100 -1, no_points).astype(int)\n",
    "\n",
    "            #evaluating voltage for all xi\n",
    "            yi = ius(xi)\n",
    "\n",
    "            #selecting voltage at specified indices\n",
    "            yi = yi[indices]\n",
    "\n",
    "            #selecting time at specified indices\n",
    "            xi = xi[indices]\n",
    "            if dataset == \"mit\":\n",
    "                if (yi > 3.3).any() or (yi < 0).any() or (yi[:100] < 3.0).any():\n",
    "                    print('wrong cycle interpolation, ignore')\n",
    "                    continue\n",
    "            ind = np.zeros_like(xi) + ind.values[0]\n",
    "            capacity = np.zeros_like(xi) + np.max(capacity)\n",
    "            cell_np.append (np.array([xi, yi, capacity, ind]))\n",
    "        cell_np = np.concatenate(cell_np, axis=1)\n",
    "        cell_np = np.transpose (cell_np, (1,0))\n",
    "        data[i] = pd.DataFrame (cell_np, columns = ['Step_Time', 'Voltage', 'Discharge_Capacity', 'Cycle_Index'])\n",
    "        i+=1\n",
    "        \n",
    "    return data\n",
    "\n",
    "def plot_cycles(data, cycles):\n",
    "    for d, cycle in zip(data, cycles):\n",
    "        for index, c in enumerate(cycle):\n",
    "            cycle_data = d[d.Cycle_Index == c]\n",
    "            time, voltage = cycle_data['Step_Time'].values, cycle_data.Voltage \n",
    "           \n",
    "            plt.xlabel(\"time\")\n",
    "            plt.ylabel(\"voltage\")\n",
    "            plt.plot(time,voltage)\n",
    "\n",
    "    plt.show()\n",
    "    \n"
   ]
  },
  {
   "cell_type": "code",
   "execution_count": 5,
   "metadata": {},
   "outputs": [],
   "source": [
    "def make_data_set(data_set, window, type='train'):\n",
    "    \n",
    "    x_data = np.empty((0,2*window),float)\n",
    "    y_data = []\n",
    "    for i in range(len(data_set)):\n",
    "        data = data_set[i]\n",
    "        cycles = data['Cycle_Index'].unique()\n",
    "        for cycle in cycles:\n",
    "            step_time = data[data['Cycle_Index']==cycle].Step_Time.values\n",
    "            voltage = data[data['Cycle_Index']==cycle].Voltage.values\n",
    "            dc_capacity = data[data['Cycle_Index']==cycle].Discharge_Capacity.max()\n",
    "\n",
    "            idx = np.random.randint(0,400-window)\n",
    "            time_x = step_time[idx:idx+window]\n",
    "            voltage_x = voltage[idx:idx+window]\n",
    "\n",
    "            x = np.zeros((1,window*2))\n",
    "            x[0,::2] = voltage_x\n",
    "            x[0,1::2] = time_x\n",
    "            \n",
    "            x_data = np.concatenate((x_data,x),axis=0)\n",
    "            y_data.append(dc_capacity)\n",
    "    \n",
    "    x_data = x_data.reshape((x_data.shape[0], x_data.shape[1], 1))\n",
    "    y_data = np.array(y_data)\n",
    "\n",
    "    univariate = tf.data.Dataset.from_tensor_slices((x_data, y_data))\n",
    "    if type == 'train':\n",
    "        univariate = univariate.cache().shuffle(BUFFER_SIZE).batch(BATCH_SIZE).repeat()\n",
    "    elif type == 'val':\n",
    "        univariate = univariate.batch(BATCH_SIZE).repeat()\n",
    "    else:\n",
    "        univariate = univariate.batch(BATCH_SIZE)\n",
    "\n",
    "    return x_data, y_data, univariate"
   ]
  },
  {
   "cell_type": "code",
   "execution_count": 6,
   "metadata": {},
   "outputs": [],
   "source": [
    "# def model_train(input_shape, train, val):\n",
    "#     lstm_model = tf.keras.models.Sequential([\n",
    "#         tf.keras.layers.Conv1D(filters=128,kernel_size=5,activation='relu',input_shape=input_shape),\n",
    "#         tf.keras.layers.MaxPool1D(pool_size=2),\n",
    "#         tf.keras.layers.Dropout(0.5),\n",
    "#         tf.keras.layers.Conv1D(filters=128,kernel_size=5,activation='relu'),\n",
    "#         tf.keras.layers.MaxPool1D(pool_size=2),\n",
    "#         tf.keras.layers.Dropout(0.5),\n",
    "        \n",
    "#         tf.keras.layers.Conv1D(filters=64,kernel_size=3,activation='relu'),\n",
    "#         tf.keras.layers.BatchNormalization(),\n",
    "#         tf.keras.layers.Dropout(0.5),\n",
    "#         tf.keras.layers.Conv1D(filters=64,kernel_size=3,activation='relu'),\n",
    "#         tf.keras.layers.MaxPool1D(pool_size=2),\n",
    "#         tf.keras.layers.Dropout(0.5),\n",
    "        \n",
    "#         tf.keras.layers.LSTM(256),\n",
    "\n",
    "#         tf.keras.layers.Dense(128),\n",
    "#         tf.keras.layers.Dropout(0.5),\n",
    "#         tf.keras.layers.Dense(64),\n",
    "#         tf.keras.layers.Dropout(0.5),\n",
    "#         tf.keras.layers.Dense(32),\n",
    "#         tf.keras.layers.Dropout(0.5),\n",
    "#         tf.keras.layers.Dense(1)\n",
    "#     ])\n",
    "\n",
    "#     lstm_model.compile(optimizer='adam', loss='mse')\n",
    "\n",
    "#     lstm_model.fit(train, epochs=EPOCHS,\n",
    "#                    steps_per_epoch=EVALUATION_INTERVAL,\n",
    "#                    validation_data=val, validation_steps=50)\n",
    "\n",
    "#     return lstm_model"
   ]
  },
  {
   "cell_type": "code",
   "execution_count": 7,
   "metadata": {},
   "outputs": [],
   "source": [
    "def model_train(input_shape, train, val):\n",
    "    lstm_model = tf.keras.models.Sequential([\n",
    "        tf.keras.layers.LSTM(256, input_shape=input_shape),\n",
    "        tf.keras.layers.Dense(128),\n",
    "#         tf.keras.layers.Dropout(0.5),\n",
    "        tf.keras.layers.Dense(128),\n",
    "#         tf.keras.layers.Dropout(0.5),\n",
    "        tf.keras.layers.Dense(128),\n",
    "        tf.keras.layers.Dense(128),\n",
    "        tf.keras.layers.Dense(1)\n",
    "    ])\n",
    "\n",
    "    lstm_model.compile(optimizer='adam', loss='mae')\n",
    "\n",
    "    lstm_model.fit(train, epochs=EPOCHS,\n",
    "                   steps_per_epoch=EVALUATION_INTERVAL,\n",
    "                   validation_data=val, validation_steps=50)\n",
    "\n",
    "    return lstm_model"
   ]
  },
  {
   "cell_type": "code",
   "execution_count": 8,
   "metadata": {},
   "outputs": [],
   "source": [
    "# def model_train(input_shape, train, val):\n",
    "#     lstm_model = tf.keras.models.Sequential([\n",
    "#         tf.keras.layers.Dense(200,activation='relu', input_shape=input_shape),\n",
    "#         tf.keras.layers.Dense(200,activation='relu'),\n",
    "#         tf.keras.layers.Dense(200,activation='relu'),\n",
    "#         tf.keras.layers.Dense(1)\n",
    "#     ])\n",
    "\n",
    "#     lstm_model.compile(optimizer='adam', loss='mse')\n",
    "\n",
    "#     lstm_model.fit(train, epochs=EPOCHS,\n",
    "#                    steps_per_epoch=EVALUATION_INTERVAL,\n",
    "#                    validation_data=val, validation_steps=50)\n",
    "\n",
    "#     return lstm_model"
   ]
  },
  {
   "cell_type": "code",
   "execution_count": 27,
   "metadata": {},
   "outputs": [],
   "source": [
    "def model_test(model, y_test, test):\n",
    "    y_pred = model.predict(test)\n",
    "\n",
    "    plt.figure(figsize=(10, 8))\n",
    "    plt.plot(y_test, 'k-', label='True')\n",
    "    plt.plot(y_pred, 'r', label='prediction')\n",
    "    plt.legend()\n",
    "    plt.show()\n",
    "    print(f\"Mean Absolute Error : {mean_absolute_error(y_pred, y_test):.6f}\")\n",
    "    print(f\"Mean Squared Error(RMSE) : {mean_squared_error(y_pred, y_test, squared=False):.6f}\")\n",
    "    print(f\"MAPE: {mean_absolute_percentage_error(y_pred, y_test):.3f}\")\n",
    "    print(f\"R2 Score : {r2_score(y_pred, y_test):.3f}\")\n",
    "    \n"
   ]
  },
  {
   "cell_type": "code",
   "execution_count": 10,
   "metadata": {},
   "outputs": [
    {
     "name": "stdout",
     "output_type": "stream",
     "text": [
      "Total 5 nasa csvs\n",
      "Total 10 mit csvs\n",
      "./Capacity_data/NASA\\B0005_discharge.csv\n",
      "./Capacity_data/NASA\\B0006_discharge.csv\n",
      "./Capacity_data/NASA\\B0007_discharge.csv\n",
      "./Capacity_data/NASA\\B0018_discharge.csv\n",
      "./Capacity_data/NASA\\B0036_discharge_corrected.csv\n",
      "./Capacity_data/MIT\\2017-05-12_5_4C-60per_3C_CH16.csv\n",
      "./Capacity_data/MIT\\2017-05-12_5_4C-80per_5_4C_CH12.csv\n",
      "./Capacity_data/MIT\\2017-05-12_6C-40per_3C_CH25.csv\n",
      "./Capacity_data/MIT\\2017-05-12_6C-40per_3C_CH26.csv\n",
      "./Capacity_data/MIT\\2017-05-12_6C-40per_3_6C_CH34.csv\n",
      "./Capacity_data/MIT\\2017-05-12_6C-50per_3_6C_CH36.csv\n",
      "./Capacity_data/MIT\\2017-05-12_8C-25per_3_6C_CH45.csv\n",
      "./Capacity_data/MIT\\2017-06-30_2C-10per_6C_CH10.csv\n",
      "./Capacity_data/MIT\\b1c1corrected.csv\n",
      "./Capacity_data/MIT\\b1c2corrected.csv\n"
     ]
    }
   ],
   "source": [
    "nasa_csvs = glob('./Capacity_data/NASA/*csv')\n",
    "mit_csvs = glob('./Capacity_data/MIT/*csv')\n",
    "\n",
    "nasa_columns = ['Time', 'cycle', 'Voltage_measured', 'Current_measured', 'Capacity']\n",
    "mit_columns = ['Step_Time', 'Step_Index', 'Cycle_Index', 'Current', 'Voltage', 'Discharge_Capacity']\n",
    "nasa_rename = {'Time': 'Step_Time', 'cycle': 'Cycle_Index', 'Voltage_measured': 'Voltage',\n",
    "               \"Capacity\": 'Discharge_Capacity'}\n",
    "print(f\"Total {len(nasa_csvs)} nasa csvs\")\n",
    "print(f\"Total {len(mit_csvs)} mit csvs\")\n",
    "for csv in nasa_csvs:\n",
    "    print(csv)\n",
    "for csv in mit_csvs:\n",
    "    print(csv)"
   ]
  },
  {
   "cell_type": "code",
   "execution_count": 11,
   "metadata": {},
   "outputs": [
    {
     "name": "stdout",
     "output_type": "stream",
     "text": [
      "total points in ./Capacity_data/NASA\\B0005_discharge.csv (45072, 5)\n",
      "total points in ./Capacity_data/NASA\\B0006_discharge.csv (44186, 5)\n",
      "total points in ./Capacity_data/NASA\\B0007_discharge.csv (47798, 5)\n",
      "total points in ./Capacity_data/NASA\\B0018_discharge.csv (31859, 5)\n",
      "total points in ./Capacity_data/NASA\\B0036_discharge_corrected.csv (46164, 5)\n"
     ]
    },
    {
     "data": {
      "image/png": "[encoded data removed]",
      "text/plain": [
       "<Figure size 432x288 with 1 Axes>"
      ]
     },
     "metadata": {
      "needs_background": "light"
     },
     "output_type": "display_data"
    },
    {
     "name": "stdout",
     "output_type": "stream",
     "text": [
      "total points in ./Capacity_data/MIT\\2017-05-12_5_4C-60per_3C_CH16.csv (242428, 6)\n",
      "total points in ./Capacity_data/MIT\\2017-05-12_5_4C-80per_5_4C_CH12.csv (183283, 6)\n",
      "total points in ./Capacity_data/MIT\\2017-05-12_6C-40per_3C_CH25.csv (335532, 6)\n",
      "total points in ./Capacity_data/MIT\\2017-05-12_6C-40per_3C_CH26.csv (287278, 6)\n",
      "total points in ./Capacity_data/MIT\\2017-05-12_6C-40per_3_6C_CH34.csv (282169, 6)\n",
      "total points in ./Capacity_data/MIT\\2017-05-12_6C-50per_3_6C_CH36.csv (289478, 6)\n",
      "total points in ./Capacity_data/MIT\\2017-05-12_8C-25per_3_6C_CH45.csv (238964, 6)\n",
      "total points in ./Capacity_data/MIT\\2017-06-30_2C-10per_6C_CH10.csv (53837, 6)\n",
      "total points in ./Capacity_data/MIT\\b1c1corrected.csv (725771, 6)\n",
      "total points in ./Capacity_data/MIT\\b1c2corrected.csv (756812, 6)\n"
     ]
    },
    {
     "data": {
      "image/png": "[encoded data removed]",
      "text/plain": [
       "<Figure size 432x288 with 1 Axes>"
      ]
     },
     "metadata": {
      "needs_background": "light"
     },
     "output_type": "display_data"
    }
   ],
   "source": [
    "nasa_data, nasa_cycles = load_csvs(nasa_csvs, nasa_columns, dataset=\"nasa\", rename=nasa_rename)\n",
    "mit_data, mit_cycles = load_csvs(mit_csvs, mit_columns, dataset=\"mit\")"
   ]
  },
  {
   "cell_type": "code",
   "execution_count": 12,
   "metadata": {},
   "outputs": [
    {
     "name": "stdout",
     "output_type": "stream",
     "text": [
      "Fitting spline on NASA set ...\n",
      "Fitting Split on MIT set ...\n",
      "wrong cycle interpolation, ignore\n",
      "wrong cycle interpolation, ignore\n",
      "wrong cycle interpolation, ignore\n",
      "wrong cycle interpolation, ignore\n",
      "wrong cycle interpolation, ignore\n",
      "wrong cycle interpolation, ignore\n",
      "wrong cycle interpolation, ignore\n",
      "wrong cycle interpolation, ignore\n",
      "wrong cycle interpolation, ignore\n",
      "wrong cycle interpolation, ignore\n",
      "wrong cycle interpolation, ignore\n",
      "wrong cycle interpolation, ignore\n",
      "wrong cycle interpolation, ignore\n",
      "wrong cycle interpolation, ignore\n",
      "wrong cycle interpolation, ignore\n",
      "wrong cycle interpolation, ignore\n",
      "wrong cycle interpolation, ignore\n",
      "wrong cycle interpolation, ignore\n",
      "wrong cycle interpolation, ignore\n",
      "wrong cycle interpolation, ignore\n",
      "wrong cycle interpolation, ignore\n",
      "wrong cycle interpolation, ignore\n",
      "wrong cycle interpolation, ignore\n"
     ]
    }
   ],
   "source": [
    "print(\"Fitting spline on NASA set ...\")\n",
    "nasa_data = fit_spline(nasa_data, nasa_cycles, dataset=\"nasa\")\n",
    "print(\"Fitting Split on MIT set ...\")\n",
    "mit_data = fit_spline(mit_data, mit_cycles, dataset=\"mit\")"
   ]
  },
  {
   "cell_type": "code",
   "execution_count": null,
   "metadata": {},
   "outputs": [],
   "source": []
  },
  {
   "cell_type": "code",
   "execution_count": 13,
   "metadata": {},
   "outputs": [],
   "source": [
    "window = 25\n",
    "BATCH_SIZE = 64\n",
    "BUFFER_SIZE = 10000\n",
    "EVALUATION_INTERVAL = 200\n",
    "EPOCHS = 100"
   ]
  },
  {
   "cell_type": "code",
   "execution_count": null,
   "metadata": {},
   "outputs": [],
   "source": []
  },
  {
   "cell_type": "code",
   "execution_count": 14,
   "metadata": {},
   "outputs": [],
   "source": [
    "x_train, y_train, train_univariate = make_data_set(nasa_data[:3]+mit_data[:4],window=25)\n",
    "x_val, y_val, val_univariate = make_data_set([nasa_data[3]]+[mit_data[4]],window=25,type='val')"
   ]
  },
  {
   "cell_type": "code",
   "execution_count": 15,
   "metadata": {},
   "outputs": [],
   "source": [
    "x_test1, y_test1, test_univariate1 = make_data_set([nasa_data[-1]],window=25,type='test')\n",
    "x_test2, y_test2, test_univariate2 = make_data_set([mit_data[6]],window=25,type='test')"
   ]
  },
  {
   "cell_type": "code",
   "execution_count": null,
   "metadata": {},
   "outputs": [],
   "source": []
  },
  {
   "cell_type": "code",
   "execution_count": 20,
   "metadata": {},
   "outputs": [
    {
     "name": "stdout",
     "output_type": "stream",
     "text": [
      "Epoch 1/100\n",
      "200/200 [==============================] - 19s 85ms/step - loss: 0.1211 - val_loss: 0.0534\n",
      "Epoch 2/100\n",
      "200/200 [==============================] - 17s 87ms/step - loss: 0.0585 - val_loss: 0.0465\n",
      "Epoch 3/100\n",
      "200/200 [==============================] - 18s 89ms/step - loss: 0.0524 - val_loss: 0.0780\n",
      "Epoch 4/100\n",
      "200/200 [==============================] - 18s 88ms/step - loss: 0.0553 - val_loss: 0.0604\n",
      "Epoch 5/100\n",
      "200/200 [==============================] - 17s 83ms/step - loss: 0.0516 - val_loss: 0.0465\n",
      "Epoch 6/100\n",
      "200/200 [==============================] - 17s 83ms/step - loss: 0.0521 - val_loss: 0.0460\n",
      "Epoch 7/100\n",
      "200/200 [==============================] - 17s 83ms/step - loss: 0.0523 - val_loss: 0.0590\n",
      "Epoch 8/100\n",
      "200/200 [==============================] - 17s 83ms/step - loss: 0.0506 - val_loss: 0.0510\n",
      "Epoch 9/100\n",
      "200/200 [==============================] - 17s 84ms/step - loss: 0.0500 - val_loss: 0.0438\n",
      "Epoch 10/100\n",
      "200/200 [==============================] - 17s 84ms/step - loss: 0.0501 - val_loss: 0.0430\n",
      "Epoch 11/100\n",
      "200/200 [==============================] - 17s 83ms/step - loss: 0.0480 - val_loss: 0.0460\n",
      "Epoch 12/100\n",
      "200/200 [==============================] - 17s 83ms/step - loss: 0.0481 - val_loss: 0.0444\n",
      "Epoch 13/100\n",
      "200/200 [==============================] - 17s 84ms/step - loss: 0.0471 - val_loss: 0.0470\n",
      "Epoch 14/100\n",
      "200/200 [==============================] - 17s 85ms/step - loss: 0.0468 - val_loss: 0.0421\n",
      "Epoch 15/100\n",
      "200/200 [==============================] - 17s 87ms/step - loss: 0.0471 - val_loss: 0.0536\n",
      "Epoch 16/100\n",
      "200/200 [==============================] - 17s 84ms/step - loss: 0.0451 - val_loss: 0.0439\n",
      "Epoch 17/100\n",
      "200/200 [==============================] - 16s 82ms/step - loss: 0.0447 - val_loss: 0.0464\n",
      "Epoch 18/100\n",
      "200/200 [==============================] - 16s 82ms/step - loss: 0.0458 - val_loss: 0.0424\n",
      "Epoch 19/100\n",
      "200/200 [==============================] - 17s 83ms/step - loss: 0.0434 - val_loss: 0.0404\n",
      "Epoch 20/100\n",
      "200/200 [==============================] - 17s 83ms/step - loss: 0.0419 - val_loss: 0.0377\n",
      "Epoch 21/100\n",
      "200/200 [==============================] - 17s 84ms/step - loss: 0.0403 - val_loss: 0.0403\n",
      "Epoch 22/100\n",
      "200/200 [==============================] - 16s 82ms/step - loss: 0.0405 - val_loss: 0.0440\n",
      "Epoch 23/100\n",
      "200/200 [==============================] - 16s 83ms/step - loss: 0.0370 - val_loss: 0.0358\n",
      "Epoch 24/100\n",
      "200/200 [==============================] - 17s 83ms/step - loss: 0.0353 - val_loss: 0.0299\n",
      "Epoch 25/100\n",
      "200/200 [==============================] - 17s 83ms/step - loss: 0.0330 - val_loss: 0.0307\n",
      "Epoch 26/100\n",
      "200/200 [==============================] - 17s 83ms/step - loss: 0.0323 - val_loss: 0.0291\n",
      "Epoch 27/100\n",
      "200/200 [==============================] - 17s 84ms/step - loss: 0.0265 - val_loss: 0.0216\n",
      "Epoch 28/100\n",
      "200/200 [==============================] - 17s 84ms/step - loss: 0.0223 - val_loss: 0.0195\n",
      "Epoch 29/100\n",
      "200/200 [==============================] - 17s 84ms/step - loss: 0.0205 - val_loss: 0.0116\n",
      "Epoch 30/100\n",
      "200/200 [==============================] - 18s 88ms/step - loss: 0.0175 - val_loss: 0.0150\n",
      "Epoch 31/100\n",
      "200/200 [==============================] - 20s 98ms/step - loss: 0.0185 - val_loss: 0.0105\n",
      "Epoch 32/100\n",
      "200/200 [==============================] - 17s 87ms/step - loss: 0.0150 - val_loss: 0.0159\n",
      "Epoch 33/100\n",
      "200/200 [==============================] - 17s 84ms/step - loss: 0.0144 - val_loss: 0.0202\n",
      "Epoch 34/100\n",
      "200/200 [==============================] - 17s 85ms/step - loss: 0.0134 - val_loss: 0.0103\n",
      "Epoch 35/100\n",
      "200/200 [==============================] - 17s 84ms/step - loss: 0.0106 - val_loss: 0.0132\n",
      "Epoch 36/100\n",
      "200/200 [==============================] - 17s 84ms/step - loss: 0.0137 - val_loss: 0.0072\n",
      "Epoch 37/100\n",
      "200/200 [==============================] - 17s 86ms/step - loss: 0.0113 - val_loss: 0.0078\n",
      "Epoch 38/100\n",
      "200/200 [==============================] - 17s 85ms/step - loss: 0.0089 - val_loss: 0.0102\n",
      "Epoch 39/100\n",
      "200/200 [==============================] - 17s 85ms/step - loss: 0.0108 - val_loss: 0.0117\n",
      "Epoch 40/100\n",
      "200/200 [==============================] - 17s 85ms/step - loss: 0.0108 - val_loss: 0.0093\n",
      "Epoch 41/100\n",
      "200/200 [==============================] - 17s 87ms/step - loss: 0.0105 - val_loss: 0.0091\n",
      "Epoch 42/100\n",
      "200/200 [==============================] - 17s 85ms/step - loss: 0.0110 - val_loss: 0.0281\n",
      "Epoch 43/100\n",
      "200/200 [==============================] - 17s 86ms/step - loss: 0.0129 - val_loss: 0.0052\n",
      "Epoch 44/100\n",
      "200/200 [==============================] - 17s 86ms/step - loss: 0.0113 - val_loss: 0.0060\n",
      "Epoch 45/100\n",
      "200/200 [==============================] - 17s 87ms/step - loss: 0.0098 - val_loss: 0.0060\n",
      "Epoch 46/100\n",
      "200/200 [==============================] - 17s 85ms/step - loss: 0.0101 - val_loss: 0.0053\n",
      "Epoch 47/100\n",
      "200/200 [==============================] - 17s 84ms/step - loss: 0.0093 - val_loss: 0.0112\n",
      "Epoch 48/100\n",
      "200/200 [==============================] - 17s 84ms/step - loss: 0.0105 - val_loss: 0.0067\n",
      "Epoch 49/100\n",
      "200/200 [==============================] - 17s 84ms/step - loss: 0.0100 - val_loss: 0.0070\n",
      "Epoch 50/100\n",
      "200/200 [==============================] - 17s 85ms/step - loss: 0.0079 - val_loss: 0.0049\n",
      "Epoch 51/100\n",
      "200/200 [==============================] - 17s 86ms/step - loss: 0.0088 - val_loss: 0.0056\n",
      "Epoch 52/100\n",
      "200/200 [==============================] - 18s 91ms/step - loss: 0.0085 - val_loss: 0.0055\n",
      "Epoch 53/100\n",
      "200/200 [==============================] - 18s 88ms/step - loss: 0.0092 - val_loss: 0.0054\n",
      "Epoch 54/100\n",
      "200/200 [==============================] - 18s 88ms/step - loss: 0.0117 - val_loss: 0.0090\n",
      "Epoch 55/100\n",
      "200/200 [==============================] - 17s 86ms/step - loss: 0.0088 - val_loss: 0.0104\n",
      "Epoch 56/100\n",
      "200/200 [==============================] - 17s 86ms/step - loss: 0.0077 - val_loss: 0.0030\n",
      "Epoch 57/100\n",
      "200/200 [==============================] - 17s 86ms/step - loss: 0.0080 - val_loss: 0.0064\n",
      "Epoch 58/100\n",
      "200/200 [==============================] - 17s 86ms/step - loss: 0.0085 - val_loss: 0.0046\n",
      "Epoch 59/100\n",
      "200/200 [==============================] - 17s 86ms/step - loss: 0.0095 - val_loss: 0.0057\n",
      "Epoch 60/100\n",
      "200/200 [==============================] - 17s 86ms/step - loss: 0.0083 - val_loss: 0.0050\n",
      "Epoch 61/100\n",
      "200/200 [==============================] - 17s 86ms/step - loss: 0.0088 - val_loss: 0.0059\n",
      "Epoch 62/100\n",
      "200/200 [==============================] - 17s 86ms/step - loss: 0.0083 - val_loss: 0.0065\n",
      "Epoch 63/100\n",
      "200/200 [==============================] - 17s 87ms/step - loss: 0.0095 - val_loss: 0.0078\n",
      "Epoch 64/100\n",
      "200/200 [==============================] - 17s 86ms/step - loss: 0.0087 - val_loss: 0.0060\n",
      "Epoch 65/100\n",
      "200/200 [==============================] - 17s 86ms/step - loss: 0.0083 - val_loss: 0.0123\n",
      "Epoch 66/100\n",
      "200/200 [==============================] - 17s 86ms/step - loss: 0.0121 - val_loss: 0.0085\n",
      "Epoch 67/100\n",
      "200/200 [==============================] - 17s 86ms/step - loss: 0.0071 - val_loss: 0.0087\n",
      "Epoch 68/100\n",
      "200/200 [==============================] - 17s 86ms/step - loss: 0.0083 - val_loss: 0.0082\n",
      "Epoch 69/100\n",
      "200/200 [==============================] - 18s 91ms/step - loss: 0.0077 - val_loss: 0.0076\n",
      "Epoch 70/100\n",
      "200/200 [==============================] - 18s 91ms/step - loss: 0.0088 - val_loss: 0.0050\n",
      "Epoch 71/100\n",
      "200/200 [==============================] - 17s 86ms/step - loss: 0.0080 - val_loss: 0.0081\n",
      "Epoch 72/100\n",
      "200/200 [==============================] - 17s 86ms/step - loss: 0.0074 - val_loss: 0.0083\n",
      "Epoch 73/100\n",
      "200/200 [==============================] - 17s 86ms/step - loss: 0.0080 - val_loss: 0.0141\n",
      "Epoch 74/100\n",
      "200/200 [==============================] - 17s 86ms/step - loss: 0.0090 - val_loss: 0.0086\n",
      "Epoch 75/100\n",
      "200/200 [==============================] - 17s 86ms/step - loss: 0.0081 - val_loss: 0.0053\n",
      "Epoch 76/100\n",
      "200/200 [==============================] - 17s 86ms/step - loss: 0.0076 - val_loss: 0.0053\n",
      "Epoch 77/100\n",
      "200/200 [==============================] - 18s 88ms/step - loss: 0.0071 - val_loss: 0.0047\n",
      "Epoch 78/100\n",
      "200/200 [==============================] - 17s 86ms/step - loss: 0.0083 - val_loss: 0.0210\n",
      "Epoch 79/100\n",
      "200/200 [==============================] - 17s 86ms/step - loss: 0.0091 - val_loss: 0.0040\n"
     ]
    },
    {
     "name": "stdout",
     "output_type": "stream",
     "text": [
      "Epoch 80/100\n",
      "200/200 [==============================] - 17s 86ms/step - loss: 0.0082 - val_loss: 0.0107\n",
      "Epoch 81/100\n",
      "200/200 [==============================] - 17s 86ms/step - loss: 0.0078 - val_loss: 0.0066\n",
      "Epoch 82/100\n",
      "200/200 [==============================] - 17s 86ms/step - loss: 0.0080 - val_loss: 0.0087\n",
      "Epoch 83/100\n",
      "200/200 [==============================] - 17s 86ms/step - loss: 0.0078 - val_loss: 0.0066\n",
      "Epoch 84/100\n",
      "200/200 [==============================] - 17s 86ms/step - loss: 0.0089 - val_loss: 0.0095\n",
      "Epoch 85/100\n",
      "200/200 [==============================] - 17s 86ms/step - loss: 0.0076 - val_loss: 0.0055\n",
      "Epoch 86/100\n",
      "200/200 [==============================] - 17s 86ms/step - loss: 0.0066 - val_loss: 0.0046\n",
      "Epoch 87/100\n",
      "200/200 [==============================] - 17s 87ms/step - loss: 0.0071 - val_loss: 0.0063\n",
      "Epoch 88/100\n",
      "200/200 [==============================] - 17s 87ms/step - loss: 0.0074 - val_loss: 0.0044\n",
      "Epoch 89/100\n",
      "200/200 [==============================] - 17s 86ms/step - loss: 0.0072 - val_loss: 0.0083\n",
      "Epoch 90/100\n",
      "200/200 [==============================] - 17s 87ms/step - loss: 0.0075 - val_loss: 0.0046\n",
      "Epoch 91/100\n",
      "200/200 [==============================] - 18s 89ms/step - loss: 0.0077 - val_loss: 0.0111\n",
      "Epoch 92/100\n",
      "200/200 [==============================] - 18s 90ms/step - loss: 0.0069 - val_loss: 0.0027\n",
      "Epoch 93/100\n",
      "200/200 [==============================] - 18s 88ms/step - loss: 0.0069 - val_loss: 0.0045\n",
      "Epoch 94/100\n",
      "200/200 [==============================] - 17s 87ms/step - loss: 0.0067 - val_loss: 0.0099\n",
      "Epoch 95/100\n",
      "200/200 [==============================] - 17s 86ms/step - loss: 0.0078 - val_loss: 0.0092\n",
      "Epoch 96/100\n",
      "200/200 [==============================] - 17s 87ms/step - loss: 0.0082 - val_loss: 0.0031\n",
      "Epoch 97/100\n",
      "200/200 [==============================] - 17s 86ms/step - loss: 0.0057 - val_loss: 0.0029\n",
      "Epoch 98/100\n",
      "200/200 [==============================] - 17s 86ms/step - loss: 0.0064 - val_loss: 0.0073\n",
      "Epoch 99/100\n",
      "200/200 [==============================] - 17s 87ms/step - loss: 0.0073 - val_loss: 0.0082\n",
      "Epoch 100/100\n",
      "200/200 [==============================] - 17s 87ms/step - loss: 0.0062 - val_loss: 0.0041\n"
     ]
    }
   ],
   "source": [
    "input_shape = x_train.shape[1:]\n",
    "model = model_train(input_shape, train_univariate, val_univariate)"
   ]
  },
  {
   "cell_type": "code",
   "execution_count": 28,
   "metadata": {},
   "outputs": [
    {
     "data": {
      "image/png": "[encoded data removed]",
      "text/plain": [
       "<Figure size 720x576 with 1 Axes>"
      ]
     },
     "metadata": {
      "needs_background": "light"
     },
     "output_type": "display_data"
    },
    {
     "name": "stdout",
     "output_type": "stream",
     "text": [
      "Mean Absolute Error : 0.006069\n",
      "Mean Squared Error(RMSE) : 0.007324\n",
      "MAPE: 0.007\n",
      "R2 Score : 0.953\n"
     ]
    }
   ],
   "source": [
    "model_test(model, y_test1, test_univariate1)"
   ]
  },
  {
   "cell_type": "code",
   "execution_count": 29,
   "metadata": {},
   "outputs": [
    {
     "data": {
      "image/png": "[encoded data removed]",
      "text/plain": [
       "<Figure size 720x576 with 1 Axes>"
      ]
     },
     "metadata": {
      "needs_background": "light"
     },
     "output_type": "display_data"
    },
    {
     "name": "stdout",
     "output_type": "stream",
     "text": [
      "Mean Absolute Error : 0.004753\n",
      "Mean Squared Error(RMSE) : 0.005672\n",
      "MAPE: 0.005\n",
      "R2 Score : 0.993\n"
     ]
    }
   ],
   "source": [
    "model_test(model, y_test2, test_univariate2)"
   ]
  },
  {
   "cell_type": "code",
   "execution_count": 25,
   "metadata": {},
   "outputs": [],
   "source": [
    "NASA= model.predict(test_univariate1)\n",
    "MIT= model.predict(test_univariate2)"
   ]
  },
  {
   "cell_type": "code",
   "execution_count": 26,
   "metadata": {},
   "outputs": [],
   "source": [
    "pd.DataFrame(NASA).to_csv(f'./LSTM_NASA_Pred.csv')\n",
    "pd.DataFrame(MIT).to_csv(f'./LSTM_MIT_Pred.csv')"
   ]
  },
  {
   "cell_type": "code",
   "execution_count": null,
   "metadata": {},
   "outputs": [],
   "source": []
  },
  {
   "cell_type": "code",
   "execution_count": null,
   "metadata": {},
   "outputs": [],
   "source": []
  },
  {
   "cell_type": "code",
   "execution_count": null,
   "metadata": {},
   "outputs": [],
   "source": []
  },
  {
   "cell_type": "code",
   "execution_count": null,
   "metadata": {},
   "outputs": [],
   "source": []
  },
  {
   "cell_type": "code",
   "execution_count": null,
   "metadata": {},
   "outputs": [],
   "source": []
  },
  {
   "cell_type": "code",
   "execution_count": null,
   "metadata": {},
   "outputs": [],
   "source": []
  },
  {
   "cell_type": "code",
   "execution_count": null,
   "metadata": {},
   "outputs": [],
   "source": []
  },
  {
   "cell_type": "code",
   "execution_count": null,
   "metadata": {},
   "outputs": [],
   "source": []
  },
  {
   "cell_type": "code",
   "execution_count": null,
   "metadata": {},
   "outputs": [],
   "source": []
  },
  {
   "cell_type": "code",
   "execution_count": null,
   "metadata": {},
   "outputs": [],
   "source": []
  },
  {
   "cell_type": "code",
   "execution_count": null,
   "metadata": {},
   "outputs": [],
   "source": []
  },
  {
   "cell_type": "code",
   "execution_count": null,
   "metadata": {},
   "outputs": [],
   "source": []
  },
  {
   "cell_type": "code",
   "execution_count": null,
   "metadata": {},
   "outputs": [],
   "source": []
  },
  {
   "cell_type": "code",
   "execution_count": null,
   "metadata": {},
   "outputs": [],
   "source": []
  },
  {
   "cell_type": "code",
   "execution_count": null,
   "metadata": {},
   "outputs": [],
   "source": []
  },
  {
   "cell_type": "code",
   "execution_count": null,
   "metadata": {},
   "outputs": [],
   "source": []
  },
  {
   "cell_type": "code",
   "execution_count": null,
   "metadata": {},
   "outputs": [],
   "source": []
  },
  {
   "cell_type": "code",
   "execution_count": null,
   "metadata": {},
   "outputs": [],
   "source": []
  },
  {
   "cell_type": "code",
   "execution_count": null,
   "metadata": {},
   "outputs": [],
   "source": []
  },
  {
   "cell_type": "code",
   "execution_count": null,
   "metadata": {},
   "outputs": [],
   "source": []
  },
  {
   "cell_type": "code",
   "execution_count": null,
   "metadata": {},
   "outputs": [],
   "source": []
  },
  {
   "cell_type": "code",
   "execution_count": null,
   "metadata": {},
   "outputs": [],
   "source": []
  },
  {
   "cell_type": "code",
   "execution_count": null,
   "metadata": {},
   "outputs": [],
   "source": []
  },
  {
   "cell_type": "code",
   "execution_count": null,
   "metadata": {},
   "outputs": [],
   "source": []
  },
  {
   "cell_type": "code",
   "execution_count": null,
   "metadata": {},
   "outputs": [],
   "source": []
  },
  {
   "cell_type": "code",
   "execution_count": null,
   "metadata": {},
   "outputs": [],
   "source": []
  },
  {
   "cell_type": "code",
   "execution_count": null,
   "metadata": {},
   "outputs": [],
   "source": []
  },
  {
   "cell_type": "code",
   "execution_count": 125,
   "metadata": {},
   "outputs": [],
   "source": [
    "def make_data_set(data_set, window, type='train'):\n",
    "    \n",
    "    x_data = np.empty((0,2*window),float)\n",
    "    y_data = []\n",
    "    for i in range(len(data_set)):\n",
    "        data = data_set[i]\n",
    "        cycles = data['Cycle_Index'].unique()\n",
    "        for cycle in cycles:\n",
    "            step_time = data[data['Cycle_Index']==cycle].Step_Time.values\n",
    "            voltage = data[data['Cycle_Index']==cycle].Voltage.values\n",
    "            dc_capacity = data[data['Cycle_Index']==cycle].Discharge_Capacity.max()\n",
    "\n",
    "            idx = np.random.randint(0,400-window)\n",
    "            time_x = step_time[idx:idx+window]\n",
    "            voltage_x = voltage[idx:idx+window]\n",
    "\n",
    "            x = np.zeros((1,window*2))\n",
    "            x[0,::2] = voltage_x\n",
    "            x[0,1::2] = time_x\n",
    "            \n",
    "            x_data = np.concatenate((x_data,x),axis=0)\n",
    "            y_data.append(dc_capacity)\n",
    "        \n",
    "    y_data = np.array(y_data)\n",
    "\n",
    "    univariate = tf.data.Dataset.from_tensor_slices((x_data, y_data))\n",
    "    if type == 'train':\n",
    "        univariate = univariate.cache().shuffle(BUFFER_SIZE).batch(BATCH_SIZE).repeat()\n",
    "    elif type == 'val':\n",
    "        univariate = univariate.batch(BATCH_SIZE).repeat()\n",
    "    else:\n",
    "        univariate = univariate.batch(BATCH_SIZE)\n",
    "\n",
    "    return x_data, y_data, univariate"
   ]
  },
  {
   "cell_type": "code",
   "execution_count": 119,
   "metadata": {},
   "outputs": [],
   "source": [
    "x_data,y_data = make_data_set(mit_data[:1],25)"
   ]
  },
  {
   "cell_type": "code",
   "execution_count": 124,
   "metadata": {},
   "outputs": [
    {
     "data": {
      "text/plain": [
       "(847,)"
      ]
     },
     "execution_count": 124,
     "metadata": {},
     "output_type": "execute_result"
    }
   ],
   "source": [
    "y_data.shape"
   ]
  },
  {
   "cell_type": "code",
   "execution_count": 120,
   "metadata": {},
   "outputs": [
    {
     "data": {
      "text/plain": [
       "(847, 50)"
      ]
     },
     "execution_count": 120,
     "metadata": {},
     "output_type": "execute_result"
    }
   ],
   "source": [
    "x_data.shape"
   ]
  },
  {
   "cell_type": "code",
   "execution_count": 26,
   "metadata": {},
   "outputs": [],
   "source": [
    "cycles = test['Cycle_Index'].unique()"
   ]
  },
  {
   "cell_type": "code",
   "execution_count": 29,
   "metadata": {},
   "outputs": [],
   "source": [
    "step_time = test[test['Cycle_Index']==cycles[0]].Step_Time.values\n",
    "voltage = test[test['Cycle_Index']==cycles[0]].Voltage.values\n",
    "dc_capacity = test[test['Cycle_Index']==cycles[0]].Discharge_Capacity.max()"
   ]
  },
  {
   "cell_type": "code",
   "execution_count": 31,
   "metadata": {},
   "outputs": [],
   "source": [
    "window=25\n",
    "idx = np.random.randint(0,400-window)\n",
    "time_x = step_time[idx:idx+window]\n",
    "voltage_x = voltage[idx:idx+window]"
   ]
  },
  {
   "cell_type": "code",
   "execution_count": 100,
   "metadata": {},
   "outputs": [],
   "source": [
    "x_data = np.zeros((1,voltage_x.shape[0]*2))\n",
    "x_data[0,::2] = voltage_x\n",
    "x_data[0,1::2] = time_x"
   ]
  },
  {
   "cell_type": "code",
   "execution_count": 103,
   "metadata": {},
   "outputs": [
    {
     "data": {
      "text/plain": [
       "(1, 50)"
      ]
     },
     "execution_count": 103,
     "metadata": {},
     "output_type": "execute_result"
    }
   ],
   "source": [
    "x_data.shape"
   ]
  },
  {
   "cell_type": "code",
   "execution_count": 104,
   "metadata": {},
   "outputs": [
    {
     "data": {
      "text/plain": [
       "array([[  2.9012256 , 760.54760548,   2.89862957, 762.59762598,\n",
       "          2.89305675, 764.64764648,   2.89098728, 766.69766698,\n",
       "          2.88663886, 768.74768748,   2.88086259, 770.79770798,\n",
       "          2.87632993, 772.84772848,   2.87114327, 774.89774898,\n",
       "          2.86422844, 776.94776948,   2.86097346, 778.99778998,\n",
       "          2.8538944 , 781.04781048,   2.84943632, 783.09783098,\n",
       "          2.84127649, 785.14785148,   2.8347307 , 787.19787198,\n",
       "          2.82966631, 789.24789248,   2.81959307, 791.29791298,\n",
       "          2.81107457, 793.34793348,   2.80520198, 795.39795398,\n",
       "          2.79268312, 797.44797448,   2.78606068, 799.49799498,\n",
       "          2.77468148, 801.54801548,   2.76172808, 803.59803598,\n",
       "          2.75180985, 805.64805648,   2.73928659, 807.69807698,\n",
       "          2.72362582, 809.74809748]])"
      ]
     },
     "execution_count": 104,
     "metadata": {},
     "output_type": "execute_result"
    }
   ],
   "source": [
    "x_data"
   ]
  },
  {
   "cell_type": "code",
   "execution_count": 39,
   "metadata": {},
   "outputs": [],
   "source": [
    "step_time = test[test['Cycle_Index']==cycles[1]].Step_Time.values\n",
    "voltage = test[test['Cycle_Index']==cycles[1]].Voltage.values\n",
    "dc_capacity = test[test['Cycle_Index']==cycles[1]].Discharge_Capacity.max()"
   ]
  },
  {
   "cell_type": "code",
   "execution_count": 40,
   "metadata": {},
   "outputs": [],
   "source": [
    "window=25\n",
    "idx = np.random.randint(0,400-window)\n",
    "time_x = step_time[idx:idx+window]\n",
    "voltage_x = voltage[idx:idx+window]"
   ]
  },
  {
   "cell_type": "code",
   "execution_count": 108,
   "metadata": {},
   "outputs": [],
   "source": [
    "x_data1 = np.zeros((1,voltage_x.shape[0]*2))\n",
    "x_data1[:,::2] = voltage_x\n",
    "x_data1[:,1::2] = time_x"
   ]
  },
  {
   "cell_type": "code",
   "execution_count": 97,
   "metadata": {},
   "outputs": [],
   "source": [
    "arr = np.empty((0,50),float)"
   ]
  },
  {
   "cell_type": "code",
   "execution_count": 113,
   "metadata": {},
   "outputs": [],
   "source": [
    "arr = np.concatenate((arr,x_data1),axis=0)"
   ]
  },
  {
   "cell_type": "code",
   "execution_count": 115,
   "metadata": {},
   "outputs": [
    {
     "data": {
      "text/plain": [
       "(3, 50)"
      ]
     },
     "execution_count": 115,
     "metadata": {},
     "output_type": "execute_result"
    }
   ],
   "source": [
    "arr.shape"
   ]
  },
  {
   "cell_type": "code",
   "execution_count": 110,
   "metadata": {},
   "outputs": [
    {
     "data": {
      "text/plain": [
       "(2, 50)"
      ]
     },
     "execution_count": 110,
     "metadata": {},
     "output_type": "execute_result"
    }
   ],
   "source": [
    "arr.shape"
   ]
  },
  {
   "cell_type": "code",
   "execution_count": 94,
   "metadata": {},
   "outputs": [
    {
     "data": {
      "text/plain": [
       "(50,)"
      ]
     },
     "execution_count": 94,
     "metadata": {},
     "output_type": "execute_result"
    }
   ],
   "source": [
    "x_data.shape"
   ]
  },
  {
   "cell_type": "code",
   "execution_count": 84,
   "metadata": {},
   "outputs": [
    {
     "data": {
      "text/plain": [
       "(0, 50)"
      ]
     },
     "execution_count": 84,
     "metadata": {},
     "output_type": "execute_result"
    }
   ],
   "source": [
    "arr.shape"
   ]
  },
  {
   "cell_type": "code",
   "execution_count": 89,
   "metadata": {},
   "outputs": [
    {
     "data": {
      "text/plain": [
       "array([  3.00062258, 664.44664447,   2.99935515, 666.48666487,\n",
       "         2.99792787, 668.53668537,   2.9964174 , 670.57670577,\n",
       "         2.99488779, 672.62672627,   2.99343238, 674.66674667,\n",
       "         2.99210864, 676.71676717,   2.99080069, 678.75678757,\n",
       "         2.98915181, 680.79680797,   2.98706039, 682.84682847,\n",
       "         2.98550983, 684.88684887,   2.98479048, 686.93686937,\n",
       "         2.98262087, 688.97688977,   2.98146275, 691.02691027,\n",
       "         2.98025737, 693.06693067,   2.97800555, 695.11695117,\n",
       "         2.97590419, 697.15697157,   2.97422107, 699.19699197,\n",
       "         2.97264626, 701.24701247,   2.97091077, 703.28703287,\n",
       "         2.9687736 , 705.33705337,   2.96616019, 707.37707377,\n",
       "         2.96394309, 709.42709427,   2.96315163, 711.46711467,\n",
       "         2.96059195, 713.51713517])"
      ]
     },
     "execution_count": 89,
     "metadata": {},
     "output_type": "execute_result"
    }
   ],
   "source": [
    "x_data"
   ]
  },
  {
   "cell_type": "code",
   "execution_count": null,
   "metadata": {},
   "outputs": [],
   "source": []
  },
  {
   "cell_type": "code",
   "execution_count": 81,
   "metadata": {},
   "outputs": [
    {
     "ename": "IndexError",
     "evalue": "index 0 is out of bounds for axis 0 with size 0",
     "output_type": "error",
     "traceback": [
      "\u001b[0;31m---------------------------------------------------------------------------\u001b[0m",
      "\u001b[0;31mIndexError\u001b[0m                                Traceback (most recent call last)",
      "\u001b[0;32m<ipython-input-81-a044ed6cf7c8>\u001b[0m in \u001b[0;36m<module>\u001b[0;34m\u001b[0m\n\u001b[0;32m----> 1\u001b[0;31m \u001b[0marr\u001b[0m\u001b[0;34m[\u001b[0m\u001b[0;36m0\u001b[0m\u001b[0;34m,\u001b[0m\u001b[0;34m:\u001b[0m\u001b[0;34m]\u001b[0m \u001b[0;34m=\u001b[0m \u001b[0mx_data1\u001b[0m\u001b[0;34m\u001b[0m\u001b[0;34m\u001b[0m\u001b[0m\n\u001b[0m",
      "\u001b[0;31mIndexError\u001b[0m: index 0 is out of bounds for axis 0 with size 0"
     ]
    }
   ],
   "source": [
    "arr[0,:] = x_data1"
   ]
  },
  {
   "cell_type": "code",
   "execution_count": 76,
   "metadata": {},
   "outputs": [
    {
     "data": {
      "text/plain": [
       "(50,)"
      ]
     },
     "execution_count": 76,
     "metadata": {},
     "output_type": "execute_result"
    }
   ],
   "source": [
    "x_data1.shape"
   ]
  },
  {
   "cell_type": "code",
   "execution_count": 79,
   "metadata": {},
   "outputs": [],
   "source": [
    "arr = np.empty((0,50))"
   ]
  },
  {
   "cell_type": "code",
   "execution_count": 86,
   "metadata": {},
   "outputs": [
    {
     "ename": "ValueError",
     "evalue": "all the input arrays must have same number of dimensions, but the array at index 0 has 2 dimension(s) and the array at index 1 has 1 dimension(s)",
     "output_type": "error",
     "traceback": [
      "\u001b[0;31m---------------------------------------------------------------------------\u001b[0m",
      "\u001b[0;31mValueError\u001b[0m                                Traceback (most recent call last)",
      "\u001b[0;32m<ipython-input-86-ea1199d7d8c1>\u001b[0m in \u001b[0;36m<module>\u001b[0;34m\u001b[0m\n\u001b[0;32m----> 1\u001b[0;31m \u001b[0marr\u001b[0m \u001b[0;34m=\u001b[0m \u001b[0mnp\u001b[0m\u001b[0;34m.\u001b[0m\u001b[0mconcatenate\u001b[0m\u001b[0;34m(\u001b[0m\u001b[0;34m(\u001b[0m\u001b[0marr\u001b[0m\u001b[0;34m,\u001b[0m\u001b[0mx_data1\u001b[0m\u001b[0;34m.\u001b[0m\u001b[0mT\u001b[0m\u001b[0;34m)\u001b[0m\u001b[0;34m,\u001b[0m\u001b[0maxis\u001b[0m\u001b[0;34m=\u001b[0m\u001b[0;36m0\u001b[0m\u001b[0;34m)\u001b[0m\u001b[0;34m\u001b[0m\u001b[0;34m\u001b[0m\u001b[0m\n\u001b[0m",
      "\u001b[0;32m<__array_function__ internals>\u001b[0m in \u001b[0;36mconcatenate\u001b[0;34m(*args, **kwargs)\u001b[0m\n",
      "\u001b[0;31mValueError\u001b[0m: all the input arrays must have same number of dimensions, but the array at index 0 has 2 dimension(s) and the array at index 1 has 1 dimension(s)"
     ]
    }
   ],
   "source": [
    "arr = np.concatenate((arr,x_data1.T),axis=0)"
   ]
  },
  {
   "cell_type": "code",
   "execution_count": 72,
   "metadata": {},
   "outputs": [
    {
     "data": {
      "text/plain": [
       "array([], shape=(0, 3), dtype=float64)"
      ]
     },
     "execution_count": 72,
     "metadata": {},
     "output_type": "execute_result"
    }
   ],
   "source": [
    "arr"
   ]
  },
  {
   "cell_type": "code",
   "execution_count": 70,
   "metadata": {},
   "outputs": [
    {
     "data": {
      "text/plain": [
       "(100,)"
      ]
     },
     "execution_count": 70,
     "metadata": {},
     "output_type": "execute_result"
    }
   ],
   "source": [
    "arr.shape"
   ]
  },
  {
   "cell_type": "code",
   "execution_count": null,
   "metadata": {},
   "outputs": [],
   "source": [
    "data_list = []\n",
    "    for i in range(len(data_set)):\n",
    "        for j in range(len(data_set[i]) // 400):\n",
    "            data_list.append([data_set[i].iloc[j * 400:(j + 1) * 400, 1], data_set[i].iloc[j * 400, 2]])\n",
    "\n",
    "    x_data, y_data = [x for x, _ in data_list], [y for _, y in data_list]\n",
    "    x_data, y_data = np.array(x_data), np.array(y_data)\n",
    "    x_data = x_data.reshape((x_data.shape[0], x_data.shape[1], 1))"
   ]
  },
  {
   "cell_type": "code",
   "execution_count": 9,
   "metadata": {},
   "outputs": [
    {
     "data": {
      "text/html": [
       "<div>\n",
       "<style scoped>\n",
       "    .dataframe tbody tr th:only-of-type {\n",
       "        vertical-align: middle;\n",
       "    }\n",
       "\n",
       "    .dataframe tbody tr th {\n",
       "        vertical-align: top;\n",
       "    }\n",
       "\n",
       "    .dataframe thead th {\n",
       "        text-align: right;\n",
       "    }\n",
       "</style>\n",
       "<table border=\"1\" class=\"dataframe\">\n",
       "  <thead>\n",
       "    <tr style=\"text-align: right;\">\n",
       "      <th></th>\n",
       "      <th>Step_Time</th>\n",
       "      <th>Voltage</th>\n",
       "      <th>Discharge_Capacity</th>\n",
       "      <th>Cycle_Index</th>\n",
       "    </tr>\n",
       "  </thead>\n",
       "  <tbody>\n",
       "    <tr>\n",
       "      <th>0</th>\n",
       "      <td>0.000000</td>\n",
       "      <td>3.214887</td>\n",
       "      <td>0.938784</td>\n",
       "      <td>1.0</td>\n",
       "    </tr>\n",
       "    <tr>\n",
       "      <th>1</th>\n",
       "      <td>2.040020</td>\n",
       "      <td>3.210973</td>\n",
       "      <td>0.938784</td>\n",
       "      <td>1.0</td>\n",
       "    </tr>\n",
       "    <tr>\n",
       "      <th>2</th>\n",
       "      <td>4.080041</td>\n",
       "      <td>3.207391</td>\n",
       "      <td>0.938784</td>\n",
       "      <td>1.0</td>\n",
       "    </tr>\n",
       "    <tr>\n",
       "      <th>3</th>\n",
       "      <td>6.130061</td>\n",
       "      <td>3.204164</td>\n",
       "      <td>0.938784</td>\n",
       "      <td>1.0</td>\n",
       "    </tr>\n",
       "    <tr>\n",
       "      <th>4</th>\n",
       "      <td>8.170082</td>\n",
       "      <td>3.201363</td>\n",
       "      <td>0.938784</td>\n",
       "      <td>1.0</td>\n",
       "    </tr>\n",
       "    <tr>\n",
       "      <th>...</th>\n",
       "      <td>...</td>\n",
       "      <td>...</td>\n",
       "      <td>...</td>\n",
       "      <td>...</td>\n",
       "    </tr>\n",
       "    <tr>\n",
       "      <th>338795</th>\n",
       "      <td>570.965710</td>\n",
       "      <td>2.691555</td>\n",
       "      <td>0.663292</td>\n",
       "      <td>854.0</td>\n",
       "    </tr>\n",
       "    <tr>\n",
       "      <th>338796</th>\n",
       "      <td>572.405724</td>\n",
       "      <td>2.681730</td>\n",
       "      <td>0.663292</td>\n",
       "      <td>854.0</td>\n",
       "    </tr>\n",
       "    <tr>\n",
       "      <th>338797</th>\n",
       "      <td>573.855739</td>\n",
       "      <td>2.677373</td>\n",
       "      <td>0.663292</td>\n",
       "      <td>854.0</td>\n",
       "    </tr>\n",
       "    <tr>\n",
       "      <th>338798</th>\n",
       "      <td>575.295753</td>\n",
       "      <td>2.666758</td>\n",
       "      <td>0.663292</td>\n",
       "      <td>854.0</td>\n",
       "    </tr>\n",
       "    <tr>\n",
       "      <th>338799</th>\n",
       "      <td>576.745767</td>\n",
       "      <td>2.658693</td>\n",
       "      <td>0.663292</td>\n",
       "      <td>854.0</td>\n",
       "    </tr>\n",
       "  </tbody>\n",
       "</table>\n",
       "<p>338800 rows × 4 columns</p>\n",
       "</div>"
      ],
      "text/plain": [
       "         Step_Time   Voltage  Discharge_Capacity  Cycle_Index\n",
       "0         0.000000  3.214887            0.938784          1.0\n",
       "1         2.040020  3.210973            0.938784          1.0\n",
       "2         4.080041  3.207391            0.938784          1.0\n",
       "3         6.130061  3.204164            0.938784          1.0\n",
       "4         8.170082  3.201363            0.938784          1.0\n",
       "...            ...       ...                 ...          ...\n",
       "338795  570.965710  2.691555            0.663292        854.0\n",
       "338796  572.405724  2.681730            0.663292        854.0\n",
       "338797  573.855739  2.677373            0.663292        854.0\n",
       "338798  575.295753  2.666758            0.663292        854.0\n",
       "338799  576.745767  2.658693            0.663292        854.0\n",
       "\n",
       "[338800 rows x 4 columns]"
      ]
     },
     "execution_count": 9,
     "metadata": {},
     "output_type": "execute_result"
    }
   ],
   "source": [
    "mit_data[0]"
   ]
  },
  {
   "cell_type": "code",
   "execution_count": 10,
   "metadata": {},
   "outputs": [],
   "source": [
    "test = mit_data[0]"
   ]
  },
  {
   "cell_type": "code",
   "execution_count": 12,
   "metadata": {},
   "outputs": [],
   "source": [
    "cycle = test['Cycle_Index'].unique()"
   ]
  },
  {
   "cell_type": "code",
   "execution_count": 21,
   "metadata": {},
   "outputs": [
    {
     "data": {
      "text/plain": [
       "array([3.2176399 , 3.20834679, 3.20772849, 3.20744749, 3.20452122,\n",
       "       3.20069847, 3.19758772, 3.19594409, 3.19505795, 3.19266808,\n",
       "       3.19161574, 3.18999336, 3.18840362, 3.18788385, 3.18653211,\n",
       "       3.18517672, 3.18423438, 3.18334725, 3.18223185, 3.18132854,\n",
       "       3.18099862, 3.18002034, 3.17939902, 3.1787955 , 3.17793503])"
      ]
     },
     "execution_count": 21,
     "metadata": {},
     "output_type": "execute_result"
    }
   ],
   "source": [
    "test[test['Cycle_Index']==cycle[1]].Voltage.values[0:25]"
   ]
  },
  {
   "cell_type": "code",
   "execution_count": null,
   "metadata": {},
   "outputs": [],
   "source": [
    "y_data = []\n",
    "for i in range(len(data_set)):\n",
    "    data = data_set[i]\n",
    "    cycles = data['Cycle_Index'].unique()\n",
    "    for cycle in cycles:\n",
    "        step_time = data[data['Cycle_Index']==cycle].Step_Time.values\n",
    "        voltage = data[data['Cycle_Index']==cycle].Voltage.values\n",
    "        dc_capacity = data[data['Cycle_Index']==cycle].Discharge_Capacity.max()\n",
    "        \n",
    "        idx = np.random.randint(0,400-window)\n",
    "        time_x = step_time[idx:idx+window]\n",
    "        voltage_x = voltage[idx:idx+window]\n",
    "        \n",
    "        x_data = np.zeros((voltage_x.shape[0]*2))\n",
    "        x[::2] = voltage_x\n",
    "        x[1::2] = time_x\n",
    "        \n",
    "        y_data.append(dc_capacity)\n",
    "        \n",
    "        return x_data, np.array(y_data)"
   ]
  },
  {
   "cell_type": "code",
   "execution_count": 22,
   "metadata": {},
   "outputs": [
    {
     "name": "stdout",
     "output_type": "stream",
     "text": [
      "1.0\n",
      "2.0\n",
      "3.0\n",
      "4.0\n",
      "5.0\n",
      "6.0\n",
      "7.0\n",
      "8.0\n",
      "9.0\n",
      "10.0\n",
      "11.0\n",
      "12.0\n",
      "13.0\n",
      "14.0\n",
      "15.0\n",
      "16.0\n",
      "17.0\n",
      "18.0\n",
      "19.0\n",
      "20.0\n",
      "21.0\n",
      "22.0\n",
      "23.0\n",
      "24.0\n",
      "25.0\n",
      "26.0\n",
      "27.0\n",
      "28.0\n",
      "29.0\n",
      "30.0\n",
      "31.0\n",
      "32.0\n",
      "33.0\n",
      "34.0\n",
      "35.0\n",
      "36.0\n",
      "37.0\n",
      "38.0\n",
      "39.0\n",
      "40.0\n",
      "41.0\n",
      "42.0\n",
      "43.0\n",
      "44.0\n",
      "45.0\n",
      "46.0\n",
      "47.0\n",
      "48.0\n",
      "49.0\n",
      "50.0\n",
      "51.0\n",
      "52.0\n",
      "53.0\n",
      "54.0\n",
      "55.0\n",
      "56.0\n",
      "57.0\n",
      "58.0\n",
      "59.0\n",
      "60.0\n",
      "61.0\n",
      "62.0\n",
      "63.0\n",
      "64.0\n",
      "65.0\n",
      "66.0\n",
      "67.0\n",
      "68.0\n",
      "69.0\n",
      "70.0\n",
      "71.0\n",
      "72.0\n",
      "73.0\n",
      "74.0\n",
      "75.0\n",
      "76.0\n",
      "77.0\n",
      "79.0\n",
      "80.0\n",
      "81.0\n",
      "82.0\n",
      "83.0\n",
      "84.0\n",
      "85.0\n",
      "86.0\n",
      "87.0\n",
      "88.0\n",
      "89.0\n",
      "90.0\n",
      "91.0\n",
      "92.0\n",
      "93.0\n",
      "94.0\n",
      "95.0\n",
      "96.0\n",
      "97.0\n",
      "98.0\n",
      "99.0\n",
      "100.0\n",
      "101.0\n",
      "102.0\n",
      "103.0\n",
      "104.0\n",
      "105.0\n",
      "106.0\n",
      "107.0\n",
      "108.0\n",
      "109.0\n",
      "110.0\n",
      "111.0\n",
      "112.0\n",
      "113.0\n",
      "114.0\n",
      "115.0\n",
      "116.0\n",
      "117.0\n",
      "118.0\n",
      "119.0\n",
      "120.0\n",
      "121.0\n",
      "122.0\n",
      "123.0\n",
      "124.0\n",
      "125.0\n",
      "126.0\n",
      "127.0\n",
      "128.0\n",
      "129.0\n",
      "130.0\n",
      "131.0\n",
      "132.0\n",
      "133.0\n",
      "134.0\n",
      "135.0\n",
      "136.0\n",
      "137.0\n",
      "138.0\n",
      "139.0\n",
      "140.0\n",
      "141.0\n",
      "142.0\n",
      "143.0\n",
      "144.0\n",
      "145.0\n",
      "146.0\n",
      "147.0\n",
      "148.0\n",
      "149.0\n",
      "150.0\n",
      "151.0\n",
      "152.0\n",
      "153.0\n",
      "154.0\n",
      "155.0\n",
      "156.0\n",
      "157.0\n",
      "158.0\n",
      "159.0\n",
      "160.0\n",
      "161.0\n",
      "162.0\n",
      "163.0\n",
      "164.0\n",
      "165.0\n",
      "166.0\n",
      "167.0\n",
      "168.0\n",
      "169.0\n",
      "170.0\n",
      "171.0\n",
      "172.0\n",
      "173.0\n",
      "174.0\n",
      "175.0\n",
      "176.0\n",
      "177.0\n",
      "178.0\n",
      "179.0\n",
      "180.0\n",
      "181.0\n",
      "182.0\n",
      "183.0\n",
      "184.0\n",
      "185.0\n",
      "186.0\n",
      "187.0\n",
      "188.0\n",
      "189.0\n",
      "190.0\n",
      "191.0\n",
      "192.0\n",
      "193.0\n",
      "194.0\n",
      "195.0\n",
      "196.0\n",
      "197.0\n",
      "198.0\n",
      "199.0\n",
      "200.0\n",
      "201.0\n",
      "202.0\n",
      "203.0\n",
      "204.0\n",
      "205.0\n",
      "206.0\n",
      "207.0\n",
      "208.0\n",
      "209.0\n",
      "210.0\n",
      "211.0\n",
      "212.0\n",
      "213.0\n",
      "214.0\n",
      "215.0\n",
      "216.0\n",
      "217.0\n",
      "218.0\n",
      "219.0\n",
      "220.0\n",
      "221.0\n",
      "222.0\n",
      "223.0\n",
      "224.0\n",
      "225.0\n",
      "226.0\n",
      "227.0\n",
      "228.0\n",
      "229.0\n",
      "230.0\n",
      "231.0\n",
      "232.0\n",
      "233.0\n",
      "234.0\n",
      "235.0\n",
      "236.0\n",
      "237.0\n",
      "238.0\n",
      "239.0\n",
      "240.0\n",
      "241.0\n",
      "242.0\n",
      "243.0\n",
      "244.0\n",
      "245.0\n",
      "246.0\n",
      "247.0\n",
      "248.0\n",
      "249.0\n",
      "250.0\n",
      "251.0\n",
      "252.0\n",
      "253.0\n",
      "254.0\n",
      "255.0\n",
      "256.0\n",
      "257.0\n",
      "258.0\n",
      "259.0\n",
      "260.0\n",
      "261.0\n",
      "262.0\n",
      "263.0\n",
      "264.0\n",
      "265.0\n",
      "266.0\n",
      "267.0\n",
      "268.0\n",
      "269.0\n",
      "270.0\n",
      "271.0\n",
      "272.0\n",
      "273.0\n",
      "274.0\n",
      "275.0\n",
      "276.0\n",
      "277.0\n",
      "278.0\n",
      "279.0\n",
      "280.0\n",
      "281.0\n",
      "282.0\n",
      "283.0\n",
      "284.0\n",
      "285.0\n",
      "286.0\n",
      "287.0\n",
      "288.0\n",
      "289.0\n",
      "290.0\n",
      "291.0\n",
      "292.0\n",
      "293.0\n",
      "294.0\n",
      "295.0\n",
      "296.0\n",
      "297.0\n",
      "298.0\n",
      "299.0\n",
      "300.0\n",
      "301.0\n",
      "302.0\n",
      "303.0\n",
      "304.0\n",
      "305.0\n",
      "306.0\n",
      "307.0\n",
      "308.0\n",
      "309.0\n",
      "310.0\n",
      "311.0\n",
      "312.0\n",
      "313.0\n",
      "314.0\n",
      "315.0\n",
      "316.0\n",
      "317.0\n",
      "318.0\n",
      "319.0\n",
      "320.0\n",
      "321.0\n",
      "322.0\n",
      "323.0\n",
      "324.0\n",
      "325.0\n",
      "326.0\n",
      "327.0\n",
      "328.0\n",
      "329.0\n",
      "330.0\n",
      "331.0\n",
      "332.0\n",
      "333.0\n",
      "334.0\n",
      "335.0\n",
      "336.0\n",
      "337.0\n",
      "338.0\n",
      "339.0\n",
      "340.0\n",
      "341.0\n",
      "342.0\n",
      "343.0\n",
      "344.0\n",
      "345.0\n",
      "346.0\n",
      "347.0\n",
      "348.0\n",
      "349.0\n",
      "350.0\n",
      "351.0\n",
      "352.0\n",
      "353.0\n",
      "354.0\n",
      "355.0\n",
      "356.0\n",
      "357.0\n",
      "358.0\n",
      "359.0\n",
      "360.0\n",
      "361.0\n",
      "362.0\n",
      "364.0\n",
      "365.0\n",
      "366.0\n",
      "367.0\n",
      "368.0\n",
      "369.0\n",
      "370.0\n",
      "371.0\n",
      "372.0\n",
      "373.0\n",
      "374.0\n",
      "375.0\n",
      "376.0\n",
      "377.0\n",
      "378.0\n",
      "379.0\n",
      "380.0\n",
      "381.0\n",
      "382.0\n",
      "383.0\n",
      "384.0\n",
      "385.0\n",
      "386.0\n",
      "387.0\n",
      "388.0\n",
      "389.0\n",
      "390.0\n",
      "391.0\n",
      "392.0\n",
      "393.0\n",
      "394.0\n",
      "395.0\n",
      "396.0\n",
      "397.0\n",
      "398.0\n",
      "399.0\n",
      "400.0\n",
      "401.0\n",
      "402.0\n",
      "403.0\n",
      "404.0\n",
      "405.0\n",
      "406.0\n",
      "407.0\n",
      "408.0\n",
      "409.0\n",
      "410.0\n",
      "411.0\n",
      "412.0\n",
      "413.0\n",
      "414.0\n",
      "415.0\n",
      "416.0\n",
      "417.0\n",
      "418.0\n",
      "419.0\n",
      "420.0\n",
      "421.0\n",
      "422.0\n",
      "423.0\n",
      "424.0\n",
      "425.0\n",
      "426.0\n",
      "427.0\n",
      "428.0\n",
      "429.0\n",
      "430.0\n",
      "431.0\n",
      "432.0\n",
      "433.0\n",
      "434.0\n",
      "435.0\n",
      "436.0\n",
      "437.0\n",
      "438.0\n",
      "439.0\n",
      "440.0\n",
      "441.0\n",
      "442.0\n",
      "443.0\n",
      "444.0\n",
      "445.0\n",
      "446.0\n",
      "447.0\n",
      "448.0\n",
      "449.0\n",
      "450.0\n",
      "451.0\n",
      "452.0\n",
      "453.0\n",
      "454.0\n",
      "455.0\n",
      "456.0\n",
      "457.0\n",
      "458.0\n",
      "459.0\n",
      "460.0\n",
      "461.0\n",
      "462.0\n",
      "463.0\n",
      "464.0\n",
      "465.0\n",
      "466.0\n",
      "467.0\n",
      "468.0\n",
      "469.0\n",
      "470.0\n",
      "471.0\n",
      "472.0\n",
      "473.0\n",
      "474.0\n",
      "475.0\n",
      "476.0\n",
      "477.0\n",
      "478.0\n",
      "479.0\n",
      "480.0\n",
      "481.0\n",
      "482.0\n",
      "483.0\n",
      "484.0\n",
      "485.0\n",
      "486.0\n",
      "487.0\n",
      "488.0\n",
      "489.0\n",
      "490.0\n",
      "491.0\n",
      "492.0\n",
      "493.0\n",
      "494.0\n",
      "495.0\n",
      "496.0\n",
      "497.0\n",
      "498.0\n",
      "499.0\n",
      "500.0\n",
      "501.0\n",
      "502.0\n",
      "503.0\n",
      "504.0\n",
      "505.0\n",
      "506.0\n",
      "507.0\n",
      "508.0\n",
      "509.0\n",
      "510.0\n",
      "511.0\n",
      "512.0\n",
      "513.0\n",
      "514.0\n",
      "515.0\n",
      "516.0\n",
      "517.0\n",
      "518.0\n",
      "519.0\n",
      "520.0\n",
      "521.0\n",
      "522.0\n",
      "523.0\n",
      "524.0\n",
      "525.0\n",
      "526.0\n",
      "527.0\n",
      "528.0\n",
      "529.0\n",
      "530.0\n",
      "531.0\n",
      "532.0\n",
      "533.0\n",
      "534.0\n",
      "535.0\n",
      "536.0\n",
      "537.0\n",
      "538.0\n",
      "539.0\n",
      "540.0\n",
      "541.0\n",
      "542.0\n",
      "543.0\n",
      "544.0\n",
      "545.0\n",
      "546.0\n",
      "547.0\n",
      "548.0\n",
      "549.0\n",
      "550.0\n",
      "551.0\n",
      "552.0\n",
      "553.0\n",
      "554.0\n",
      "555.0\n",
      "556.0\n",
      "557.0\n",
      "558.0\n",
      "559.0\n",
      "560.0\n",
      "561.0\n",
      "562.0\n",
      "563.0\n",
      "564.0\n",
      "565.0\n",
      "566.0\n",
      "567.0\n",
      "568.0\n",
      "569.0\n",
      "570.0\n",
      "571.0\n",
      "572.0\n",
      "573.0\n",
      "574.0\n",
      "575.0\n",
      "576.0\n",
      "577.0\n",
      "578.0\n",
      "579.0\n",
      "580.0\n",
      "581.0\n",
      "582.0\n",
      "583.0\n",
      "584.0\n",
      "585.0\n",
      "586.0\n",
      "588.0\n",
      "589.0\n",
      "590.0\n",
      "591.0\n",
      "592.0\n",
      "593.0\n",
      "594.0\n",
      "595.0\n",
      "597.0\n",
      "598.0\n",
      "599.0\n",
      "600.0\n",
      "601.0\n",
      "602.0\n",
      "603.0\n",
      "604.0\n",
      "605.0\n",
      "606.0\n",
      "608.0\n",
      "609.0\n",
      "610.0\n",
      "611.0\n",
      "612.0\n",
      "613.0\n",
      "614.0\n",
      "615.0\n",
      "616.0\n",
      "617.0\n",
      "618.0\n",
      "619.0\n",
      "620.0\n",
      "621.0\n",
      "622.0\n",
      "623.0\n",
      "624.0\n",
      "625.0\n",
      "626.0\n",
      "627.0\n",
      "628.0\n",
      "629.0\n",
      "630.0\n",
      "631.0\n",
      "632.0\n",
      "633.0\n",
      "634.0\n",
      "635.0\n",
      "636.0\n",
      "637.0\n",
      "638.0\n",
      "639.0\n",
      "640.0\n",
      "641.0\n",
      "642.0\n",
      "643.0\n",
      "644.0\n",
      "645.0\n",
      "646.0\n",
      "647.0\n",
      "648.0\n",
      "649.0\n",
      "650.0\n",
      "651.0\n",
      "652.0\n",
      "653.0\n",
      "654.0\n",
      "655.0\n",
      "656.0\n",
      "657.0\n",
      "658.0\n",
      "659.0\n",
      "660.0\n",
      "661.0\n",
      "662.0\n",
      "663.0\n",
      "664.0\n",
      "665.0\n",
      "666.0\n",
      "667.0\n",
      "668.0\n",
      "669.0\n",
      "670.0\n",
      "671.0\n",
      "672.0\n",
      "673.0\n",
      "674.0\n",
      "675.0\n",
      "676.0\n",
      "677.0\n",
      "678.0\n",
      "679.0\n",
      "680.0\n",
      "681.0\n",
      "682.0\n",
      "683.0\n",
      "684.0\n",
      "685.0\n",
      "686.0\n",
      "687.0\n",
      "688.0\n",
      "689.0\n",
      "690.0\n",
      "691.0\n",
      "692.0\n",
      "693.0\n",
      "694.0\n",
      "695.0\n",
      "696.0\n",
      "697.0\n",
      "698.0\n",
      "699.0\n",
      "700.0\n",
      "701.0\n",
      "702.0\n",
      "703.0\n",
      "704.0\n",
      "705.0\n",
      "706.0\n",
      "707.0\n",
      "708.0\n",
      "709.0\n",
      "710.0\n",
      "711.0\n",
      "712.0\n",
      "713.0\n",
      "714.0\n",
      "715.0\n",
      "716.0\n",
      "717.0\n",
      "718.0\n",
      "719.0\n",
      "720.0\n",
      "721.0\n",
      "722.0\n",
      "723.0\n",
      "724.0\n",
      "725.0\n",
      "726.0\n",
      "727.0\n",
      "728.0\n",
      "729.0\n",
      "730.0\n",
      "731.0\n",
      "732.0\n",
      "733.0\n",
      "734.0\n",
      "735.0\n",
      "736.0\n",
      "737.0\n",
      "738.0\n",
      "739.0\n",
      "740.0\n",
      "741.0\n",
      "742.0\n",
      "743.0\n",
      "744.0\n",
      "746.0\n",
      "748.0\n",
      "749.0\n",
      "750.0\n",
      "751.0\n",
      "752.0\n",
      "753.0\n",
      "754.0\n",
      "755.0\n",
      "756.0\n",
      "757.0\n",
      "758.0\n",
      "759.0\n",
      "760.0\n",
      "761.0\n",
      "762.0\n",
      "763.0\n",
      "764.0\n",
      "765.0\n",
      "766.0\n",
      "767.0\n",
      "768.0\n",
      "769.0\n",
      "770.0\n",
      "771.0\n",
      "772.0\n",
      "773.0\n",
      "774.0\n",
      "775.0\n",
      "776.0\n",
      "777.0\n",
      "778.0\n",
      "779.0\n",
      "780.0\n",
      "781.0\n",
      "782.0\n",
      "783.0\n",
      "784.0\n",
      "785.0\n",
      "786.0\n",
      "787.0\n",
      "788.0\n",
      "789.0\n",
      "790.0\n",
      "791.0\n",
      "792.0\n",
      "793.0\n",
      "794.0\n",
      "795.0\n",
      "796.0\n",
      "797.0\n",
      "798.0\n",
      "799.0\n",
      "800.0\n",
      "801.0\n",
      "802.0\n",
      "803.0\n",
      "804.0\n",
      "805.0\n",
      "806.0\n",
      "807.0\n",
      "808.0\n",
      "809.0\n",
      "810.0\n",
      "811.0\n",
      "812.0\n",
      "813.0\n",
      "814.0\n",
      "815.0\n",
      "816.0\n",
      "817.0\n",
      "818.0\n",
      "819.0\n",
      "820.0\n",
      "821.0\n",
      "822.0\n",
      "823.0\n",
      "824.0\n",
      "825.0\n",
      "826.0\n",
      "827.0\n",
      "828.0\n",
      "829.0\n",
      "830.0\n",
      "831.0\n",
      "832.0\n",
      "833.0\n",
      "834.0\n",
      "835.0\n",
      "836.0\n",
      "837.0\n",
      "838.0\n",
      "839.0\n",
      "840.0\n",
      "841.0\n",
      "842.0\n",
      "843.0\n",
      "844.0\n",
      "845.0\n",
      "846.0\n",
      "847.0\n",
      "848.0\n",
      "849.0\n",
      "850.0\n",
      "851.0\n",
      "852.0\n",
      "853.0\n",
      "854.0\n"
     ]
    }
   ],
   "source": [
    "for x in cycle:\n",
    "    print(x)"
   ]
  },
  {
   "cell_type": "code",
   "execution_count": null,
   "metadata": {},
   "outputs": [],
   "source": []
  },
  {
   "cell_type": "code",
   "execution_count": null,
   "metadata": {},
   "outputs": [],
   "source": []
  },
  {
   "cell_type": "code",
   "execution_count": null,
   "metadata": {},
   "outputs": [],
   "source": []
  },
  {
   "cell_type": "code",
   "execution_count": null,
   "metadata": {},
   "outputs": [],
   "source": []
  },
  {
   "cell_type": "code",
   "execution_count": null,
   "metadata": {},
   "outputs": [],
   "source": []
  },
  {
   "cell_type": "code",
   "execution_count": null,
   "metadata": {},
   "outputs": [],
   "source": []
  },
  {
   "cell_type": "code",
   "execution_count": null,
   "metadata": {},
   "outputs": [],
   "source": []
  },
  {
   "cell_type": "code",
   "execution_count": 133,
   "metadata": {},
   "outputs": [],
   "source": [
    "data_set = mit_data"
   ]
  },
  {
   "cell_type": "code",
   "execution_count": 134,
   "metadata": {},
   "outputs": [],
   "source": [
    "cycles = []"
   ]
  },
  {
   "cell_type": "code",
   "execution_count": 135,
   "metadata": {},
   "outputs": [],
   "source": [
    "for x in data_set:\n",
    "    cycles.append(x.Cycle_Index.unique())"
   ]
  },
  {
   "cell_type": "code",
   "execution_count": 137,
   "metadata": {},
   "outputs": [],
   "source": [
    "spc = [x.shape[0] for x in cycles]"
   ]
  },
  {
   "cell_type": "code",
   "execution_count": 138,
   "metadata": {},
   "outputs": [],
   "source": [
    "cumsum = np.cumsum(spc)"
   ]
  },
  {
   "cell_type": "code",
   "execution_count": 174,
   "metadata": {},
   "outputs": [],
   "source": [
    "idx = 1000"
   ]
  },
  {
   "cell_type": "code",
   "execution_count": 175,
   "metadata": {},
   "outputs": [],
   "source": [
    "cell_no = bisect(cumsum,idx)"
   ]
  },
  {
   "cell_type": "code",
   "execution_count": 176,
   "metadata": {},
   "outputs": [
    {
     "data": {
      "text/plain": [
       "1"
      ]
     },
     "execution_count": 176,
     "metadata": {},
     "output_type": "execute_result"
    }
   ],
   "source": [
    "cell_no"
   ]
  },
  {
   "cell_type": "code",
   "execution_count": 177,
   "metadata": {},
   "outputs": [],
   "source": [
    "ind = idx if cell_no ==0 else idx-cumsum[cell_no-1]"
   ]
  },
  {
   "cell_type": "code",
   "execution_count": 178,
   "metadata": {},
   "outputs": [
    {
     "data": {
      "text/plain": [
       "153"
      ]
     },
     "execution_count": 178,
     "metadata": {},
     "output_type": "execute_result"
    }
   ],
   "source": [
    "ind"
   ]
  },
  {
   "cell_type": "code",
   "execution_count": 179,
   "metadata": {},
   "outputs": [
    {
     "data": {
      "text/plain": [
       "155.0"
      ]
     },
     "execution_count": 179,
     "metadata": {},
     "output_type": "execute_result"
    }
   ],
   "source": [
    "cycles[cell_no][ind]"
   ]
  },
  {
   "cell_type": "code",
   "execution_count": 180,
   "metadata": {},
   "outputs": [
    {
     "data": {
      "text/plain": [
       "array([ 847, 1404, 2101, 2937, 3807, 4816])"
      ]
     },
     "execution_count": 180,
     "metadata": {},
     "output_type": "execute_result"
    }
   ],
   "source": [
    "cumsum"
   ]
  },
  {
   "cell_type": "code",
   "execution_count": 153,
   "metadata": {},
   "outputs": [
    {
     "data": {
      "text/plain": [
       "0           1.0\n",
       "1           1.0\n",
       "2           1.0\n",
       "3           1.0\n",
       "4           1.0\n",
       "          ...  \n",
       "338795    854.0\n",
       "338796    854.0\n",
       "338797    854.0\n",
       "338798    854.0\n",
       "338799    854.0\n",
       "Name: Cycle_Index, Length: 338800, dtype: float64"
      ]
     },
     "execution_count": 153,
     "metadata": {},
     "output_type": "execute_result"
    }
   ],
   "source": [
    "data_set[cell_no].Cycle_Index"
   ]
  },
  {
   "cell_type": "code",
   "execution_count": null,
   "metadata": {},
   "outputs": [],
   "source": [
    "time_step = data_set[cell_no][]"
   ]
  },
  {
   "cell_type": "code",
   "execution_count": null,
   "metadata": {},
   "outputs": [],
   "source": []
  },
  {
   "cell_type": "code",
   "execution_count": null,
   "metadata": {},
   "outputs": [],
   "source": []
  },
  {
   "cell_type": "code",
   "execution_count": null,
   "metadata": {},
   "outputs": [],
   "source": []
  },
  {
   "cell_type": "code",
   "execution_count": 105,
   "metadata": {},
   "outputs": [],
   "source": [
    "data_set = [mit_data[0]]"
   ]
  },
  {
   "cell_type": "code",
   "execution_count": 106,
   "metadata": {},
   "outputs": [],
   "source": [
    "data_list = []\n",
    "for i in range(len(data_set)):\n",
    "    for j in range(len(data_set[i]) // 400):\n",
    "        data_list.append([data_set[i].iloc[j * 400:(j + 1) * 400, 1], data_set[i].iloc[j * 400, 2]])\n",
    "\n",
    "x_data, y_data = [x for x, _ in data_list], [y for _, y in data_list]\n",
    "x_data, y_data = np.array(x_data), np.array(y_data)\n",
    "x_data = x_data.reshape((x_data.shape[0], x_data.shape[1], 1))"
   ]
  },
  {
   "cell_type": "code",
   "execution_count": 185,
   "metadata": {},
   "outputs": [
    {
     "data": {
      "text/plain": [
       "array([[ 0.        ,  3.2148867 ],\n",
       "       [ 2.0400204 ,  3.21097261],\n",
       "       [ 4.0800408 ,  3.20739068],\n",
       "       [ 6.1300613 ,  3.20416427],\n",
       "       [ 8.1700817 ,  3.20136315],\n",
       "       [10.2201022 ,  3.19899831],\n",
       "       [12.2601226 ,  3.19702958],\n",
       "       [14.3101431 ,  3.19507075],\n",
       "       [16.3501635 ,  3.19279577],\n",
       "       [18.3901839 ,  3.19076594],\n",
       "       [20.4402044 ,  3.19007466],\n",
       "       [22.4802248 ,  3.18910057],\n",
       "       [24.5302453 ,  3.18748774],\n",
       "       [26.5702657 ,  3.18610194],\n",
       "       [28.6202862 ,  3.18499406],\n",
       "       [30.6603066 ,  3.18384815],\n",
       "       [32.7103271 ,  3.18266305],\n",
       "       [34.7503475 ,  3.18202055],\n",
       "       [36.7903679 ,  3.18168698],\n",
       "       [38.8403884 ,  3.1807467 ],\n",
       "       [40.8804088 ,  3.17961739],\n",
       "       [42.9304293 ,  3.1786782 ],\n",
       "       [44.9704497 ,  3.17827277],\n",
       "       [47.0204702 ,  3.17770737],\n",
       "       [49.0604906 ,  3.17680044]])"
      ]
     },
     "execution_count": 185,
     "metadata": {},
     "output_type": "execute_result"
    }
   ],
   "source": [
    "test.iloc[0:400,:2].values[:25]"
   ]
  },
  {
   "cell_type": "code",
   "execution_count": 118,
   "metadata": {},
   "outputs": [],
   "source": [
    "window = 25"
   ]
  },
  {
   "cell_type": "code",
   "execution_count": 119,
   "metadata": {},
   "outputs": [
    {
     "data": {
      "text/plain": [
       "18"
      ]
     },
     "execution_count": 119,
     "metadata": {},
     "output_type": "execute_result"
    }
   ],
   "source": [
    "np.random.randint(0,400-window)"
   ]
  },
  {
   "cell_type": "code",
   "execution_count": 122,
   "metadata": {},
   "outputs": [
    {
     "name": "stdout",
     "output_type": "stream",
     "text": [
      "338400 847\n"
     ]
    }
   ],
   "source": [
    "cnt = 0\n",
    "for i in range(0,len(test),400):\n",
    "    cnt+=1\n",
    "print(i,cnt)"
   ]
  },
  {
   "cell_type": "code",
   "execution_count": 123,
   "metadata": {},
   "outputs": [
    {
     "name": "stdout",
     "output_type": "stream",
     "text": [
      "338400 847\n"
     ]
    }
   ],
   "source": [
    "cnt = 0\n",
    "for i in range(len(test)//400):\n",
    "    cnt+=1\n",
    "print(i*400,cnt)"
   ]
  },
  {
   "cell_type": "code",
   "execution_count": null,
   "metadata": {},
   "outputs": [],
   "source": []
  },
  {
   "cell_type": "code",
   "execution_count": 108,
   "metadata": {},
   "outputs": [
    {
     "data": {
      "text/plain": [
       "(847, 400, 1)"
      ]
     },
     "execution_count": 108,
     "metadata": {},
     "output_type": "execute_result"
    }
   ],
   "source": [
    "x_data.shape"
   ]
  },
  {
   "cell_type": "code",
   "execution_count": 109,
   "metadata": {},
   "outputs": [
    {
     "data": {
      "text/plain": [
       "(847,)"
      ]
     },
     "execution_count": 109,
     "metadata": {},
     "output_type": "execute_result"
    }
   ],
   "source": [
    "y_data.shape"
   ]
  },
  {
   "cell_type": "code",
   "execution_count": 112,
   "metadata": {},
   "outputs": [
    {
     "data": {
      "text/plain": [
       "(400, 1)"
      ]
     },
     "execution_count": 112,
     "metadata": {},
     "output_type": "execute_result"
    }
   ],
   "source": [
    "x_data[0].shape"
   ]
  },
  {
   "cell_type": "code",
   "execution_count": 23,
   "metadata": {},
   "outputs": [],
   "source": [
    "data_list = []"
   ]
  },
  {
   "cell_type": "code",
   "execution_count": 24,
   "metadata": {},
   "outputs": [],
   "source": [
    "for i in range(len(mit_data[0])//400):\n",
    "    data_list.append([mit_data[0].iloc[i*400:(i+1)*400,0:2],mit_data[0].iloc[i*400,2]])"
   ]
  },
  {
   "cell_type": "code",
   "execution_count": 96,
   "metadata": {},
   "outputs": [],
   "source": [
    "test = mit_data[0]"
   ]
  },
  {
   "cell_type": "code",
   "execution_count": 104,
   "metadata": {},
   "outputs": [
    {
     "data": {
      "text/html": [
       "<div>\n",
       "<style scoped>\n",
       "    .dataframe tbody tr th:only-of-type {\n",
       "        vertical-align: middle;\n",
       "    }\n",
       "\n",
       "    .dataframe tbody tr th {\n",
       "        vertical-align: top;\n",
       "    }\n",
       "\n",
       "    .dataframe thead th {\n",
       "        text-align: right;\n",
       "    }\n",
       "</style>\n",
       "<table border=\"1\" class=\"dataframe\">\n",
       "  <thead>\n",
       "    <tr style=\"text-align: right;\">\n",
       "      <th></th>\n",
       "      <th>Step_Time</th>\n",
       "      <th>Voltage</th>\n",
       "      <th>Discharge_Capacity</th>\n",
       "      <th>Cycle_Index</th>\n",
       "    </tr>\n",
       "  </thead>\n",
       "  <tbody>\n",
       "    <tr>\n",
       "      <th>0</th>\n",
       "      <td>0.000000</td>\n",
       "      <td>3.214887</td>\n",
       "      <td>0.938784</td>\n",
       "      <td>1.0</td>\n",
       "    </tr>\n",
       "    <tr>\n",
       "      <th>1</th>\n",
       "      <td>2.040020</td>\n",
       "      <td>3.210973</td>\n",
       "      <td>0.938784</td>\n",
       "      <td>1.0</td>\n",
       "    </tr>\n",
       "    <tr>\n",
       "      <th>2</th>\n",
       "      <td>4.080041</td>\n",
       "      <td>3.207391</td>\n",
       "      <td>0.938784</td>\n",
       "      <td>1.0</td>\n",
       "    </tr>\n",
       "    <tr>\n",
       "      <th>3</th>\n",
       "      <td>6.130061</td>\n",
       "      <td>3.204164</td>\n",
       "      <td>0.938784</td>\n",
       "      <td>1.0</td>\n",
       "    </tr>\n",
       "    <tr>\n",
       "      <th>4</th>\n",
       "      <td>8.170082</td>\n",
       "      <td>3.201363</td>\n",
       "      <td>0.938784</td>\n",
       "      <td>1.0</td>\n",
       "    </tr>\n",
       "    <tr>\n",
       "      <th>...</th>\n",
       "      <td>...</td>\n",
       "      <td>...</td>\n",
       "      <td>...</td>\n",
       "      <td>...</td>\n",
       "    </tr>\n",
       "    <tr>\n",
       "      <th>338795</th>\n",
       "      <td>570.965710</td>\n",
       "      <td>2.691555</td>\n",
       "      <td>0.663292</td>\n",
       "      <td>854.0</td>\n",
       "    </tr>\n",
       "    <tr>\n",
       "      <th>338796</th>\n",
       "      <td>572.405724</td>\n",
       "      <td>2.681730</td>\n",
       "      <td>0.663292</td>\n",
       "      <td>854.0</td>\n",
       "    </tr>\n",
       "    <tr>\n",
       "      <th>338797</th>\n",
       "      <td>573.855739</td>\n",
       "      <td>2.677373</td>\n",
       "      <td>0.663292</td>\n",
       "      <td>854.0</td>\n",
       "    </tr>\n",
       "    <tr>\n",
       "      <th>338798</th>\n",
       "      <td>575.295753</td>\n",
       "      <td>2.666758</td>\n",
       "      <td>0.663292</td>\n",
       "      <td>854.0</td>\n",
       "    </tr>\n",
       "    <tr>\n",
       "      <th>338799</th>\n",
       "      <td>576.745767</td>\n",
       "      <td>2.658693</td>\n",
       "      <td>0.663292</td>\n",
       "      <td>854.0</td>\n",
       "    </tr>\n",
       "  </tbody>\n",
       "</table>\n",
       "<p>338800 rows × 4 columns</p>\n",
       "</div>"
      ],
      "text/plain": [
       "         Step_Time   Voltage  Discharge_Capacity  Cycle_Index\n",
       "0         0.000000  3.214887            0.938784          1.0\n",
       "1         2.040020  3.210973            0.938784          1.0\n",
       "2         4.080041  3.207391            0.938784          1.0\n",
       "3         6.130061  3.204164            0.938784          1.0\n",
       "4         8.170082  3.201363            0.938784          1.0\n",
       "...            ...       ...                 ...          ...\n",
       "338795  570.965710  2.691555            0.663292        854.0\n",
       "338796  572.405724  2.681730            0.663292        854.0\n",
       "338797  573.855739  2.677373            0.663292        854.0\n",
       "338798  575.295753  2.666758            0.663292        854.0\n",
       "338799  576.745767  2.658693            0.663292        854.0\n",
       "\n",
       "[338800 rows x 4 columns]"
      ]
     },
     "execution_count": 104,
     "metadata": {},
     "output_type": "execute_result"
    }
   ],
   "source": [
    "test"
   ]
  },
  {
   "cell_type": "code",
   "execution_count": null,
   "metadata": {},
   "outputs": [],
   "source": []
  },
  {
   "cell_type": "code",
   "execution_count": null,
   "metadata": {},
   "outputs": [],
   "source": []
  },
  {
   "cell_type": "code",
   "execution_count": null,
   "metadata": {},
   "outputs": [],
   "source": []
  },
  {
   "cell_type": "code",
   "execution_count": 98,
   "metadata": {},
   "outputs": [
    {
     "data": {
      "text/plain": [
       "<AxesSubplot:>"
      ]
     },
     "execution_count": 98,
     "metadata": {},
     "output_type": "execute_result"
    },
    {
     "data": {
      "image/png": "[encoded data removed]",
      "text/plain": [
       "<Figure size 432x288 with 1 Axes>"
      ]
     },
     "metadata": {
      "needs_background": "light"
     },
     "output_type": "display_data"
    }
   ],
   "source": [
    "test.iloc[:,2].plot()"
   ]
  },
  {
   "cell_type": "code",
   "execution_count": null,
   "metadata": {},
   "outputs": [],
   "source": []
  },
  {
   "cell_type": "code",
   "execution_count": null,
   "metadata": {},
   "outputs": [],
   "source": []
  },
  {
   "cell_type": "code",
   "execution_count": 101,
   "metadata": {},
   "outputs": [
    {
     "data": {
      "text/plain": [
       "847"
      ]
     },
     "execution_count": 101,
     "metadata": {},
     "output_type": "execute_result"
    }
   ],
   "source": [
    "len(test.iloc[:,2].unique())"
   ]
  },
  {
   "cell_type": "code",
   "execution_count": 102,
   "metadata": {},
   "outputs": [
    {
     "data": {
      "text/plain": [
       "847"
      ]
     },
     "execution_count": 102,
     "metadata": {},
     "output_type": "execute_result"
    }
   ],
   "source": [
    "len(test.iloc[:,-1].unique())"
   ]
  },
  {
   "cell_type": "code",
   "execution_count": 103,
   "metadata": {},
   "outputs": [
    {
     "data": {
      "text/html": [
       "<div>\n",
       "<style scoped>\n",
       "    .dataframe tbody tr th:only-of-type {\n",
       "        vertical-align: middle;\n",
       "    }\n",
       "\n",
       "    .dataframe tbody tr th {\n",
       "        vertical-align: top;\n",
       "    }\n",
       "\n",
       "    .dataframe thead th {\n",
       "        text-align: right;\n",
       "    }\n",
       "</style>\n",
       "<table border=\"1\" class=\"dataframe\">\n",
       "  <thead>\n",
       "    <tr style=\"text-align: right;\">\n",
       "      <th></th>\n",
       "      <th>Step_Time</th>\n",
       "      <th>Voltage</th>\n",
       "      <th>Discharge_Capacity</th>\n",
       "      <th>Cycle_Index</th>\n",
       "    </tr>\n",
       "  </thead>\n",
       "  <tbody>\n",
       "    <tr>\n",
       "      <th>0</th>\n",
       "      <td>0.000000</td>\n",
       "      <td>3.214887</td>\n",
       "      <td>0.938784</td>\n",
       "      <td>1.0</td>\n",
       "    </tr>\n",
       "    <tr>\n",
       "      <th>1</th>\n",
       "      <td>2.040020</td>\n",
       "      <td>3.210973</td>\n",
       "      <td>0.938784</td>\n",
       "      <td>1.0</td>\n",
       "    </tr>\n",
       "    <tr>\n",
       "      <th>2</th>\n",
       "      <td>4.080041</td>\n",
       "      <td>3.207391</td>\n",
       "      <td>0.938784</td>\n",
       "      <td>1.0</td>\n",
       "    </tr>\n",
       "    <tr>\n",
       "      <th>3</th>\n",
       "      <td>6.130061</td>\n",
       "      <td>3.204164</td>\n",
       "      <td>0.938784</td>\n",
       "      <td>1.0</td>\n",
       "    </tr>\n",
       "    <tr>\n",
       "      <th>4</th>\n",
       "      <td>8.170082</td>\n",
       "      <td>3.201363</td>\n",
       "      <td>0.938784</td>\n",
       "      <td>1.0</td>\n",
       "    </tr>\n",
       "    <tr>\n",
       "      <th>...</th>\n",
       "      <td>...</td>\n",
       "      <td>...</td>\n",
       "      <td>...</td>\n",
       "      <td>...</td>\n",
       "    </tr>\n",
       "    <tr>\n",
       "      <th>338795</th>\n",
       "      <td>570.965710</td>\n",
       "      <td>2.691555</td>\n",
       "      <td>0.663292</td>\n",
       "      <td>854.0</td>\n",
       "    </tr>\n",
       "    <tr>\n",
       "      <th>338796</th>\n",
       "      <td>572.405724</td>\n",
       "      <td>2.681730</td>\n",
       "      <td>0.663292</td>\n",
       "      <td>854.0</td>\n",
       "    </tr>\n",
       "    <tr>\n",
       "      <th>338797</th>\n",
       "      <td>573.855739</td>\n",
       "      <td>2.677373</td>\n",
       "      <td>0.663292</td>\n",
       "      <td>854.0</td>\n",
       "    </tr>\n",
       "    <tr>\n",
       "      <th>338798</th>\n",
       "      <td>575.295753</td>\n",
       "      <td>2.666758</td>\n",
       "      <td>0.663292</td>\n",
       "      <td>854.0</td>\n",
       "    </tr>\n",
       "    <tr>\n",
       "      <th>338799</th>\n",
       "      <td>576.745767</td>\n",
       "      <td>2.658693</td>\n",
       "      <td>0.663292</td>\n",
       "      <td>854.0</td>\n",
       "    </tr>\n",
       "  </tbody>\n",
       "</table>\n",
       "<p>338800 rows × 4 columns</p>\n",
       "</div>"
      ],
      "text/plain": [
       "         Step_Time   Voltage  Discharge_Capacity  Cycle_Index\n",
       "0         0.000000  3.214887            0.938784          1.0\n",
       "1         2.040020  3.210973            0.938784          1.0\n",
       "2         4.080041  3.207391            0.938784          1.0\n",
       "3         6.130061  3.204164            0.938784          1.0\n",
       "4         8.170082  3.201363            0.938784          1.0\n",
       "...            ...       ...                 ...          ...\n",
       "338795  570.965710  2.691555            0.663292        854.0\n",
       "338796  572.405724  2.681730            0.663292        854.0\n",
       "338797  573.855739  2.677373            0.663292        854.0\n",
       "338798  575.295753  2.666758            0.663292        854.0\n",
       "338799  576.745767  2.658693            0.663292        854.0\n",
       "\n",
       "[338800 rows x 4 columns]"
      ]
     },
     "execution_count": 103,
     "metadata": {},
     "output_type": "execute_result"
    }
   ],
   "source": [
    "test"
   ]
  },
  {
   "cell_type": "code",
   "execution_count": null,
   "metadata": {},
   "outputs": [],
   "source": []
  },
  {
   "cell_type": "code",
   "execution_count": null,
   "metadata": {},
   "outputs": [],
   "source": []
  },
  {
   "cell_type": "code",
   "execution_count": null,
   "metadata": {},
   "outputs": [],
   "source": []
  },
  {
   "cell_type": "code",
   "execution_count": null,
   "metadata": {},
   "outputs": [],
   "source": []
  },
  {
   "cell_type": "code",
   "execution_count": 18,
   "metadata": {},
   "outputs": [
    {
     "data": {
      "text/html": [
       "<div>\n",
       "<style scoped>\n",
       "    .dataframe tbody tr th:only-of-type {\n",
       "        vertical-align: middle;\n",
       "    }\n",
       "\n",
       "    .dataframe tbody tr th {\n",
       "        vertical-align: top;\n",
       "    }\n",
       "\n",
       "    .dataframe thead th {\n",
       "        text-align: right;\n",
       "    }\n",
       "</style>\n",
       "<table border=\"1\" class=\"dataframe\">\n",
       "  <thead>\n",
       "    <tr style=\"text-align: right;\">\n",
       "      <th></th>\n",
       "      <th>Step_Time</th>\n",
       "      <th>Voltage</th>\n",
       "      <th>Discharge_Capacity</th>\n",
       "      <th>Cycle_Index</th>\n",
       "    </tr>\n",
       "  </thead>\n",
       "  <tbody>\n",
       "    <tr>\n",
       "      <th>0</th>\n",
       "      <td>0.000000</td>\n",
       "      <td>3.214887</td>\n",
       "      <td>0.938784</td>\n",
       "      <td>1.0</td>\n",
       "    </tr>\n",
       "    <tr>\n",
       "      <th>1</th>\n",
       "      <td>2.040020</td>\n",
       "      <td>3.210973</td>\n",
       "      <td>0.938784</td>\n",
       "      <td>1.0</td>\n",
       "    </tr>\n",
       "    <tr>\n",
       "      <th>2</th>\n",
       "      <td>4.080041</td>\n",
       "      <td>3.207391</td>\n",
       "      <td>0.938784</td>\n",
       "      <td>1.0</td>\n",
       "    </tr>\n",
       "    <tr>\n",
       "      <th>3</th>\n",
       "      <td>6.130061</td>\n",
       "      <td>3.204164</td>\n",
       "      <td>0.938784</td>\n",
       "      <td>1.0</td>\n",
       "    </tr>\n",
       "    <tr>\n",
       "      <th>4</th>\n",
       "      <td>8.170082</td>\n",
       "      <td>3.201363</td>\n",
       "      <td>0.938784</td>\n",
       "      <td>1.0</td>\n",
       "    </tr>\n",
       "    <tr>\n",
       "      <th>...</th>\n",
       "      <td>...</td>\n",
       "      <td>...</td>\n",
       "      <td>...</td>\n",
       "      <td>...</td>\n",
       "    </tr>\n",
       "    <tr>\n",
       "      <th>338795</th>\n",
       "      <td>570.965710</td>\n",
       "      <td>2.691555</td>\n",
       "      <td>0.663292</td>\n",
       "      <td>854.0</td>\n",
       "    </tr>\n",
       "    <tr>\n",
       "      <th>338796</th>\n",
       "      <td>572.405724</td>\n",
       "      <td>2.681730</td>\n",
       "      <td>0.663292</td>\n",
       "      <td>854.0</td>\n",
       "    </tr>\n",
       "    <tr>\n",
       "      <th>338797</th>\n",
       "      <td>573.855739</td>\n",
       "      <td>2.677373</td>\n",
       "      <td>0.663292</td>\n",
       "      <td>854.0</td>\n",
       "    </tr>\n",
       "    <tr>\n",
       "      <th>338798</th>\n",
       "      <td>575.295753</td>\n",
       "      <td>2.666758</td>\n",
       "      <td>0.663292</td>\n",
       "      <td>854.0</td>\n",
       "    </tr>\n",
       "    <tr>\n",
       "      <th>338799</th>\n",
       "      <td>576.745767</td>\n",
       "      <td>2.658693</td>\n",
       "      <td>0.663292</td>\n",
       "      <td>854.0</td>\n",
       "    </tr>\n",
       "  </tbody>\n",
       "</table>\n",
       "<p>338800 rows × 4 columns</p>\n",
       "</div>"
      ],
      "text/plain": [
       "         Step_Time   Voltage  Discharge_Capacity  Cycle_Index\n",
       "0         0.000000  3.214887            0.938784          1.0\n",
       "1         2.040020  3.210973            0.938784          1.0\n",
       "2         4.080041  3.207391            0.938784          1.0\n",
       "3         6.130061  3.204164            0.938784          1.0\n",
       "4         8.170082  3.201363            0.938784          1.0\n",
       "...            ...       ...                 ...          ...\n",
       "338795  570.965710  2.691555            0.663292        854.0\n",
       "338796  572.405724  2.681730            0.663292        854.0\n",
       "338797  573.855739  2.677373            0.663292        854.0\n",
       "338798  575.295753  2.666758            0.663292        854.0\n",
       "338799  576.745767  2.658693            0.663292        854.0\n",
       "\n",
       "[338800 rows x 4 columns]"
      ]
     },
     "execution_count": 18,
     "metadata": {},
     "output_type": "execute_result"
    }
   ],
   "source": [
    "mit_data[0]"
   ]
  },
  {
   "cell_type": "code",
   "execution_count": 20,
   "metadata": {},
   "outputs": [
    {
     "data": {
      "text/plain": [
       "847"
      ]
     },
     "execution_count": 20,
     "metadata": {},
     "output_type": "execute_result"
    }
   ],
   "source": [
    "len(mit_data[0].Discharge_Capacity.unique())"
   ]
  },
  {
   "cell_type": "code",
   "execution_count": 22,
   "metadata": {},
   "outputs": [
    {
     "data": {
      "text/plain": [
       "847"
      ]
     },
     "execution_count": 22,
     "metadata": {},
     "output_type": "execute_result"
    }
   ],
   "source": [
    "len(mit_data[0].Cycle_Index.unique())"
   ]
  },
  {
   "cell_type": "code",
   "execution_count": null,
   "metadata": {},
   "outputs": [],
   "source": []
  },
  {
   "cell_type": "code",
   "execution_count": null,
   "metadata": {},
   "outputs": [],
   "source": [
    "data_list = []\n",
    "for i in range(len(data_set)):\n",
    "    for j in range(len(data_set[i]) // 400):\n",
    "        data_list.append([data_set[i].iloc[j * 400:(j + 1) * 400, 1], data_set[i].iloc[j * 400, 2]])\n",
    "\n",
    "x_data, y_data = [x for x, _ in data_list], [y for _, y in data_list]\n",
    "x_data, y_data = np.array(x_data), np.array(y_data)\n",
    "x_data = x_data.reshape((x_data.shape[0], x_data.shape[1], 1))"
   ]
  },
  {
   "cell_type": "code",
   "execution_count": 45,
   "metadata": {},
   "outputs": [],
   "source": [
    "data_list = []\n",
    "for x in range(4):\n",
    "    for i in range(len(mit_data[x])//400):\n",
    "        data_list.append([mit_data[x].iloc[i*400:(i+1)*400,1],mit_data[x].iloc[i*400,2]])"
   ]
  },
  {
   "cell_type": "code",
   "execution_count": 27,
   "metadata": {
    "collapsed": true
   },
   "outputs": [
    {
     "ename": "ValueError",
     "evalue": "too many values to unpack (expected 2)",
     "output_type": "error",
     "traceback": [
      "\u001b[0;31m---------------------------------------------------------------------------\u001b[0m",
      "\u001b[0;31mValueError\u001b[0m                                Traceback (most recent call last)",
      "\u001b[0;32m<ipython-input-27-a729a1f26a8f>\u001b[0m in \u001b[0;36m<module>\u001b[0;34m\u001b[0m\n\u001b[0;32m----> 1\u001b[0;31m \u001b[0mx_data\u001b[0m\u001b[0;34m,\u001b[0m\u001b[0my_data\u001b[0m \u001b[0;34m=\u001b[0m \u001b[0;34m[\u001b[0m\u001b[0;34m[\u001b[0m\u001b[0mx\u001b[0m\u001b[0;34m,\u001b[0m\u001b[0my\u001b[0m\u001b[0;34m]\u001b[0m \u001b[0;32mfor\u001b[0m \u001b[0mx\u001b[0m\u001b[0;34m,\u001b[0m\u001b[0my\u001b[0m \u001b[0;32min\u001b[0m \u001b[0mdata_list\u001b[0m\u001b[0;34m]\u001b[0m\u001b[0;34m\u001b[0m\u001b[0;34m\u001b[0m\u001b[0m\n\u001b[0m",
      "\u001b[0;31mValueError\u001b[0m: too many values to unpack (expected 2)"
     ]
    }
   ],
   "source": [
    "x_data,y_data = [[x,y] for x,y in data_list]"
   ]
  },
  {
   "cell_type": "code",
   "execution_count": 34,
   "metadata": {},
   "outputs": [
    {
     "data": {
      "text/plain": [
       "(2, 847)"
      ]
     },
     "execution_count": 34,
     "metadata": {},
     "output_type": "execute_result"
    }
   ],
   "source": [
    "np.array(data_list).T.shape"
   ]
  },
  {
   "cell_type": "code",
   "execution_count": 46,
   "metadata": {},
   "outputs": [
    {
     "data": {
      "text/plain": [
       "(2937, 2)"
      ]
     },
     "execution_count": 46,
     "metadata": {},
     "output_type": "execute_result"
    }
   ],
   "source": [
    "np.array(data_list).shape"
   ]
  },
  {
   "cell_type": "code",
   "execution_count": 47,
   "metadata": {},
   "outputs": [
    {
     "data": {
      "text/plain": [
       "3400"
      ]
     },
     "execution_count": 47,
     "metadata": {},
     "output_type": "execute_result"
    }
   ],
   "source": [
    "850*4"
   ]
  },
  {
   "cell_type": "code",
   "execution_count": 41,
   "metadata": {},
   "outputs": [
    {
     "data": {
      "text/plain": [
       "(847,)"
      ]
     },
     "execution_count": 41,
     "metadata": {},
     "output_type": "execute_result"
    }
   ],
   "source": [
    "np.array(data_list)[:,0].shape"
   ]
  },
  {
   "cell_type": "code",
   "execution_count": 42,
   "metadata": {},
   "outputs": [
    {
     "data": {
      "text/plain": [
       "(847,)"
      ]
     },
     "execution_count": 42,
     "metadata": {},
     "output_type": "execute_result"
    }
   ],
   "source": [
    "np.array(data_list).T[0].shape"
   ]
  },
  {
   "cell_type": "code",
   "execution_count": 43,
   "metadata": {},
   "outputs": [
    {
     "data": {
      "text/plain": [
       "(847,)"
      ]
     },
     "execution_count": 43,
     "metadata": {},
     "output_type": "execute_result"
    }
   ],
   "source": [
    "np.array(data_list).T[1].shape"
   ]
  },
  {
   "cell_type": "code",
   "execution_count": 44,
   "metadata": {
    "collapsed": true
   },
   "outputs": [
    {
     "data": {
      "text/plain": [
       "[         Step_Time   Voltage  Discharge_Capacity  Cycle_Index\n",
       " 0         0.000000  3.214887            0.938784          1.0\n",
       " 1         2.040020  3.210973            0.938784          1.0\n",
       " 2         4.080041  3.207391            0.938784          1.0\n",
       " 3         6.130061  3.204164            0.938784          1.0\n",
       " 4         8.170082  3.201363            0.938784          1.0\n",
       " ...            ...       ...                 ...          ...\n",
       " 338795  570.965710  2.691555            0.663292        854.0\n",
       " 338796  572.405724  2.681730            0.663292        854.0\n",
       " 338797  573.855739  2.677373            0.663292        854.0\n",
       " 338798  575.295753  2.666758            0.663292        854.0\n",
       " 338799  576.745767  2.658693            0.663292        854.0\n",
       " \n",
       " [338800 rows x 4 columns],\n",
       "          Step_Time   Voltage  Discharge_Capacity  Cycle_Index\n",
       " 0         0.000000  3.219627            0.943559          1.0\n",
       " 1         2.050021  3.216064            0.943559          1.0\n",
       " 2         4.110041  3.210709            0.943559          1.0\n",
       " 3         6.170062  3.208902            0.943559          1.0\n",
       " 4         8.230082  3.204797            0.943559          1.0\n",
       " ...            ...       ...                 ...          ...\n",
       " 222795  538.105381  2.676539            0.625497        559.0\n",
       " 222796  539.465395  2.672033            0.625497        559.0\n",
       " 222797  540.825408  2.666908            0.625497        559.0\n",
       " 222798  542.195422  2.657292            0.625497        559.0\n",
       " 222799  543.555436  2.651973            0.625497        559.0\n",
       " \n",
       " [222800 rows x 4 columns],\n",
       "          Step_Time   Voltage  Discharge_Capacity  Cycle_Index\n",
       " 0         0.000000  3.212284            0.939954          1.0\n",
       " 1         2.040020  3.208020            0.939954          1.0\n",
       " 2         4.090041  3.204482            0.939954          1.0\n",
       " 3         6.140061  3.201506            0.939954          1.0\n",
       " 4         8.190082  3.198905            0.939954          1.0\n",
       " ...            ...       ...                 ...          ...\n",
       " 278795  575.785758  2.684411            0.668257        702.0\n",
       " 278796  577.245772  2.673728            0.668257        702.0\n",
       " 278797  578.705787  2.669405            0.668257        702.0\n",
       " 278798  580.155802  2.659248            0.668257        702.0\n",
       " 278799  581.615816  2.650687            0.668257        702.0\n",
       " \n",
       " [278800 rows x 4 columns],\n",
       "          Step_Time   Voltage  Discharge_Capacity  Cycle_Index\n",
       " 0         0.000000  3.215435            0.940058          1.0\n",
       " 1         2.040020  3.211580            0.940058          1.0\n",
       " 2         4.090041  3.208061            0.940058          1.0\n",
       " 3         6.140061  3.204911            0.940058          1.0\n",
       " 4         8.180082  3.202154            0.940058          1.0\n",
       " ...            ...       ...                 ...          ...\n",
       " 334395  569.685697  2.688203            0.664094        842.0\n",
       " 334396  571.125711  2.680617            0.664094        842.0\n",
       " 334397  572.565726  2.672785            0.664094        842.0\n",
       " 334398  574.005740  2.664716            0.664094        842.0\n",
       " 334399  575.455755  2.656370            0.664094        842.0\n",
       " \n",
       " [334400 rows x 4 columns]]"
      ]
     },
     "execution_count": 44,
     "metadata": {},
     "output_type": "execute_result"
    }
   ],
   "source": [
    "mit_data[:4]"
   ]
  },
  {
   "cell_type": "code",
   "execution_count": null,
   "metadata": {},
   "outputs": [],
   "source": []
  },
  {
   "cell_type": "code",
   "execution_count": null,
   "metadata": {},
   "outputs": [],
   "source": []
  },
  {
   "cell_type": "code",
   "execution_count": null,
   "metadata": {},
   "outputs": [],
   "source": []
  },
  {
   "cell_type": "code",
   "execution_count": null,
   "metadata": {},
   "outputs": [],
   "source": []
  },
  {
   "cell_type": "code",
   "execution_count": null,
   "metadata": {},
   "outputs": [],
   "source": []
  },
  {
   "cell_type": "code",
   "execution_count": 70,
   "metadata": {},
   "outputs": [],
   "source": [
    "from torch.utils.data import Dataset, DataLoader\n",
    "import numpy as np\n",
    "import torch\n",
    "from bisect import bisect\n",
    "  \n",
    "\n",
    "# procesing data to get samples for training and testing\n",
    "    \n",
    "class CapacityDataset(Dataset):\n",
    "    def __init__(self, data, window=25, type=\"train\", random=False):\n",
    "        self.cycles = []\n",
    "        self.random = random\n",
    "        for d in data:\n",
    "            self.cycles.append(d.Cycle_Index.unique())\n",
    "        self.data = data\n",
    "        self.window = window\n",
    "        # cycles per cell\n",
    "        self.spc = [cycle.shape[0] for cycle in  self.cycles]\n",
    "        \n",
    "    def __len__(self):\n",
    "        return sum(self.spc)\n",
    "\n",
    "    def __getitem__(self, idx):\n",
    "        \n",
    "        # the next three lines are locating the index in cycles of a particular cell\n",
    "        \n",
    "        cumsum = np.cumsum(self.spc)\n",
    "        cell_no = bisect(cumsum, idx)\n",
    "        ind = idx if cell_no == 0 else idx - cumsum[cell_no - 1]\n",
    "        \n",
    "        # picking the value of time, voltage, and capacity for the specified cycle during training or testing\n",
    "        \n",
    "        time_step = self.data[cell_no][self.data[cell_no].Cycle_Index == self.cycles[cell_no][ind]].Step_Time.values\n",
    "        voltage = self.data[cell_no][self.data[cell_no].Cycle_Index == self.cycles[cell_no][ind]].Voltage.values\n",
    "        capacity = self.data[cell_no][self.data[cell_no].Cycle_Index == self.cycles[cell_no][ind]].Discharge_Capacity.max()\n",
    "        \n",
    "        # choosing a segment of specified length from the discharge curve for training or testing\n",
    "        # if random = True, the segment will start anywhere from start of curve to 400- length of segment\n",
    "#         print (time_step.shape, voltage.shape, cell_no, ind, capacity )\n",
    "        start = 0 if not self.random else np.random.randint(0, 400 - self.window)\n",
    "        time_x = time_step[start: start+self.window]\n",
    "        voltage_x = voltage[start: start+self.window]\n",
    "        \n",
    "        # creating input / feature vector (segment length x2)\n",
    "        # the vector has voltage values followed by the corresponding time values\n",
    "        x = np.zeros((voltage_x.shape[0]*2))\n",
    "        x[::2] = voltage_x\n",
    "        x[1::2] = time_x/100\n",
    "#         print (x.shape)\n",
    "        return x , torch.from_numpy(np.array([capacity]))\n",
    "\n",
    "\n"
   ]
  },
  {
   "cell_type": "code",
   "execution_count": 71,
   "metadata": {},
   "outputs": [],
   "source": [
    "train_voltage_c = CapacityDataset(mit_data[1:] ,random=True)\n",
    "train_loader_c = DataLoader(train_voltage_c, batch_size=64, shuffle=True)\n",
    "test_voltage_c = CapacityDataset([mit_data[0]], type='test', random=True)\n",
    "test_loader_c = DataLoader(test_voltage_c, batch_size=64, shuffle=False)"
   ]
  },
  {
   "cell_type": "code",
   "execution_count": 82,
   "metadata": {},
   "outputs": [],
   "source": [
    "cnt = 0\n",
    "for x,y in test_loader_c:\n",
    "    cnt+=1"
   ]
  },
  {
   "cell_type": "code",
   "execution_count": 85,
   "metadata": {},
   "outputs": [
    {
     "data": {
      "text/plain": [
       "847.0"
      ]
     },
     "execution_count": 85,
     "metadata": {},
     "output_type": "execute_result"
    }
   ],
   "source": [
    "len(mit_data[0])/400"
   ]
  },
  {
   "cell_type": "code",
   "execution_count": 95,
   "metadata": {},
   "outputs": [
    {
     "data": {
      "text/plain": [
       "832"
      ]
     },
     "execution_count": 95,
     "metadata": {},
     "output_type": "execute_result"
    }
   ],
   "source": [
    "64*13"
   ]
  },
  {
   "cell_type": "code",
   "execution_count": 83,
   "metadata": {},
   "outputs": [
    {
     "data": {
      "text/plain": [
       "14"
      ]
     },
     "execution_count": 83,
     "metadata": {},
     "output_type": "execute_result"
    }
   ],
   "source": [
    "cnt"
   ]
  },
  {
   "cell_type": "code",
   "execution_count": 79,
   "metadata": {},
   "outputs": [],
   "source": [
    "f,l = next(iter(test_loader_c))"
   ]
  },
  {
   "cell_type": "code",
   "execution_count": 89,
   "metadata": {},
   "outputs": [
    {
     "data": {
      "text/plain": [
       "torch.Size([64, 50])"
      ]
     },
     "execution_count": 89,
     "metadata": {},
     "output_type": "execute_result"
    }
   ],
   "source": [
    "f.shape"
   ]
  },
  {
   "cell_type": "code",
   "execution_count": 92,
   "metadata": {},
   "outputs": [
    {
     "data": {
      "text/plain": [
       "847"
      ]
     },
     "execution_count": 92,
     "metadata": {},
     "output_type": "execute_result"
    }
   ],
   "source": [
    "len(mit_data[0]['Cycle_Index'].unique())"
   ]
  },
  {
   "cell_type": "code",
   "execution_count": 94,
   "metadata": {},
   "outputs": [
    {
     "data": {
      "text/plain": [
       "64"
      ]
     },
     "execution_count": 94,
     "metadata": {},
     "output_type": "execute_result"
    }
   ],
   "source": []
  },
  {
   "cell_type": "code",
   "execution_count": null,
   "metadata": {},
   "outputs": [],
   "source": []
  },
  {
   "cell_type": "code",
   "execution_count": null,
   "metadata": {},
   "outputs": [],
   "source": []
  },
  {
   "cell_type": "code",
   "execution_count": null,
   "metadata": {},
   "outputs": [],
   "source": []
  },
  {
   "cell_type": "code",
   "execution_count": null,
   "metadata": {},
   "outputs": [],
   "source": []
  },
  {
   "cell_type": "code",
   "execution_count": 72,
   "metadata": {},
   "outputs": [
    {
     "data": {
      "image/png": "[encoded data removed]",
      "text/plain": [
       "<Figure size 432x288 with 1 Axes>"
      ]
     },
     "metadata": {
      "needs_background": "light"
     },
     "output_type": "display_data"
    }
   ],
   "source": [
    "for x, y in test_loader_c: \n",
    "    for i,curve in enumerate(x):\n",
    "        plt.plot(curve[1::2], curve[::2])\n",
    "plt.show()"
   ]
  },
  {
   "cell_type": "code",
   "execution_count": null,
   "metadata": {},
   "outputs": [],
   "source": []
  },
  {
   "cell_type": "code",
   "execution_count": null,
   "metadata": {},
   "outputs": [],
   "source": []
  },
  {
   "cell_type": "code",
   "execution_count": 59,
   "metadata": {},
   "outputs": [
    {
     "ename": "AttributeError",
     "evalue": "'DataFrame' object has no attribute 'Charge_Capacity'",
     "output_type": "error",
     "traceback": [
      "\u001b[0;31m---------------------------------------------------------------------------\u001b[0m",
      "\u001b[0;31mAttributeError\u001b[0m                            Traceback (most recent call last)",
      "\u001b[0;32m<ipython-input-59-17e8b5ff070c>\u001b[0m in \u001b[0;36m<module>\u001b[0;34m\u001b[0m\n\u001b[1;32m      1\u001b[0m \u001b[0;32mfor\u001b[0m \u001b[0mdset\u001b[0m\u001b[0;34m,\u001b[0m\u001b[0mmode\u001b[0m \u001b[0;32min\u001b[0m \u001b[0;34m[\u001b[0m\u001b[0;34m(\u001b[0m\u001b[0mtrain_loader_c\u001b[0m\u001b[0;34m,\u001b[0m\u001b[0;34m'train'\u001b[0m\u001b[0;34m)\u001b[0m\u001b[0;34m,\u001b[0m\u001b[0;34m(\u001b[0m\u001b[0mtest_loader_c\u001b[0m\u001b[0;34m,\u001b[0m\u001b[0;34m'test'\u001b[0m\u001b[0;34m)\u001b[0m\u001b[0;34m]\u001b[0m\u001b[0;34m:\u001b[0m\u001b[0;34m\u001b[0m\u001b[0;34m\u001b[0m\u001b[0m\n\u001b[0;32m----> 2\u001b[0;31m     \u001b[0;32mfor\u001b[0m \u001b[0midx\u001b[0m\u001b[0;34m,\u001b[0m \u001b[0;34m(\u001b[0m\u001b[0mx\u001b[0m\u001b[0;34m,\u001b[0m\u001b[0my\u001b[0m\u001b[0;34m)\u001b[0m \u001b[0;32min\u001b[0m \u001b[0menumerate\u001b[0m\u001b[0;34m(\u001b[0m\u001b[0mdset\u001b[0m\u001b[0;34m)\u001b[0m\u001b[0;34m:\u001b[0m\u001b[0;34m\u001b[0m\u001b[0;34m\u001b[0m\u001b[0m\n\u001b[0m\u001b[1;32m      3\u001b[0m         \u001b[0mx\u001b[0m \u001b[0;34m=\u001b[0m \u001b[0mx\u001b[0m\u001b[0;34m.\u001b[0m\u001b[0mfloat\u001b[0m\u001b[0;34m(\u001b[0m\u001b[0;34m)\u001b[0m\u001b[0;34m\u001b[0m\u001b[0;34m\u001b[0m\u001b[0m\n",
      "\u001b[0;32m~/anaconda3/envs/daewoong/lib/python3.7/site-packages/torch/utils/data/dataloader.py\u001b[0m in \u001b[0;36m__next__\u001b[0;34m(self)\u001b[0m\n\u001b[1;32m    515\u001b[0m             \u001b[0;32mif\u001b[0m \u001b[0mself\u001b[0m\u001b[0;34m.\u001b[0m\u001b[0m_sampler_iter\u001b[0m \u001b[0;32mis\u001b[0m \u001b[0;32mNone\u001b[0m\u001b[0;34m:\u001b[0m\u001b[0;34m\u001b[0m\u001b[0;34m\u001b[0m\u001b[0m\n\u001b[1;32m    516\u001b[0m                 \u001b[0mself\u001b[0m\u001b[0;34m.\u001b[0m\u001b[0m_reset\u001b[0m\u001b[0;34m(\u001b[0m\u001b[0;34m)\u001b[0m\u001b[0;34m\u001b[0m\u001b[0;34m\u001b[0m\u001b[0m\n\u001b[0;32m--> 517\u001b[0;31m             \u001b[0mdata\u001b[0m \u001b[0;34m=\u001b[0m \u001b[0mself\u001b[0m\u001b[0;34m.\u001b[0m\u001b[0m_next_data\u001b[0m\u001b[0;34m(\u001b[0m\u001b[0;34m)\u001b[0m\u001b[0;34m\u001b[0m\u001b[0;34m\u001b[0m\u001b[0m\n\u001b[0m\u001b[1;32m    518\u001b[0m             \u001b[0mself\u001b[0m\u001b[0;34m.\u001b[0m\u001b[0m_num_yielded\u001b[0m \u001b[0;34m+=\u001b[0m \u001b[0;36m1\u001b[0m\u001b[0;34m\u001b[0m\u001b[0;34m\u001b[0m\u001b[0m\n\u001b[1;32m    519\u001b[0m             \u001b[0;32mif\u001b[0m \u001b[0mself\u001b[0m\u001b[0;34m.\u001b[0m\u001b[0m_dataset_kind\u001b[0m \u001b[0;34m==\u001b[0m \u001b[0m_DatasetKind\u001b[0m\u001b[0;34m.\u001b[0m\u001b[0mIterable\u001b[0m \u001b[0;32mand\u001b[0m\u001b[0;31m \u001b[0m\u001b[0;31m\\\u001b[0m\u001b[0;34m\u001b[0m\u001b[0;34m\u001b[0m\u001b[0m\n",
      "\u001b[0;32m~/anaconda3/envs/daewoong/lib/python3.7/site-packages/torch/utils/data/dataloader.py\u001b[0m in \u001b[0;36m_next_data\u001b[0;34m(self)\u001b[0m\n\u001b[1;32m    555\u001b[0m     \u001b[0;32mdef\u001b[0m \u001b[0m_next_data\u001b[0m\u001b[0;34m(\u001b[0m\u001b[0mself\u001b[0m\u001b[0;34m)\u001b[0m\u001b[0;34m:\u001b[0m\u001b[0;34m\u001b[0m\u001b[0;34m\u001b[0m\u001b[0m\n\u001b[1;32m    556\u001b[0m         \u001b[0mindex\u001b[0m \u001b[0;34m=\u001b[0m \u001b[0mself\u001b[0m\u001b[0;34m.\u001b[0m\u001b[0m_next_index\u001b[0m\u001b[0;34m(\u001b[0m\u001b[0;34m)\u001b[0m  \u001b[0;31m# may raise StopIteration\u001b[0m\u001b[0;34m\u001b[0m\u001b[0;34m\u001b[0m\u001b[0m\n\u001b[0;32m--> 557\u001b[0;31m         \u001b[0mdata\u001b[0m \u001b[0;34m=\u001b[0m \u001b[0mself\u001b[0m\u001b[0;34m.\u001b[0m\u001b[0m_dataset_fetcher\u001b[0m\u001b[0;34m.\u001b[0m\u001b[0mfetch\u001b[0m\u001b[0;34m(\u001b[0m\u001b[0mindex\u001b[0m\u001b[0;34m)\u001b[0m  \u001b[0;31m# may raise StopIteration\u001b[0m\u001b[0;34m\u001b[0m\u001b[0;34m\u001b[0m\u001b[0m\n\u001b[0m\u001b[1;32m    558\u001b[0m         \u001b[0;32mif\u001b[0m \u001b[0mself\u001b[0m\u001b[0;34m.\u001b[0m\u001b[0m_pin_memory\u001b[0m\u001b[0;34m:\u001b[0m\u001b[0;34m\u001b[0m\u001b[0;34m\u001b[0m\u001b[0m\n\u001b[1;32m    559\u001b[0m             \u001b[0mdata\u001b[0m \u001b[0;34m=\u001b[0m \u001b[0m_utils\u001b[0m\u001b[0;34m.\u001b[0m\u001b[0mpin_memory\u001b[0m\u001b[0;34m.\u001b[0m\u001b[0mpin_memory\u001b[0m\u001b[0;34m(\u001b[0m\u001b[0mdata\u001b[0m\u001b[0;34m)\u001b[0m\u001b[0;34m\u001b[0m\u001b[0;34m\u001b[0m\u001b[0m\n",
      "\u001b[0;32m~/anaconda3/envs/daewoong/lib/python3.7/site-packages/torch/utils/data/_utils/fetch.py\u001b[0m in \u001b[0;36mfetch\u001b[0;34m(self, possibly_batched_index)\u001b[0m\n\u001b[1;32m     42\u001b[0m     \u001b[0;32mdef\u001b[0m \u001b[0mfetch\u001b[0m\u001b[0;34m(\u001b[0m\u001b[0mself\u001b[0m\u001b[0;34m,\u001b[0m \u001b[0mpossibly_batched_index\u001b[0m\u001b[0;34m)\u001b[0m\u001b[0;34m:\u001b[0m\u001b[0;34m\u001b[0m\u001b[0;34m\u001b[0m\u001b[0m\n\u001b[1;32m     43\u001b[0m         \u001b[0;32mif\u001b[0m \u001b[0mself\u001b[0m\u001b[0;34m.\u001b[0m\u001b[0mauto_collation\u001b[0m\u001b[0;34m:\u001b[0m\u001b[0;34m\u001b[0m\u001b[0;34m\u001b[0m\u001b[0m\n\u001b[0;32m---> 44\u001b[0;31m             \u001b[0mdata\u001b[0m \u001b[0;34m=\u001b[0m \u001b[0;34m[\u001b[0m\u001b[0mself\u001b[0m\u001b[0;34m.\u001b[0m\u001b[0mdataset\u001b[0m\u001b[0;34m[\u001b[0m\u001b[0midx\u001b[0m\u001b[0;34m]\u001b[0m \u001b[0;32mfor\u001b[0m \u001b[0midx\u001b[0m \u001b[0;32min\u001b[0m \u001b[0mpossibly_batched_index\u001b[0m\u001b[0;34m]\u001b[0m\u001b[0;34m\u001b[0m\u001b[0;34m\u001b[0m\u001b[0m\n\u001b[0m\u001b[1;32m     45\u001b[0m         \u001b[0;32melse\u001b[0m\u001b[0;34m:\u001b[0m\u001b[0;34m\u001b[0m\u001b[0;34m\u001b[0m\u001b[0m\n\u001b[1;32m     46\u001b[0m             \u001b[0mdata\u001b[0m \u001b[0;34m=\u001b[0m \u001b[0mself\u001b[0m\u001b[0;34m.\u001b[0m\u001b[0mdataset\u001b[0m\u001b[0;34m[\u001b[0m\u001b[0mpossibly_batched_index\u001b[0m\u001b[0;34m]\u001b[0m\u001b[0;34m\u001b[0m\u001b[0;34m\u001b[0m\u001b[0m\n",
      "\u001b[0;32m~/anaconda3/envs/daewoong/lib/python3.7/site-packages/torch/utils/data/_utils/fetch.py\u001b[0m in \u001b[0;36m<listcomp>\u001b[0;34m(.0)\u001b[0m\n\u001b[1;32m     42\u001b[0m     \u001b[0;32mdef\u001b[0m \u001b[0mfetch\u001b[0m\u001b[0;34m(\u001b[0m\u001b[0mself\u001b[0m\u001b[0;34m,\u001b[0m \u001b[0mpossibly_batched_index\u001b[0m\u001b[0;34m)\u001b[0m\u001b[0;34m:\u001b[0m\u001b[0;34m\u001b[0m\u001b[0;34m\u001b[0m\u001b[0m\n\u001b[1;32m     43\u001b[0m         \u001b[0;32mif\u001b[0m \u001b[0mself\u001b[0m\u001b[0;34m.\u001b[0m\u001b[0mauto_collation\u001b[0m\u001b[0;34m:\u001b[0m\u001b[0;34m\u001b[0m\u001b[0;34m\u001b[0m\u001b[0m\n\u001b[0;32m---> 44\u001b[0;31m             \u001b[0mdata\u001b[0m \u001b[0;34m=\u001b[0m \u001b[0;34m[\u001b[0m\u001b[0mself\u001b[0m\u001b[0;34m.\u001b[0m\u001b[0mdataset\u001b[0m\u001b[0;34m[\u001b[0m\u001b[0midx\u001b[0m\u001b[0;34m]\u001b[0m \u001b[0;32mfor\u001b[0m \u001b[0midx\u001b[0m \u001b[0;32min\u001b[0m \u001b[0mpossibly_batched_index\u001b[0m\u001b[0;34m]\u001b[0m\u001b[0;34m\u001b[0m\u001b[0;34m\u001b[0m\u001b[0m\n\u001b[0m\u001b[1;32m     45\u001b[0m         \u001b[0;32melse\u001b[0m\u001b[0;34m:\u001b[0m\u001b[0;34m\u001b[0m\u001b[0;34m\u001b[0m\u001b[0m\n\u001b[1;32m     46\u001b[0m             \u001b[0mdata\u001b[0m \u001b[0;34m=\u001b[0m \u001b[0mself\u001b[0m\u001b[0;34m.\u001b[0m\u001b[0mdataset\u001b[0m\u001b[0;34m[\u001b[0m\u001b[0mpossibly_batched_index\u001b[0m\u001b[0;34m]\u001b[0m\u001b[0;34m\u001b[0m\u001b[0;34m\u001b[0m\u001b[0m\n",
      "\u001b[0;32m<ipython-input-30-2a49ac28f5a9>\u001b[0m in \u001b[0;36m__getitem__\u001b[0;34m(self, idx)\u001b[0m\n\u001b[1;32m     33\u001b[0m         \u001b[0mtime_step\u001b[0m \u001b[0;34m=\u001b[0m \u001b[0mself\u001b[0m\u001b[0;34m.\u001b[0m\u001b[0mdata\u001b[0m\u001b[0;34m[\u001b[0m\u001b[0mcell_no\u001b[0m\u001b[0;34m]\u001b[0m\u001b[0;34m[\u001b[0m\u001b[0mself\u001b[0m\u001b[0;34m.\u001b[0m\u001b[0mdata\u001b[0m\u001b[0;34m[\u001b[0m\u001b[0mcell_no\u001b[0m\u001b[0;34m]\u001b[0m\u001b[0;34m.\u001b[0m\u001b[0mCycle_Index\u001b[0m \u001b[0;34m==\u001b[0m \u001b[0mself\u001b[0m\u001b[0;34m.\u001b[0m\u001b[0mcycles\u001b[0m\u001b[0;34m[\u001b[0m\u001b[0mcell_no\u001b[0m\u001b[0;34m]\u001b[0m\u001b[0;34m[\u001b[0m\u001b[0mind\u001b[0m\u001b[0;34m]\u001b[0m\u001b[0;34m]\u001b[0m\u001b[0;34m.\u001b[0m\u001b[0mStep_Time\u001b[0m\u001b[0;34m.\u001b[0m\u001b[0mvalues\u001b[0m\u001b[0;34m\u001b[0m\u001b[0;34m\u001b[0m\u001b[0m\n\u001b[1;32m     34\u001b[0m         \u001b[0mvoltage\u001b[0m \u001b[0;34m=\u001b[0m \u001b[0mself\u001b[0m\u001b[0;34m.\u001b[0m\u001b[0mdata\u001b[0m\u001b[0;34m[\u001b[0m\u001b[0mcell_no\u001b[0m\u001b[0;34m]\u001b[0m\u001b[0;34m[\u001b[0m\u001b[0mself\u001b[0m\u001b[0;34m.\u001b[0m\u001b[0mdata\u001b[0m\u001b[0;34m[\u001b[0m\u001b[0mcell_no\u001b[0m\u001b[0;34m]\u001b[0m\u001b[0;34m.\u001b[0m\u001b[0mCycle_Index\u001b[0m \u001b[0;34m==\u001b[0m \u001b[0mself\u001b[0m\u001b[0;34m.\u001b[0m\u001b[0mcycles\u001b[0m\u001b[0;34m[\u001b[0m\u001b[0mcell_no\u001b[0m\u001b[0;34m]\u001b[0m\u001b[0;34m[\u001b[0m\u001b[0mind\u001b[0m\u001b[0;34m]\u001b[0m\u001b[0;34m]\u001b[0m\u001b[0;34m.\u001b[0m\u001b[0mVoltage\u001b[0m\u001b[0;34m.\u001b[0m\u001b[0mvalues\u001b[0m\u001b[0;34m\u001b[0m\u001b[0;34m\u001b[0m\u001b[0m\n\u001b[0;32m---> 35\u001b[0;31m         \u001b[0mcapacity\u001b[0m \u001b[0;34m=\u001b[0m \u001b[0mself\u001b[0m\u001b[0;34m.\u001b[0m\u001b[0mdata\u001b[0m\u001b[0;34m[\u001b[0m\u001b[0mcell_no\u001b[0m\u001b[0;34m]\u001b[0m\u001b[0;34m[\u001b[0m\u001b[0mself\u001b[0m\u001b[0;34m.\u001b[0m\u001b[0mdata\u001b[0m\u001b[0;34m[\u001b[0m\u001b[0mcell_no\u001b[0m\u001b[0;34m]\u001b[0m\u001b[0;34m.\u001b[0m\u001b[0mCycle_Index\u001b[0m \u001b[0;34m==\u001b[0m \u001b[0mself\u001b[0m\u001b[0;34m.\u001b[0m\u001b[0mcycles\u001b[0m\u001b[0;34m[\u001b[0m\u001b[0mcell_no\u001b[0m\u001b[0;34m]\u001b[0m\u001b[0;34m[\u001b[0m\u001b[0mind\u001b[0m\u001b[0;34m]\u001b[0m\u001b[0;34m]\u001b[0m\u001b[0;34m.\u001b[0m\u001b[0mCharge_Capacity\u001b[0m\u001b[0;34m.\u001b[0m\u001b[0mmax\u001b[0m\u001b[0;34m(\u001b[0m\u001b[0;34m)\u001b[0m\u001b[0;34m\u001b[0m\u001b[0;34m\u001b[0m\u001b[0m\n\u001b[0m\u001b[1;32m     36\u001b[0m \u001b[0;34m\u001b[0m\u001b[0m\n\u001b[1;32m     37\u001b[0m         \u001b[0;31m# choosing a segment of specified length from the discharge curve for training or testing\u001b[0m\u001b[0;34m\u001b[0m\u001b[0;34m\u001b[0m\u001b[0;34m\u001b[0m\u001b[0m\n",
      "\u001b[0;32m~/anaconda3/envs/daewoong/lib/python3.7/site-packages/pandas/core/generic.py\u001b[0m in \u001b[0;36m__getattr__\u001b[0;34m(self, name)\u001b[0m\n\u001b[1;32m   5476\u001b[0m         ):\n\u001b[1;32m   5477\u001b[0m             \u001b[0;32mreturn\u001b[0m \u001b[0mself\u001b[0m\u001b[0;34m[\u001b[0m\u001b[0mname\u001b[0m\u001b[0;34m]\u001b[0m\u001b[0;34m\u001b[0m\u001b[0;34m\u001b[0m\u001b[0m\n\u001b[0;32m-> 5478\u001b[0;31m         \u001b[0;32mreturn\u001b[0m \u001b[0mobject\u001b[0m\u001b[0;34m.\u001b[0m\u001b[0m__getattribute__\u001b[0m\u001b[0;34m(\u001b[0m\u001b[0mself\u001b[0m\u001b[0;34m,\u001b[0m \u001b[0mname\u001b[0m\u001b[0;34m)\u001b[0m\u001b[0;34m\u001b[0m\u001b[0;34m\u001b[0m\u001b[0m\n\u001b[0m\u001b[1;32m   5479\u001b[0m \u001b[0;34m\u001b[0m\u001b[0m\n\u001b[1;32m   5480\u001b[0m     \u001b[0;32mdef\u001b[0m \u001b[0m__setattr__\u001b[0m\u001b[0;34m(\u001b[0m\u001b[0mself\u001b[0m\u001b[0;34m,\u001b[0m \u001b[0mname\u001b[0m\u001b[0;34m:\u001b[0m \u001b[0mstr\u001b[0m\u001b[0;34m,\u001b[0m \u001b[0mvalue\u001b[0m\u001b[0;34m)\u001b[0m \u001b[0;34m->\u001b[0m \u001b[0;32mNone\u001b[0m\u001b[0;34m:\u001b[0m\u001b[0;34m\u001b[0m\u001b[0;34m\u001b[0m\u001b[0m\n",
      "\u001b[0;31mAttributeError\u001b[0m: 'DataFrame' object has no attribute 'Charge_Capacity'"
     ]
    }
   ],
   "source": [
    "for dset,mode in [(train_loader_c,'train'),(test_loader_c,'test')]:\n",
    "    for idx, (x,y) in enumerate(dset):\n",
    "        x = x.float()"
   ]
  },
  {
   "cell_type": "code",
   "execution_count": null,
   "metadata": {},
   "outputs": [],
   "source": []
  },
  {
   "cell_type": "code",
   "execution_count": null,
   "metadata": {},
   "outputs": [],
   "source": []
  },
  {
   "cell_type": "code",
   "execution_count": null,
   "metadata": {},
   "outputs": [],
   "source": []
  },
  {
   "cell_type": "code",
   "execution_count": null,
   "metadata": {},
   "outputs": [],
   "source": []
  },
  {
   "cell_type": "code",
   "execution_count": null,
   "metadata": {},
   "outputs": [],
   "source": []
  },
  {
   "cell_type": "code",
   "execution_count": null,
   "metadata": {},
   "outputs": [],
   "source": []
  },
  {
   "cell_type": "code",
   "execution_count": null,
   "metadata": {},
   "outputs": [],
   "source": []
  },
  {
   "cell_type": "code",
   "execution_count": null,
   "metadata": {},
   "outputs": [],
   "source": []
  }
 ],
 "metadata": {
  "kernelspec": {
   "display_name": "Python 3",
   "language": "python",
   "name": "python3"
  },
  "language_info": {
   "codemirror_mode": {
    "name": "ipython",
    "version": 3
   },
   "file_extension": ".py",
   "mimetype": "text/x-python",
   "name": "python",
   "nbconvert_exporter": "python",
   "pygments_lexer": "ipython3",
   "version": "3.8.3"
  }
 },
 "nbformat": 4,
 "nbformat_minor": 5
}
