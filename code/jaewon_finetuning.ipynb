{
 "cells": [
  {
   "cell_type": "code",
   "execution_count": 1,
   "metadata": {},
   "outputs": [],
   "source": [
    "import pandas as pd\n",
    "import os\n",
    "import numpy as np\n",
    "from scipy.interpolate import InterpolatedUnivariateSpline\n",
    "import copy\n",
    "import matplotlib.pyplot as plt\n",
    "from sklearn.metrics import mean_absolute_percentage_error\n",
    "from glob import glob\n",
    "from torch.optim.lr_scheduler import StepLR"
   ]
  },
  {
   "cell_type": "code",
   "execution_count": 2,
   "metadata": {},
   "outputs": [],
   "source": [
    "def load_csvs(csv_paths):\n",
    "    \n",
    "    data = []\n",
    "    cycles = []\n",
    "   \n",
    "    for path in (csv_paths):\n",
    "        assert os.path.exists(path)\n",
    "        df = pd.read_csv(path)\n",
    "#         if df.Cycle_Index.unique().shape[0] > 2000:\n",
    "#             continue\n",
    "        print(df.Cycle_Index.unique().shape[0])\n",
    "        df = df[df['Step_Index'] == 10] # discharge\n",
    "        df = df[df['Step_Time'] > 0] # remove outliers\n",
    "        df = df[df['Step_Time'] < 5000] #remove outliers\n",
    "        df = df[df[\"Cycle_Index\"] > 0] # remove outliers\n",
    "            \n",
    "        df = df[df[\"Voltage\"] <3.21] \n",
    "        df = df[df[\"Voltage\"] >2.95]\n",
    "        df[\"Charge_Capacity\"] /= 1.1\n",
    "            \n",
    "        \n",
    "        data.append(df)\n",
    "        cycle = df[\"Cycle_Index\"].unique()\n",
    "        cycles.append(cycle)\n",
    "        \n",
    "        print (f\"total points in {path}\", df.shape)\n",
    "    \n",
    "    \n",
    "    return data, cycles\n"
   ]
  },
  {
   "cell_type": "code",
   "execution_count": 3,
   "metadata": {},
   "outputs": [],
   "source": [
    "\n",
    "def plot_cycles(data, cycles):\n",
    "    print(\"plotting...\")\n",
    "    for d, cycle in zip(data, cycles):\n",
    "        for i,c in enumerate(cycle):\n",
    "            cycle_data = d[d.Cycle_Index == c]\n",
    "            time, voltage = cycle_data['Step_Time'].values, cycle_data.Voltage \n",
    "            try:\n",
    "                time = time - time[0]\n",
    "            except:\n",
    "                print (time, voltage, \"skipping\")\n",
    "                continue\n",
    "            plt.xlabel(\"time\")\n",
    "            plt.ylabel(\"voltage\")\n",
    "            plt.plot(time,voltage)\n",
    "\n",
    "    plt.show()\n",
    "    "
   ]
  },
  {
   "cell_type": "code",
   "execution_count": 4,
   "metadata": {},
   "outputs": [],
   "source": [
    "def fit_spline(data, cycles, no_points=500):\n",
    "    i = 0\n",
    "    \n",
    "    for cycle, d in zip (cycles, data):\n",
    "        cell_np = []\n",
    "        for index, c in enumerate (cycle):\n",
    "            cycle_data = d[d[\"Cycle_Index\"] == c]\n",
    "            \n",
    "            time, voltage, capacity, ind = cycle_data.Step_Time.values, cycle_data.Voltage, cycle_data.Charge_Capacity, cycle_data.Cycle_Index\n",
    "            time = time - time[0]\n",
    "            \n",
    "            # using spline function to to make dimensions of all cycles equal (to create equal number of points in every cycle)\n",
    "            ius = InterpolatedUnivariateSpline(time, voltage, k=1)\n",
    "\n",
    "            # creating linear space 0, 200 of 20,000 points\n",
    "            xi = np.linspace(0,700, 20000)\n",
    "            yi_test = ius(xi)\n",
    "\n",
    "            index_1 = np.argmin(np.abs(yi_test[:1000] - 3.2))\n",
    "            index_2 = np.argmin(np.abs(yi_test - 3.1))\n",
    "\n",
    "            indices = np.linspace(index_1, index_2, no_points).astype(int)\n",
    "\n",
    "            #discarding points that are greater than time\n",
    "#             xi = xi[xi < time[-1]]\n",
    "            #creating indices equal to number of points of xi and selecting 400 equidistant integers\n",
    "#             indices = np.linspace(0, time[-1]*100 -1, no_points).astype(int)\n",
    "#             #selecting time at specified indices\n",
    "            xi = xi[indices]\n",
    "            yi = ius(xi)\n",
    "            if yi[yi<2.998].any():\n",
    "                continue\n",
    "#                       \n",
    "            ind = np.zeros_like(xi) + ind.values[0]\n",
    "            capacity = np.zeros_like(xi) + np.max(capacity)\n",
    "            cell_np.append(np.array([xi, yi, capacity, ind]))\n",
    "        cell_np = np.concatenate(cell_np, axis=1)\n",
    "        cell_np = np.transpose(cell_np, (1,0))\n",
    "        data[i] = pd.DataFrame(cell_np, columns = ['Step_Time', 'Voltage', 'Charge_Capacity', 'Cycle_Index'])\n",
    "        i+=1\n",
    "        \n",
    "    return data"
   ]
  },
  {
   "cell_type": "code",
   "execution_count": 5,
   "metadata": {},
   "outputs": [
    {
     "data": {
      "text/plain": [
       "['D:\\\\Research\\\\Battery SOH\\\\DATA\\\\MIT discharge data\\\\2017-06-30_2C-10per_6C_CH10_b2c1_discharge.csv']"
      ]
     },
     "execution_count": 5,
     "metadata": {},
     "output_type": "execute_result"
    }
   ],
   "source": [
    "csvs = glob(\"D:\\\\Research\\\\Battery SOH\\\\DATA\\\\MIT discharge data\\\\*b2c1*\")\n",
    "\n",
    "# b1이 들어간 파일은 mit_csv리스트에 담지 않는다\n",
    "csvs = [i for i in csvs if \"b1c42\" not in i]\n",
    "csvs"
   ]
  },
  {
   "cell_type": "code",
   "execution_count": 6,
   "metadata": {},
   "outputs": [
    {
     "name": "stdout",
     "output_type": "stream",
     "text": [
      "170\n",
      "total points in D:\\Research\\Battery SOH\\DATA\\MIT discharge data\\2017-06-30_2C-10per_6C_CH10_b2c1_discharge.csv (25333, 8)\n"
     ]
    }
   ],
   "source": [
    "csvs, cycles = load_csvs(csvs)\n",
    "# plot_cycles(csvs, cycles)"
   ]
  },
  {
   "cell_type": "code",
   "execution_count": 7,
   "metadata": {},
   "outputs": [
    {
     "name": "stdout",
     "output_type": "stream",
     "text": [
      "plotting...\n"
     ]
    },
    {
     "data": {
      "image/png": "[encoded data removed]",
      "text/plain": [
       "<Figure size 432x288 with 1 Axes>"
      ]
     },
     "metadata": {
      "needs_background": "light"
     },
     "output_type": "display_data"
    }
   ],
   "source": [
    "data = fit_spline(csvs.copy(), cycles, no_points=500)\n",
    "plot_cycles(data, cycles)"
   ]
  },
  {
   "cell_type": "code",
   "execution_count": 11,
   "metadata": {},
   "outputs": [
    {
     "data": {
      "text/plain": [
       "51"
      ]
     },
     "execution_count": 11,
     "metadata": {},
     "output_type": "execute_result"
    }
   ],
   "source": [
    "# 전체 사이클의 30프로를 전이 학습 데이터로 사용/ long의 경우 50%\n",
    "transfer_learning_cycles = round(cycles[0][-1]*0.3)\n",
    "transfer_learning_cycles\n",
    "# mean = (cycles[0][-1]+cycles[1][-1])/2\n",
    "# transfer_learning_cycles = round(mean*0.3)\n",
    "# transfer_learning_cycles"
   ]
  },
  {
   "cell_type": "code",
   "execution_count": 12,
   "metadata": {},
   "outputs": [],
   "source": [
    "# 이거 파악하는게 핵심 >> 내생각엔 배터리 사이클이 100 이전엔 이상치 셀들도 거의 비슷하게 예측하는 그 이후에는 정확도가 떨어져서\n",
    "# 이상치 셀들만한해서 추가 전이학습을 진행한다고 이해하였다.\n",
    "train_data = [d[d.Cycle_Index < transfer_learning_cycles] for d in data]\n",
    "test_data = [d[d.Cycle_Index >= transfer_learning_cycles] for d in data]\n",
    "train_cycles = [cycle[cycle < transfer_learning_cycles] for cycle in cycles]\n",
    "test_cycles = [cycle[cycle >= transfer_learning_cycles] for cycle in cycles]"
   ]
  },
  {
   "cell_type": "code",
   "execution_count": 13,
   "metadata": {},
   "outputs": [
    {
     "data": {
      "text/html": [
       "<div>\n",
       "<style scoped>\n",
       "    .dataframe tbody tr th:only-of-type {\n",
       "        vertical-align: middle;\n",
       "    }\n",
       "\n",
       "    .dataframe tbody tr th {\n",
       "        vertical-align: top;\n",
       "    }\n",
       "\n",
       "    .dataframe thead th {\n",
       "        text-align: right;\n",
       "    }\n",
       "</style>\n",
       "<table border=\"1\" class=\"dataframe\">\n",
       "  <thead>\n",
       "    <tr style=\"text-align: right;\">\n",
       "      <th></th>\n",
       "      <th>Step_Time</th>\n",
       "      <th>Voltage</th>\n",
       "      <th>Charge_Capacity</th>\n",
       "      <th>Cycle_Index</th>\n",
       "    </tr>\n",
       "  </thead>\n",
       "  <tbody>\n",
       "    <tr>\n",
       "      <th>25000</th>\n",
       "      <td>2.625131</td>\n",
       "      <td>3.199980</td>\n",
       "      <td>0.938667</td>\n",
       "      <td>51.0</td>\n",
       "    </tr>\n",
       "    <tr>\n",
       "      <th>25001</th>\n",
       "      <td>3.115156</td>\n",
       "      <td>3.198783</td>\n",
       "      <td>0.938667</td>\n",
       "      <td>51.0</td>\n",
       "    </tr>\n",
       "    <tr>\n",
       "      <th>25002</th>\n",
       "      <td>3.605180</td>\n",
       "      <td>3.197587</td>\n",
       "      <td>0.938667</td>\n",
       "      <td>51.0</td>\n",
       "    </tr>\n",
       "    <tr>\n",
       "      <th>25003</th>\n",
       "      <td>4.130207</td>\n",
       "      <td>3.196305</td>\n",
       "      <td>0.938667</td>\n",
       "      <td>51.0</td>\n",
       "    </tr>\n",
       "    <tr>\n",
       "      <th>25004</th>\n",
       "      <td>4.620231</td>\n",
       "      <td>3.195384</td>\n",
       "      <td>0.938667</td>\n",
       "      <td>51.0</td>\n",
       "    </tr>\n",
       "    <tr>\n",
       "      <th>...</th>\n",
       "      <td>...</td>\n",
       "      <td>...</td>\n",
       "      <td>...</td>\n",
       "      <td>...</td>\n",
       "    </tr>\n",
       "    <tr>\n",
       "      <th>84495</th>\n",
       "      <td>61.078054</td>\n",
       "      <td>3.100286</td>\n",
       "      <td>0.754872</td>\n",
       "      <td>169.0</td>\n",
       "    </tr>\n",
       "    <tr>\n",
       "      <th>84496</th>\n",
       "      <td>61.183059</td>\n",
       "      <td>3.100226</td>\n",
       "      <td>0.754872</td>\n",
       "      <td>169.0</td>\n",
       "    </tr>\n",
       "    <tr>\n",
       "      <th>84497</th>\n",
       "      <td>61.323066</td>\n",
       "      <td>3.100146</td>\n",
       "      <td>0.754872</td>\n",
       "      <td>169.0</td>\n",
       "    </tr>\n",
       "    <tr>\n",
       "      <th>84498</th>\n",
       "      <td>61.428071</td>\n",
       "      <td>3.100086</td>\n",
       "      <td>0.754872</td>\n",
       "      <td>169.0</td>\n",
       "    </tr>\n",
       "    <tr>\n",
       "      <th>84499</th>\n",
       "      <td>61.568078</td>\n",
       "      <td>3.100005</td>\n",
       "      <td>0.754872</td>\n",
       "      <td>169.0</td>\n",
       "    </tr>\n",
       "  </tbody>\n",
       "</table>\n",
       "<p>59500 rows × 4 columns</p>\n",
       "</div>"
      ],
      "text/plain": [
       "       Step_Time   Voltage  Charge_Capacity  Cycle_Index\n",
       "25000   2.625131  3.199980         0.938667         51.0\n",
       "25001   3.115156  3.198783         0.938667         51.0\n",
       "25002   3.605180  3.197587         0.938667         51.0\n",
       "25003   4.130207  3.196305         0.938667         51.0\n",
       "25004   4.620231  3.195384         0.938667         51.0\n",
       "...          ...       ...              ...          ...\n",
       "84495  61.078054  3.100286         0.754872        169.0\n",
       "84496  61.183059  3.100226         0.754872        169.0\n",
       "84497  61.323066  3.100146         0.754872        169.0\n",
       "84498  61.428071  3.100086         0.754872        169.0\n",
       "84499  61.568078  3.100005         0.754872        169.0\n",
       "\n",
       "[59500 rows x 4 columns]"
      ]
     },
     "execution_count": 13,
     "metadata": {},
     "output_type": "execute_result"
    }
   ],
   "source": [
    "test_data[0]"
   ]
  },
  {
   "cell_type": "code",
   "execution_count": 14,
   "metadata": {},
   "outputs": [],
   "source": [
    "import torch.nn as nn\n",
    "import torch.nn.functional as F\n",
    "\n",
    "\n",
    "    \n",
    "# creating a four layer neural network.\n",
    "# number of elements in input layer = segment length x 2\n",
    "# 2 hidden layers each with two hundred units\n",
    "\n",
    "    \n",
    "# Neural Net to predict capacity\n",
    "class CapacityNet(nn.Module):\n",
    "    def __init__(self):\n",
    "        super(CapacityNet, self).__init__()\n",
    "\n",
    "        self.l1 = nn.Linear(in_features= int(500 * 2), out_features=400)\n",
    "        self.l2 = nn.Linear(in_features=400, out_features=400)\n",
    "        self.l3 = nn.Linear(in_features=400, out_features=400)\n",
    "        self.l4 = nn.Linear(in_features=400, out_features=200)\n",
    "        self.l5 = nn.Linear(in_features=200, out_features=100)\n",
    "        self.l6 = nn.Linear(in_features=100, out_features=1)\n",
    "#         self.l6_new = nn.Linear(in_features=100, out_features=1)\n",
    "        \n",
    "    def forward(self, x):\n",
    "        x = F.relu(self.l1(x))\n",
    "        x = F.relu(self.l2(x))\n",
    "        x = F.relu(self.l3(x))\n",
    "        x = F.relu(self.l4(x))\n",
    "        x = F.relu(self.l5(x))\n",
    "        return self.l6(x)\n",
    "\n",
    "    \n",
    "    "
   ]
  },
  {
   "cell_type": "code",
   "execution_count": 15,
   "metadata": {},
   "outputs": [],
   "source": [
    "from torch.utils.data import Dataset, DataLoader\n",
    "import numpy as np\n",
    "import torch\n",
    "from bisect import bisect\n",
    "  \n",
    "\n",
    "# procesing data to get samples for training and testing\n",
    "    \n",
    "class CapacityDataset(Dataset):\n",
    "    def __init__(self, data, type=\"train\"):\n",
    "        self.cycles = []\n",
    "\n",
    "        for d in data:\n",
    "            self.cycles.append(d.Cycle_Index.unique())\n",
    "        self.data = data\n",
    "#         self.window = window\n",
    "        # cycles per cell\n",
    "        self.spc = [cycle.shape[0] for cycle in  self.cycles]\n",
    "        \n",
    "    def __len__(self):\n",
    "        return sum(self.spc)\n",
    "\n",
    "    def __getitem__(self, idx):\n",
    "        \n",
    "        # the next three lines are locating the index in cycles of a particular cell\n",
    "        \n",
    "        cumsum = np.cumsum(self.spc)\n",
    "        cell_no = bisect(cumsum, idx)\n",
    "        ind = idx if cell_no == 0 else idx - cumsum[cell_no - 1]\n",
    "        \n",
    "        # picking the value of time, voltage, and capacity for the specified cycle during training or testing\n",
    "        \n",
    "        time_step = self.data[cell_no][self.data[cell_no].Cycle_Index == self.cycles[cell_no][ind]].Step_Time.values\n",
    "        voltage = self.data[cell_no][self.data[cell_no].Cycle_Index == self.cycles[cell_no][ind]].Voltage.values\n",
    "        capacity = self.data[cell_no][self.data[cell_no].Cycle_Index == self.cycles[cell_no][ind]].Charge_Capacity.max()\n",
    "        \n",
    "        # choosing a segment of specified length from the discharge curve for training or testing\n",
    "        # if random = True, the segment will start anywhere from start of curve to 400- length of segment\n",
    "#         print (time_step.shape, voltage.shape, cell_no, ind, capacity )\n",
    "\n",
    "#         segment_length = np.random.randint(self.window[0], self.window[1])\n",
    "#         start = 0 if not self.random else np.random.randint(0, 400 - segment_length)\n",
    "#         time_x = time_step[start: start+segment_length]\n",
    "#         voltage_x = voltage[start: start+segment_length]\n",
    "        # creating input / feature vector (segment length x2)\n",
    "        # the vector has voltage values followed by the corresponding time values\n",
    "#         x = np.zeros((voltage_x.shape[0]*2))\n",
    "        x = np.zeros((voltage.shape[0]*2))\n",
    "#         max_segment = np.zeros((self.max_points * 2)) \n",
    "        x[::2] = voltage\n",
    "        x[1::2] = time_step / 100\n",
    "#         x_random_seg = np.zeros(((self.window[1] - 1) * 2))\n",
    "#         x_random_seg[:x.shape[0]] = x\n",
    "\n",
    "#         max_segment[:x.shape[0]] = x\n",
    "\n",
    "\n",
    "        return x , torch.from_numpy(np.array([capacity]))\n",
    "\n",
    "\n"
   ]
  },
  {
   "cell_type": "code",
   "execution_count": 16,
   "metadata": {},
   "outputs": [],
   "source": [
    "train_voltage_c = CapacityDataset(train_data)\n",
    "train_loader_c = DataLoader(train_voltage_c, batch_size=64, shuffle=True)\n",
    "\n",
    "valid_voltage_c = CapacityDataset([test_data[0]])\n",
    "valid_loader_c = DataLoader(valid_voltage_c, batch_size=64, shuffle=False)\n",
    "\n",
    "test_mit = CapacityDataset([test_data[0]])\n",
    "test_loader_mit = DataLoader(test_mit, batch_size=64, shuffle=False)\n",
    "\n",
    "# Net to predict Capacity\n",
    "net =  CapacityNet()\n",
    "optimizer = torch.optim.Adam(net.parameters(), lr=0.00041)\n",
    "criteria = torch.nn.MSELoss() \n",
    "scheduler = StepLR(optimizer, step_size=4, gamma=0.99)"
   ]
  },
  {
   "cell_type": "code",
   "execution_count": 17,
   "metadata": {},
   "outputs": [
    {
     "data": {
      "text/plain": [
       "<All keys matched successfully>"
      ]
     },
     "execution_count": 17,
     "metadata": {},
     "output_type": "execute_result"
    }
   ],
   "source": [
    "net.load_state_dict(torch.load(\"./pretraining_0.1seg.pt\"), strict=False)\n",
    "\n",
    "# for name, param in net.named_parameters():\n",
    "#     if  \"l5\" not in name and \"l6\" not in name:\n",
    "#         param.requires_grad=False\n",
    "#         pass\n",
    "\n",
    "# for name, param in net.named_parameters():\n",
    "#     print(name, param.requires_grad)"
   ]
  },
  {
   "cell_type": "code",
   "execution_count": 18,
   "metadata": {},
   "outputs": [],
   "source": [
    "\n",
    "\n",
    "\n",
    "def train(net, best, train_set, test_set, optimizer, criteria, epoch, best_mape):\n",
    "    for dset, mode in [(train_set, 'train'), (test_set, 'test')]: # looping over two dataloaders (train and test)\n",
    "        if mode == \"test\":\n",
    "            net.eval() # if testing, don't compute gradients \n",
    "        else:\n",
    "            net.train()\n",
    "        loss = 0\n",
    "        preds = []\n",
    "        target = []\n",
    "        for ind, (x, y) in enumerate(dset): # looping over dataloader (train or test)\n",
    "            x = x.float()  #converting datatype to float, data type of inputs must match the datatype of weights of network\n",
    "            y = y.float()\n",
    "\n",
    "            pred = net(x) # neural net forward is called with input x. it will return capacity\n",
    "            loss = criteria(pred, y) # computing mean square error between predicted capacity and target capacity\n",
    "#             print (mode)\n",
    "            if mode == \"test\":\n",
    "                preds.extend(pred.detach().numpy().reshape(-1)) # if test dataloader, save the predictions for further analysis\n",
    "                target.extend(y.cpu().numpy())\n",
    "            if mode == 'train':\n",
    "                optimizer.zero_grad() # if train mode, if there are any gradients from previous time step, set them to 0\n",
    "                loss.backward()  # back propagation\n",
    "                optimizer.step() # updating the weights\n",
    "            loss += loss.item()  # converting loss(pytorch tensor) to python object and adding the value to total loss\n",
    "    \n",
    "    mape =  mean_absolute_percentage_error(preds, target) # computing the error of epoch\n",
    "    if mape < best_mape and mode == \"test\":\n",
    "        best = copy.deepcopy(net) #if error is less than the best error observed so far. save the model\n",
    "        best_mape = mape # current error is the least error so for. so setting it as the best mape\n",
    "    print (f'Mode: {mode} __ Epoch: {epoch} __ Loss: {loss/len(dset)}, mape: {mape}, Best Mape: {best_mape}')\n",
    "    return net, best, best_mape # return the trained net\n",
    "    "
   ]
  },
  {
   "cell_type": "code",
   "execution_count": 19,
   "metadata": {
    "scrolled": true
   },
   "outputs": [
    {
     "name": "stdout",
     "output_type": "stream",
     "text": [
      "Mode: test __ Epoch: 0 __ Loss: 0.06439927965402603, mape: 0.2274133563041687, Best Mape: 0.2274133563041687\n",
      "Learning rate [0.00041]\n",
      "Mode: test __ Epoch: 1 __ Loss: 0.00656065484508872, mape: 0.07516546547412872, Best Mape: 0.07516546547412872\n",
      "Learning rate [0.00041]\n",
      "Mode: test __ Epoch: 2 __ Loss: 0.0034681011456996202, mape: 0.09445952624082565, Best Mape: 0.07516546547412872\n",
      "Learning rate [0.00041]\n",
      "Mode: test __ Epoch: 3 __ Loss: 0.01405797153711319, mape: 0.19163765013217926, Best Mape: 0.07516546547412872\n",
      "Learning rate [0.00041]\n",
      "Mode: test __ Epoch: 4 __ Loss: 0.014906205236911774, mape: 0.19793622195720673, Best Mape: 0.07516546547412872\n",
      "Learning rate [0.0004059]\n",
      "Mode: test __ Epoch: 5 __ Loss: 0.0076100267469882965, mape: 0.13943138718605042, Best Mape: 0.07516546547412872\n",
      "Learning rate [0.0004059]\n",
      "Mode: test __ Epoch: 6 __ Loss: 0.0008282028720714152, mape: 0.050187837332487106, Best Mape: 0.050187837332487106\n",
      "Learning rate [0.0004059]\n",
      "Mode: test __ Epoch: 7 __ Loss: 0.0026373190339654684, mape: 0.041291650384664536, Best Mape: 0.041291650384664536\n",
      "Learning rate [0.0004059]\n",
      "Mode: test __ Epoch: 8 __ Loss: 0.013139578513801098, mape: 0.10849462449550629, Best Mape: 0.041291650384664536\n",
      "Learning rate [0.000401841]\n",
      "Mode: test __ Epoch: 9 __ Loss: 0.02039034105837345, mape: 0.1350117176771164, Best Mape: 0.041291650384664536\n",
      "Learning rate [0.000401841]\n",
      "Mode: test __ Epoch: 10 __ Loss: 0.016363054513931274, mape: 0.12076004594564438, Best Mape: 0.041291650384664536\n",
      "Learning rate [0.000401841]\n",
      "Mode: test __ Epoch: 11 __ Loss: 0.007071598898619413, mape: 0.0765547901391983, Best Mape: 0.041291650384664536\n",
      "Learning rate [0.000401841]\n",
      "Mode: test __ Epoch: 12 __ Loss: 0.0011487354058772326, mape: 0.022601479664444923, Best Mape: 0.022601479664444923\n",
      "Learning rate [0.00039782259]\n",
      "Mode: test __ Epoch: 13 __ Loss: 0.00041015769238583744, mape: 0.03828509896993637, Best Mape: 0.022601479664444923\n",
      "Learning rate [0.00039782259]\n",
      "Mode: test __ Epoch: 14 __ Loss: 0.0017549691256135702, mape: 0.07129238545894623, Best Mape: 0.022601479664444923\n",
      "Learning rate [0.00039782259]\n",
      "Mode: test __ Epoch: 15 __ Loss: 0.002131445100530982, mape: 0.07783444970846176, Best Mape: 0.022601479664444923\n",
      "Learning rate [0.00039782259]\n",
      "Mode: test __ Epoch: 16 __ Loss: 0.0011024364503100514, mape: 0.0583639070391655, Best Mape: 0.022601479664444923\n",
      "Learning rate [0.0003938443641]\n",
      "Mode: test __ Epoch: 17 __ Loss: 0.00023193395463749766, mape: 0.028282158076763153, Best Mape: 0.022601479664444923\n",
      "Learning rate [0.0003938443641]\n",
      "Mode: test __ Epoch: 18 __ Loss: 0.0013676908565685153, mape: 0.024554448202252388, Best Mape: 0.022601479664444923\n",
      "Learning rate [0.0003938443641]\n",
      "Mode: test __ Epoch: 19 __ Loss: 0.0048101902939379215, mape: 0.059488121420145035, Best Mape: 0.022601479664444923\n",
      "Learning rate [0.0003938443641]\n",
      "Mode: test __ Epoch: 20 __ Loss: 0.008326210081577301, mape: 0.08285438269376755, Best Mape: 0.022601479664444923\n",
      "Learning rate [0.000389905920459]\n",
      "Mode: test __ Epoch: 21 __ Loss: 0.009174101985991001, mape: 0.0874413400888443, Best Mape: 0.022601479664444923\n",
      "Learning rate [0.000389905920459]\n",
      "Mode: test __ Epoch: 22 __ Loss: 0.0069102635607123375, mape: 0.07409973442554474, Best Mape: 0.022601479664444923\n",
      "Learning rate [0.000389905920459]\n",
      "Mode: test __ Epoch: 23 __ Loss: 0.003546946682035923, mape: 0.04803066328167915, Best Mape: 0.022601479664444923\n",
      "Learning rate [0.000389905920459]\n",
      "Mode: test __ Epoch: 24 __ Loss: 0.0011887068394571543, mape: 0.022543804720044136, Best Mape: 0.022543804720044136\n",
      "Learning rate [0.00038600686125441]\n",
      "Mode: test __ Epoch: 25 __ Loss: 0.00031928555108606815, mape: 0.02276376448571682, Best Mape: 0.022543804720044136\n",
      "Learning rate [0.00038600686125441]\n",
      "Mode: test __ Epoch: 26 __ Loss: 0.0002441637625452131, mape: 0.030038494616746902, Best Mape: 0.022543804720044136\n",
      "Learning rate [0.00038600686125441]\n",
      "Mode: test __ Epoch: 27 __ Loss: 0.00024208032118622214, mape: 0.03003670647740364, Best Mape: 0.022543804720044136\n",
      "Learning rate [0.00038600686125441]\n",
      "Mode: test __ Epoch: 28 __ Loss: 0.0002991114160977304, mape: 0.02359452284872532, Best Mape: 0.022543804720044136\n",
      "Learning rate [0.0003821467926418659]\n",
      "Mode: test __ Epoch: 29 __ Loss: 0.0008984407177194953, mape: 0.020229218527674675, Best Mape: 0.020229218527674675\n",
      "Learning rate [0.0003821467926418659]\n",
      "Mode: test __ Epoch: 30 __ Loss: 0.0023432401940226555, mape: 0.03469439223408699, Best Mape: 0.020229218527674675\n",
      "Learning rate [0.0003821467926418659]\n",
      "Mode: test __ Epoch: 31 __ Loss: 0.004173106048256159, mape: 0.05312670022249222, Best Mape: 0.020229218527674675\n",
      "Learning rate [0.0003821467926418659]\n",
      "Mode: test __ Epoch: 32 __ Loss: 0.0053215548396110535, mape: 0.06233387812972069, Best Mape: 0.020229218527674675\n",
      "Learning rate [0.00037832532471544723]\n",
      "Mode: test __ Epoch: 33 __ Loss: 0.005098910070955753, mape: 0.060571879148483276, Best Mape: 0.020229218527674675\n",
      "Learning rate [0.00037832532471544723]\n",
      "Mode: test __ Epoch: 34 __ Loss: 0.0037740059196949005, mape: 0.04934295639395714, Best Mape: 0.020229218527674675\n",
      "Learning rate [0.00037832532471544723]\n",
      "Mode: test __ Epoch: 35 __ Loss: 0.0022309161722660065, mape: 0.033149443566799164, Best Mape: 0.020229218527674675\n",
      "Learning rate [0.00037832532471544723]\n",
      "Mode: test __ Epoch: 36 __ Loss: 0.0011437013745307922, mape: 0.022071711719036102, Best Mape: 0.020229218527674675\n",
      "Learning rate [0.00037454207146829277]\n",
      "Mode: test __ Epoch: 37 __ Loss: 0.0006585904047824442, mape: 0.020311331376433372, Best Mape: 0.020229218527674675\n",
      "Learning rate [0.00037454207146829277]\n",
      "Mode: test __ Epoch: 38 __ Loss: 0.0005442996043711901, mape: 0.0208146832883358, Best Mape: 0.020229218527674675\n",
      "Learning rate [0.00037454207146829277]\n",
      "Mode: test __ Epoch: 39 __ Loss: 0.0006940281600691378, mape: 0.020341048017144203, Best Mape: 0.020229218527674675\n",
      "Learning rate [0.00037454207146829277]\n",
      "Mode: test __ Epoch: 40 __ Loss: 0.0011688250815495849, mape: 0.02226346544921398, Best Mape: 0.020229218527674675\n",
      "Learning rate [0.00037079665075360986]\n",
      "Mode: test __ Epoch: 41 __ Loss: 0.0020142425782978535, mape: 0.03049296699464321, Best Mape: 0.020229218527674675\n",
      "Learning rate [0.00037079665075360986]\n",
      "Mode: test __ Epoch: 42 __ Loss: 0.003018102142959833, mape: 0.04141755402088165, Best Mape: 0.020229218527674675\n",
      "Learning rate [0.00037079665075360986]\n",
      "Mode: test __ Epoch: 43 __ Loss: 0.003728266106918454, mape: 0.04835071042180061, Best Mape: 0.020229218527674675\n",
      "Learning rate [0.00037079665075360986]\n",
      "Mode: test __ Epoch: 44 __ Loss: 0.003778936341404915, mape: 0.04876453056931496, Best Mape: 0.020229218527674675\n",
      "Learning rate [0.00036708868424607376]\n",
      "Mode: test __ Epoch: 45 __ Loss: 0.0032055212650448084, mape: 0.04316646605730057, Best Mape: 0.020229218527674675\n",
      "Learning rate [0.00036708868424607376]\n",
      "Mode: test __ Epoch: 46 __ Loss: 0.002369190799072385, mape: 0.03413436561822891, Best Mape: 0.020229218527674675\n",
      "Learning rate [0.00036708868424607376]\n",
      "Mode: test __ Epoch: 47 __ Loss: 0.0016500524943694472, mape: 0.026502732187509537, Best Mape: 0.020229218527674675\n",
      "Learning rate [0.00036708868424607376]\n",
      "Mode: test __ Epoch: 48 __ Loss: 0.0012305224081501365, mape: 0.022747129201889038, Best Mape: 0.020229218527674675\n",
      "Learning rate [0.000363417797403613]\n",
      "Mode: test __ Epoch: 49 __ Loss: 0.0011080254334956408, mape: 0.02178138867020607, Best Mape: 0.020229218527674675\n",
      "Learning rate [0.000363417797403613]\n",
      "Mode: test __ Epoch: 50 __ Loss: 0.001251607434824109, mape: 0.022916141897439957, Best Mape: 0.020229218527674675\n",
      "Learning rate [0.000363417797403613]\n",
      "Mode: test __ Epoch: 51 __ Loss: 0.0016459563048556447, mape: 0.026373405009508133, Best Mape: 0.020229218527674675\n",
      "Learning rate [0.000363417797403613]\n",
      "Mode: test __ Epoch: 52 __ Loss: 0.0022203230764716864, mape: 0.03226078674197197, Best Mape: 0.020229218527674675\n",
      "Learning rate [0.0003597836194295769]\n",
      "Mode: test __ Epoch: 53 __ Loss: 0.0028001810424029827, mape: 0.038501281291246414, Best Mape: 0.020229218527674675\n",
      "Learning rate [0.0003597836194295769]\n",
      "Mode: test __ Epoch: 54 __ Loss: 0.0031449252273887396, mape: 0.04206879809498787, Best Mape: 0.020229218527674675\n",
      "Learning rate [0.0003597836194295769]\n",
      "Mode: test __ Epoch: 55 __ Loss: 0.003108641132712364, mape: 0.041624728590250015, Best Mape: 0.020229218527674675\n",
      "Learning rate [0.0003597836194295769]\n"
     ]
    },
    {
     "name": "stdout",
     "output_type": "stream",
     "text": [
      "Mode: test __ Epoch: 56 __ Loss: 0.0027482195291668177, mape: 0.03772279620170593, Best Mape: 0.020229218527674675\n",
      "Learning rate [0.0003561857832352811]\n",
      "Mode: test __ Epoch: 57 __ Loss: 0.002255766885355115, mape: 0.03238481283187866, Best Mape: 0.020229218527674675\n",
      "Learning rate [0.0003561857832352811]\n",
      "Mode: test __ Epoch: 58 __ Loss: 0.0018430084455758333, mape: 0.02803458273410797, Best Mape: 0.020229218527674675\n",
      "Learning rate [0.0003561857832352811]\n",
      "Mode: test __ Epoch: 59 __ Loss: 0.0016327931080013514, mape: 0.02604668401181698, Best Mape: 0.020229218527674675\n",
      "Learning rate [0.0003561857832352811]\n"
     ]
    }
   ],
   "source": [
    "best_mape=4\n",
    "best=None\n",
    "for epoch in range(60):\n",
    "    net, best, best_mape = train(net, best, train_loader_c, valid_loader_c, optimizer, criteria, epoch, best_mape)\n",
    "    print (f'Learning rate {scheduler.get_last_lr()}')\n",
    "    scheduler.step()\n",
    "    \n",
    "# save ./weights/"
   ]
  },
  {
   "cell_type": "code",
   "execution_count": 20,
   "metadata": {},
   "outputs": [],
   "source": [
    "torch.save(best.state_dict(), \"./finetuned_short0.1seg.pt\")"
   ]
  },
  {
   "cell_type": "code",
   "execution_count": 21,
   "metadata": {},
   "outputs": [
    {
     "data": {
      "text/plain": [
       "CapacityNet(\n",
       "  (l1): Linear(in_features=1000, out_features=400, bias=True)\n",
       "  (l2): Linear(in_features=400, out_features=400, bias=True)\n",
       "  (l3): Linear(in_features=400, out_features=400, bias=True)\n",
       "  (l4): Linear(in_features=400, out_features=200, bias=True)\n",
       "  (l5): Linear(in_features=200, out_features=100, bias=True)\n",
       "  (l6): Linear(in_features=100, out_features=1, bias=True)\n",
       ")"
      ]
     },
     "execution_count": 21,
     "metadata": {},
     "output_type": "execute_result"
    }
   ],
   "source": [
    "best_model = CapacityNet()\n",
    "best_model.load_state_dict(torch.load(\"./finetuned_short0.1seg.pt\"))\n",
    "best_model.eval()"
   ]
  },
  {
   "cell_type": "code",
   "execution_count": 22,
   "metadata": {},
   "outputs": [],
   "source": [
    "best_model = best"
   ]
  },
  {
   "cell_type": "code",
   "execution_count": 27,
   "metadata": {},
   "outputs": [
    {
     "name": "stdout",
     "output_type": "stream",
     "text": [
      "\n",
      "\n",
      " Valid MIT\n",
      "(119,) (119,)\n",
      "MAPE: 0.009682739271132022\n",
      "RMSE : 0.00010247715402912711\n",
      "R2 Score : 0.9584347461463345\n"
     ]
    },
    {
     "data": {
      "image/png": "[encoded data removed]",
      "text/plain": [
       "<Figure size 360x252 with 1 Axes>"
      ]
     },
     "metadata": {
      "needs_background": "light"
     },
     "output_type": "display_data"
    },
    {
     "name": "stdout",
     "output_type": "stream",
     "text": [
      "\n",
      "\n",
      " TEST MIT\n",
      "(119,) (119,)\n",
      "MAPE: 0.009682739271132022\n",
      "RMSE : 0.00010247715402912711\n",
      "R2 Score : 0.9584347461463345\n"
     ]
    },
    {
     "data": {
      "image/png": "[encoded data removed]",
      "text/plain": [
       "<Figure size 360x252 with 1 Axes>"
      ]
     },
     "metadata": {
      "needs_background": "light"
     },
     "output_type": "display_data"
    }
   ],
   "source": [
    "from sklearn.metrics import r2_score, mean_squared_error\n",
    "\n",
    "# # Plot the capacity curve for cell 3 and predicted capacities for cell 3\n",
    "# valid_nasa = CapacityDataset([nasa_data[3]], type='test', window=[25, 26], random=True)\n",
    "# valid_mit = CapacityDataset([mit_data[4]], type='test', window=[25, 26],random=True)\n",
    "\n",
    "# valid_loader_nasa = DataLoader(valid_nasa, batch_size=16,  shuffle=False)\n",
    "# valid_loader_mit = DataLoader(valid_mit, batch_size=16, shuffle=False)\n",
    "\n",
    "# test_mit = CapacityDataset([mit_data[5]], type='test', window=[25, 26], random=True)\n",
    "# test_loader_mit = DataLoader(test_mit, batch_size=16, shuffle=False)\n",
    "\n",
    "\n",
    "for loader, type in ([(valid_loader_c, \"Valid MIT\"), (test_loader_mit, \"TEST MIT\")]):\n",
    "    print (\"\\n\\n\", type)\n",
    "    preds = [best_model(x.float()) for x, _, in loader]\n",
    "    y =  [x for _, x in loader]\n",
    "    y = torch.cat(y).view(-1).detach().numpy()\n",
    "    preds = torch.cat(preds).view(-1).detach().numpy()\n",
    "    print (preds.shape, y.shape)\n",
    "    plt.figure(figsize=(5, 3.5))\n",
    "    plt.plot(np.arange(preds.shape[0]),preds)\n",
    "    plt.plot(np.arange(preds.shape[0]),y)\n",
    "    error_train_mape = mean_absolute_percentage_error(preds, y)\n",
    "    error_train_rmse = mean_squared_error(preds, y)\n",
    "    error_train_r2 = r2_score(preds, y)\n",
    "    \n",
    "    print(f\"MAPE: {error_train_mape}\" )\n",
    "    print(f\"RMSE : { error_train_rmse}\")\n",
    "    print(f\"R2 Score : {error_train_r2}\")\n",
    "    \n",
    "   \n",
    "    \n",
    "    plt.show()"
   ]
  },
  {
   "cell_type": "code",
   "execution_count": null,
   "metadata": {},
   "outputs": [],
   "source": []
  }
 ],
 "metadata": {
  "kernelspec": {
   "display_name": "Python 3",
   "language": "python",
   "name": "python3"
  },
  "language_info": {
   "codemirror_mode": {
    "name": "ipython",
    "version": 3
   },
   "file_extension": ".py",
   "mimetype": "text/x-python",
   "name": "python",
   "nbconvert_exporter": "python",
   "pygments_lexer": "ipython3",
   "version": "3.8.3"
  }
 },
 "nbformat": 4,
 "nbformat_minor": 4
}
