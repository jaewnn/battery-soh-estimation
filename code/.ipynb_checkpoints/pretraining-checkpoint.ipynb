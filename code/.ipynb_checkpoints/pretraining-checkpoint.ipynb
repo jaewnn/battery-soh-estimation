{
 "cells": [
  {
   "cell_type": "markdown",
   "metadata": {},
   "source": [
    "# **수정 X**, 안될때는 새로 코드 창 띄우고 거기서 따로 실행"
   ]
  },
  {
   "cell_type": "code",
   "execution_count": 1,
   "metadata": {},
   "outputs": [],
   "source": [
    "import pandas as pd\n",
    "import os\n",
    "import numpy as np\n",
    "from scipy.interpolate import InterpolatedUnivariateSpline\n",
    "import copy\n",
    "import matplotlib.pyplot as plt\n",
    "from sklearn.metrics import mean_absolute_percentage_error\n",
    "from glob import glob\n",
    "from torch.optim.lr_scheduler import StepLR"
   ]
  },
  {
   "cell_type": "code",
   "execution_count": 2,
   "metadata": {},
   "outputs": [],
   "source": [
    "def load_csvs(csv_paths):\n",
    "    \n",
    "    data = []\n",
    "    cycles = []\n",
    "   \n",
    "    for path in (csv_paths):  \n",
    "        df = pd.read_csv(path)\n",
    "#         if df.Cycle_Index.unique().shape[0] > 2000:\n",
    "#             continue\n",
    "        print(df.Cycle_Index.unique().shape[0])\n",
    "        df = df[df['Step_Index'] == 10]\n",
    "        df = df[df['Step_Time'] > 0] # remove outliers\n",
    "        df = df[df['Step_Time'] < 5000] #remove outliers\n",
    "        df = df[df[\"Cycle_Index\"] > 0] # remove outliers\n",
    "            \n",
    "        df = df[df[\"Voltage\"] <3.21] \n",
    "        df = df[df[\"Voltage\"] >2.95]\n",
    "        df[\"Charge_Capacity\"] /= 1.1 # 공칙용량으로 나눠줌 >> 즉 charge_capcity를 퍼센트로 확인 가능\n",
    "            \n",
    "        \n",
    "        data.append(df)\n",
    "        cycle = df[\"Cycle_Index\"].unique()\n",
    "        cycles.append(cycle)\n",
    "        \n",
    "        print (f\"total points in {path}\", df.shape)\n",
    "    \n",
    "    \n",
    "    return data, cycles\n"
   ]
  },
  {
   "cell_type": "code",
   "execution_count": 4,
   "metadata": {},
   "outputs": [],
   "source": [
    "\n",
    "def plot_cycles(data, cycles):\n",
    "    print(\"plotting...\")\n",
    "    for d, cycle in zip(data, cycles):\n",
    "        for i,c in enumerate(cycle):\n",
    "            cycle_data = d[d.Cycle_Index == c]\n",
    "            time, voltage = cycle_data['Step_Time'].values, cycle_data.Voltage \n",
    "            try:\n",
    "                time = time - time[0]\n",
    "            except:\n",
    "                print (time, voltage, \"skipping\")\n",
    "                continue\n",
    "            plt.xlabel(\"time\")\n",
    "            plt.ylabel(\"voltage\")\n",
    "            plt.plot(time,voltage)\n",
    "\n",
    "    plt.show()\n",
    "    "
   ]
  },
  {
   "cell_type": "code",
   "execution_count": 5,
   "metadata": {},
   "outputs": [],
   "source": [
    "def fit_spline(data, cycles, no_points=500):\n",
    "    i = 0\n",
    "    \n",
    "    for cycle, d in zip (cycles, data):\n",
    "        cell_np = []\n",
    "        for index, c in enumerate (cycle):\n",
    "            cycle_data = d[d[\"Cycle_Index\"] == c]\n",
    "            \n",
    "            time, voltage, capacity, ind = cycle_data.Step_Time.values, cycle_data.Voltage, cycle_data.Charge_Capacity, cycle_data.Cycle_Index\n",
    "            time = time - time[0]\n",
    "            \n",
    "            # using spline function to to make dimensions of all cycles equal (to create equal number of points in every cycle)\n",
    "            ius = InterpolatedUnivariateSpline(time, voltage, k=1)\n",
    "\n",
    "            # creating linear space 0, 200 of 20,000 points\n",
    "            xi = np.linspace(0,700, 20000)\n",
    "            yi_test = ius(xi)\n",
    "\n",
    "            index_1 = np.argmin(np.abs(yi_test[:1000] - 3.2))\n",
    "            index_2 = np.argmin(np.abs(yi_test - 3.0))\n",
    "\n",
    "            indices = np.linspace(index_1, index_2, no_points).astype(int)\n",
    "\n",
    "            #discarding points that are greater than time\n",
    "#             xi = xi[xi < time[-1]]\n",
    "            #creating indices equal to number of points of xi and selecting 400 equidistant integers\n",
    "#             indices = np.linspace(0, time[-1]*100 -1, no_points).astype(int)\n",
    "#             #selecting time at specified indices\n",
    "            xi = xi[indices]\n",
    "            yi = ius(xi)\n",
    "            if yi[yi<2.998].any():\n",
    "                continue\n",
    "#                       \n",
    "            ind = np.zeros_like(xi) + ind.values[0]\n",
    "            capacity = np.zeros_like(xi) + np.max(capacity)\n",
    "            cell_np.append(np.array([xi, yi, capacity, ind]))\n",
    "        cell_np = np.concatenate(cell_np, axis=1)\n",
    "        cell_np = np.transpose(cell_np, (1,0))\n",
    "        data[i] = pd.DataFrame(cell_np, columns = ['Step_Time', 'Voltage', 'Charge_Capacity', 'Cycle_Index'])\n",
    "        i+=1\n",
    "        \n",
    "    return data"
   ]
  },
  {
   "cell_type": "code",
   "execution_count": 6,
   "metadata": {},
   "outputs": [],
   "source": [
    "# mit_csv have pathes of all csv files in raw_mit file \n",
    "mit_csvs = glob(\"./Capacity_data/RAW_MIT/*csv*\")\n",
    "#glob(\"./Capacity_data/MIT/*\")\n",
    "for csv in mit_csvs:\n",
    "    print (csv)\n",
    "# b1이 들어간 파일만 mit_csv리스트에 담는다\n",
    "mit_csvs = [i for i in mit_csvs if \"b1\" not in i]\n"
   ]
  },
  {
   "cell_type": "code",
   "execution_count": 6,
   "metadata": {},
   "outputs": [
    {
     "name": "stdout",
     "output_type": "stream",
     "text": [
      "plotting...\n"
     ]
    }
   ],
   "source": [
    "mit_data, mit_cycles = load_csvs(mit_csvs)\n",
    "plot_cycles(mit_data, mit_cycles)"
   ]
  },
  {
   "cell_type": "code",
   "execution_count": null,
   "metadata": {},
   "outputs": [],
   "source": []
  },
  {
   "cell_type": "code",
   "execution_count": 22,
   "metadata": {},
   "outputs": [
    {
     "name": "stdout",
     "output_type": "stream",
     "text": [
      "plotting...\n"
     ]
    }
   ],
   "source": [
    "test_csvs = glob(\"./Capacity_data/MIT/2017-06-30_2C-10per_6C_CH10_b2c1_discharge.csv\")\n",
    "test_csvs, test_cycles = load_csvs(test_csvs)\n",
    "plot_cycles(test_csvs, test_cycles)\n"
   ]
  },
  {
   "cell_type": "code",
   "execution_count": 23,
   "metadata": {},
   "outputs": [
    {
     "name": "stdout",
     "output_type": "stream",
     "text": [
      "plotting...\n"
     ]
    }
   ],
   "source": [
    "test_data = fit_spline(test_csvs.copy(), test_cycles, no_points=500)\n",
    "plot_cycles(test_data, test_cycles)"
   ]
  },
  {
   "cell_type": "code",
   "execution_count": 8,
   "metadata": {},
   "outputs": [],
   "source": [
    "mit_d = fit_spline(mit_data.copy(), mit_cycles, no_points=500)"
   ]
  },
  {
   "cell_type": "code",
   "execution_count": 9,
   "metadata": {},
   "outputs": [
    {
     "data": {
      "text/plain": [
       "0"
      ]
     },
     "execution_count": 9,
     "metadata": {},
     "output_type": "execute_result"
    }
   ],
   "source": [
    "len(mit_d)"
   ]
  },
  {
   "cell_type": "code",
   "execution_count": 10,
   "metadata": {},
   "outputs": [
    {
     "name": "stdout",
     "output_type": "stream",
     "text": [
      "plotting...\n"
     ]
    }
   ],
   "source": [
    "plot_cycles(mit_d, mit_cycles)"
   ]
  },
  {
   "cell_type": "code",
   "execution_count": null,
   "metadata": {},
   "outputs": [],
   "source": []
  },
  {
   "cell_type": "code",
   "execution_count": 12,
   "metadata": {},
   "outputs": [],
   "source": [
    "import torch.nn as nn\n",
    "import torch.nn.functional as F\n",
    "\n",
    "\n",
    "    \n",
    "# creating a four layer neural network.\n",
    "# number of elements in input layer = segment length x 2\n",
    "# 2 hidden layers each with two hundred units\n",
    "\n",
    "    \n",
    "# Neural Net to predict capacity\n",
    "class CapacityNet(nn.Module):\n",
    "    def __init__(self):\n",
    "        super(CapacityNet, self).__init__()\n",
    "\n",
    "        self.l1 = nn.Linear(in_features= int(500 * 2), out_features=400)\n",
    "        self.l2 = nn.Linear(in_features=400, out_features=400)\n",
    "        self.l3 = nn.Linear(in_features=400, out_features=400)\n",
    "        self.l4 = nn.Linear(in_features=400, out_features=200)\n",
    "        self.l5 = nn.Linear(in_features=200, out_features=100)\n",
    "        self.l6 = nn.Linear(in_features=100, out_features=1)\n",
    "        \n",
    "    def forward(self, x):\n",
    "        x = F.relu(self.l1(x))\n",
    "        x = F.relu(self.l2(x))\n",
    "        x = F.relu(self.l3(x))\n",
    "        x = F.relu(self.l4(x))\n",
    "        x = F.relu(self.l5(x))\n",
    "        return self.l6(x)\n",
    "\n",
    "    \n",
    "    "
   ]
  },
  {
   "cell_type": "code",
   "execution_count": 13,
   "metadata": {},
   "outputs": [],
   "source": [
    "from torch.utils.data import Dataset, DataLoader\n",
    "import numpy as np\n",
    "import torch\n",
    "from bisect import bisect\n",
    "  \n",
    "\n",
    "# procesing data to get samples for training and testing\n",
    "    \n",
    "class CapacityDataset(Dataset):\n",
    "    def __init__(self, data, type=\"train\"):\n",
    "        self.cycles = []\n",
    "\n",
    "        for d in data:\n",
    "            self.cycles.append(d.Cycle_Index.unique())\n",
    "        self.data = data\n",
    "#         self.window = window\n",
    "        # cycles per cell\n",
    "        self.spc = [cycle.shape[0] for cycle in  self.cycles]\n",
    "        \n",
    "    def __len__(self):\n",
    "        return sum(self.spc)\n",
    "\n",
    "    def __getitem__(self, idx):\n",
    "        \n",
    "        # the next three lines are locating the index in cycles of a particular cell\n",
    "        \n",
    "        cumsum = np.cumsum(self.spc)\n",
    "        cell_no = bisect(cumsum, idx)\n",
    "        ind = idx if cell_no == 0 else idx - cumsum[cell_no - 1]\n",
    "        \n",
    "        # picking the value of time, voltage, and capacity for the specified cycle during training or testing\n",
    "        \n",
    "        time_step = self.data[cell_no][self.data[cell_no].Cycle_Index == self.cycles[cell_no][ind]].Step_Time.values\n",
    "        voltage = self.data[cell_no][self.data[cell_no].Cycle_Index == self.cycles[cell_no][ind]].Voltage.values\n",
    "        capacity = self.data[cell_no][self.data[cell_no].Cycle_Index == self.cycles[cell_no][ind]].Charge_Capacity.max()\n",
    "        \n",
    "        # choosing a segment of specified length from the discharge curve for training or testing\n",
    "        # if random = True, the segment will start anywhere from start of curve to 400- length of segment\n",
    "#         print (time_step.shape, voltage.shape, cell_no, ind, capacity )\n",
    "\n",
    "#         segment_length = np.random.randint(self.window[0], self.window[1])\n",
    "#         start = 0 if not self.random else np.random.randint(0, 400 - segment_length)\n",
    "#         time_x = time_step[start: start+segment_length]\n",
    "#         voltage_x = voltage[start: start+segment_length]\n",
    "        # creating input / feature vector (segment length x2)\n",
    "        # the vector has voltage values followed by the corresponding time values\n",
    "#         x = np.zeros((voltage_x.shape[0]*2))\n",
    "        x = np.zeros((voltage.shape[0]*2))\n",
    "#         max_segment = np.zeros((self.max_points * 2)) \n",
    "        x[::2] = voltage\n",
    "        x[1::2] = time_step / 100\n",
    "#         x_random_seg = np.zeros(((self.window[1] - 1) * 2))\n",
    "#         x_random_seg[:x.shape[0]] = x\n",
    "\n",
    "#         max_segment[:x.shape[0]] = x\n",
    "\n",
    "\n",
    "        return x , torch.from_numpy(np.array([capacity]))\n",
    "\n",
    "\n"
   ]
  },
  {
   "cell_type": "code",
   "execution_count": 14,
   "metadata": {
    "scrolled": true
   },
   "outputs": [],
   "source": [
    "# train_voltage_c = CapacityDataset(test_data[:4],)\n",
    "# train_loader_c = DataLoader(train_voltage_c, batch_size=64, shuffle=True)\n",
    "# i=0\n",
    "# for x, _ in train_loader_c:\n",
    "#     print(i)\n",
    "#     for curve in x:\n",
    "#         time = curve[1::2]\n",
    "#         voltage = curve[::2]\n",
    "#         plt.plot(time, voltage)\n",
    "#     i+=1\n",
    "# plt.show()"
   ]
  },
  {
   "cell_type": "code",
   "execution_count": 15,
   "metadata": {},
   "outputs": [],
   "source": [
    "train_voltage_c = CapacityDataset(mit_d[:5])\n",
    "train_loader_c = DataLoader(train_voltage_c, batch_size=64, shuffle=True)\n",
    "\n",
    "valid_voltage_c = CapacityDataset([mit_d[5]])\n",
    "valid_loader_c = DataLoader(valid_voltage_c, batch_size=64, shuffle=False)\n",
    "\n",
    "test_mit = CapacityDataset(test_data)\n",
    "test_loader_mit = DataLoader(test_mit, batch_size=64, shuffle=False)\n",
    "\n",
    "# Net to predict Capacity\n",
    "net =  CapacityNet()\n",
    "optimizer = torch.optim.Adam(net.parameters(), lr=0.000561)\n",
    "criteria = torch.nn.MSELoss() \n",
    "scheduler = StepLR(optimizer, step_size=4, gamma=0.99)\n",
    "\n",
    "\n",
    "def train(net, best, train_set, test_set, optimizer, criteria, epoch, best_mape):\n",
    "    for dset, mode in [(train_set, 'train'), (test_set, 'test')]: # looping over two dataloaders (train and test)\n",
    "        if mode == \"test\":\n",
    "            net.eval() # if testing, don't compute gradients \n",
    "        else:\n",
    "            net.train()\n",
    "        loss = 0\n",
    "        preds = []\n",
    "        target = []\n",
    "        for ind, (x, y) in enumerate(dset): # looping over dataloader (train or test)\n",
    "            x = x.float()  #converting datatype to float, data type of inputs must match the datatype of weights of network\n",
    "            y = y.float()\n",
    "\n",
    "            pred = net(x) # neural net forward is called with input x. it will return capacity\n",
    "            loss = criteria(pred, y) # computing mean square error between predicted capacity and target capacity\n",
    "#             print (mode)\n",
    "            if mode == \"test\":\n",
    "                preds.extend(pred.detach().numpy().reshape(-1)) # if test dataloader, save the predictions for further analysis\n",
    "                target.extend(y.cpu().numpy())\n",
    "            if mode == 'train':\n",
    "                optimizer.zero_grad() # if train mode, if there are any gradients from previous time step, set them to 0\n",
    "                loss.backward()  # back propagation\n",
    "                optimizer.step() # updating the weights\n",
    "            loss += loss.item()  # converting loss(pytorch tensor) to python object and adding the value to total loss\n",
    "    \n",
    "    mape =  mean_absolute_percentage_error(preds, target) # computing the error of epoch\n",
    "    if mape < best_mape and mode == \"test\":\n",
    "        best = copy.deepcopy(net) #if error is less than the best error observed so far. save the model\n",
    "        best_mape = mape # current error is the least error so for. so setting it as the best mape\n",
    "    print (f'Mode: {mode} __ Epoch: {epoch} __ Loss: {loss/len(dset)}, mape: {mape}, Best Mape: {best_mape}')\n",
    "    return net, best, best_mape # return the trained net\n",
    "    "
   ]
  },
  {
   "cell_type": "code",
   "execution_count": null,
   "metadata": {},
   "outputs": [],
   "source": []
  },
  {
   "cell_type": "code",
   "execution_count": 16,
   "metadata": {},
   "outputs": [
    {
     "name": "stdout",
     "output_type": "stream",
     "text": [
      "Mode: test __ Epoch: 0 __ Loss: 2.5768862542463467e-05, mape: 0.0217233095318079, Best Mape: 0.0217233095318079\n",
      "Learning rate [0.000561]\n",
      "Mode: test __ Epoch: 1 __ Loss: 2.6657053240342066e-06, mape: 0.015228928066790104, Best Mape: 0.015228928066790104\n",
      "Learning rate [0.000561]\n",
      "Mode: test __ Epoch: 2 __ Loss: 6.274718089116504e-06, mape: 0.014781922101974487, Best Mape: 0.014781922101974487\n",
      "Learning rate [0.000561]\n",
      "Mode: test __ Epoch: 3 __ Loss: 2.3575270461151376e-05, mape: 0.013381244614720345, Best Mape: 0.013381244614720345\n",
      "Learning rate [0.000561]\n",
      "Mode: test __ Epoch: 4 __ Loss: 1.9595599951571785e-05, mape: 0.017045894637703896, Best Mape: 0.013381244614720345\n",
      "Learning rate [0.00055539]\n",
      "Mode: test __ Epoch: 5 __ Loss: 3.9738475607009605e-05, mape: 0.015346280299127102, Best Mape: 0.013381244614720345\n",
      "Learning rate [0.00055539]\n",
      "Mode: test __ Epoch: 6 __ Loss: 1.4516857845592313e-05, mape: 0.02311721444129944, Best Mape: 0.013381244614720345\n",
      "Learning rate [0.00055539]\n",
      "Mode: test __ Epoch: 7 __ Loss: 6.504984048660845e-05, mape: 0.01388631947338581, Best Mape: 0.013381244614720345\n",
      "Learning rate [0.00055539]\n",
      "Mode: test __ Epoch: 8 __ Loss: 6.317243241937831e-05, mape: 0.014674292877316475, Best Mape: 0.013381244614720345\n",
      "Learning rate [0.0005498361]\n",
      "Mode: test __ Epoch: 9 __ Loss: 4.878174149780534e-05, mape: 0.01638501137495041, Best Mape: 0.013381244614720345\n",
      "Learning rate [0.0005498361]\n",
      "Mode: test __ Epoch: 10 __ Loss: 2.769540878944099e-05, mape: 0.020716480910778046, Best Mape: 0.013381244614720345\n",
      "Learning rate [0.0005498361]\n",
      "Mode: test __ Epoch: 11 __ Loss: 0.00011550128692761064, mape: 0.010967288166284561, Best Mape: 0.010967288166284561\n",
      "Learning rate [0.0005498361]\n",
      "Mode: test __ Epoch: 12 __ Loss: 0.0001179958853754215, mape: 0.010885548777878284, Best Mape: 0.010885548777878284\n",
      "Learning rate [0.000544337739]\n",
      "Mode: test __ Epoch: 13 __ Loss: 6.668759306194261e-05, mape: 0.014449907466769218, Best Mape: 0.010885548777878284\n",
      "Learning rate [0.000544337739]\n",
      "Mode: test __ Epoch: 14 __ Loss: 4.3101095798192546e-05, mape: 0.018130125477910042, Best Mape: 0.010885548777878284\n",
      "Learning rate [0.000544337739]\n",
      "Mode: test __ Epoch: 15 __ Loss: 9.875364412437193e-06, mape: 0.02698272094130516, Best Mape: 0.010885548777878284\n",
      "Learning rate [0.000544337739]\n",
      "Mode: test __ Epoch: 16 __ Loss: 3.634934910223819e-05, mape: 0.018971756100654602, Best Mape: 0.010885548777878284\n",
      "Learning rate [0.0005388943616099999]\n",
      "Mode: test __ Epoch: 17 __ Loss: 0.00023227406200021505, mape: 0.014686696231365204, Best Mape: 0.010885548777878284\n",
      "Learning rate [0.0005388943616099999]\n",
      "Mode: test __ Epoch: 18 __ Loss: 6.065248089726083e-05, mape: 0.014741659164428711, Best Mape: 0.010885548777878284\n",
      "Learning rate [0.0005388943616099999]\n",
      "Mode: test __ Epoch: 19 __ Loss: 1.47861710502184e-05, mape: 0.024358877912163734, Best Mape: 0.010885548777878284\n",
      "Learning rate [0.0005388943616099999]\n",
      "Mode: test __ Epoch: 20 __ Loss: 2.9040932076895842e-06, mape: 0.03695153445005417, Best Mape: 0.010885548777878284\n",
      "Learning rate [0.0005335054179938999]\n",
      "Mode: test __ Epoch: 21 __ Loss: 3.668397039291449e-05, mape: 0.018688136711716652, Best Mape: 0.010885548777878284\n",
      "Learning rate [0.0005335054179938999]\n",
      "Mode: test __ Epoch: 22 __ Loss: 2.901696825574618e-05, mape: 0.020053312182426453, Best Mape: 0.010885548777878284\n",
      "Learning rate [0.0005335054179938999]\n",
      "Mode: test __ Epoch: 23 __ Loss: 6.730270251864567e-05, mape: 0.014326183125376701, Best Mape: 0.010885548777878284\n",
      "Learning rate [0.0005335054179938999]\n",
      "Mode: test __ Epoch: 24 __ Loss: 9.919899457599968e-05, mape: 0.011442734859883785, Best Mape: 0.010885548777878284\n",
      "Learning rate [0.0005281703638139608]\n",
      "Mode: test __ Epoch: 25 __ Loss: 3.4891447285190225e-05, mape: 0.01811143197119236, Best Mape: 0.010885548777878284\n",
      "Learning rate [0.0005281703638139608]\n",
      "Mode: test __ Epoch: 26 __ Loss: 1.172492829937255e-05, mape: 0.02575838193297386, Best Mape: 0.010885548777878284\n",
      "Learning rate [0.0005281703638139608]\n",
      "Mode: test __ Epoch: 27 __ Loss: 0.00010784787446027622, mape: 0.01148674450814724, Best Mape: 0.010885548777878284\n",
      "Learning rate [0.0005281703638139608]\n",
      "Mode: test __ Epoch: 28 __ Loss: 5.061353476776276e-06, mape: 0.030251672491431236, Best Mape: 0.010885548777878284\n",
      "Learning rate [0.0005228886601758212]\n",
      "Mode: test __ Epoch: 29 __ Loss: 2.461594476699247e-06, mape: 0.034282244741916656, Best Mape: 0.010885548777878284\n",
      "Learning rate [0.0005228886601758212]\n",
      "Mode: test __ Epoch: 30 __ Loss: 2.908960414060857e-05, mape: 0.019336316734552383, Best Mape: 0.010885548777878284\n",
      "Learning rate [0.0005228886601758212]\n",
      "Mode: test __ Epoch: 31 __ Loss: 5.4255015129456297e-05, mape: 0.016058187931776047, Best Mape: 0.010885548777878284\n",
      "Learning rate [0.0005228886601758212]\n",
      "Mode: test __ Epoch: 32 __ Loss: 0.0001201759441755712, mape: 0.011028995737433434, Best Mape: 0.010885548777878284\n",
      "Learning rate [0.000517659773574063]\n",
      "Mode: test __ Epoch: 33 __ Loss: 1.1883664228662383e-05, mape: 0.02526702545583248, Best Mape: 0.010885548777878284\n",
      "Learning rate [0.000517659773574063]\n",
      "Mode: test __ Epoch: 34 __ Loss: 9.585908992448822e-05, mape: 0.011809791438281536, Best Mape: 0.010885548777878284\n",
      "Learning rate [0.000517659773574063]\n",
      "Mode: test __ Epoch: 35 __ Loss: 6.441748701035976e-05, mape: 0.01417993288487196, Best Mape: 0.010885548777878284\n",
      "Learning rate [0.000517659773574063]\n",
      "Mode: test __ Epoch: 36 __ Loss: 0.00036034316872246563, mape: 0.025134269148111343, Best Mape: 0.010885548777878284\n",
      "Learning rate [0.0005124831758383224]\n",
      "Mode: test __ Epoch: 37 __ Loss: 5.698007498722291e-06, mape: 0.03023422509431839, Best Mape: 0.010885548777878284\n",
      "Learning rate [0.0005124831758383224]\n",
      "Mode: test __ Epoch: 38 __ Loss: 0.000152581837028265, mape: 0.010713029652833939, Best Mape: 0.010713029652833939\n",
      "Learning rate [0.0005124831758383224]\n",
      "Mode: test __ Epoch: 39 __ Loss: 5.006252195016714e-06, mape: 0.03114967793226242, Best Mape: 0.010713029652833939\n",
      "Learning rate [0.0005124831758383224]\n",
      "Mode: test __ Epoch: 40 __ Loss: 1.559486372570973e-05, mape: 0.02414613403379917, Best Mape: 0.010713029652833939\n",
      "Learning rate [0.0005073583440799392]\n",
      "Mode: test __ Epoch: 41 __ Loss: 2.257221785839647e-05, mape: 0.021115660667419434, Best Mape: 0.010713029652833939\n",
      "Learning rate [0.0005073583440799392]\n",
      "Mode: test __ Epoch: 42 __ Loss: 0.00010755407129181549, mape: 0.010971077717840672, Best Mape: 0.010713029652833939\n",
      "Learning rate [0.0005073583440799392]\n",
      "Mode: test __ Epoch: 43 __ Loss: 0.0001514048781245947, mape: 0.010523967444896698, Best Mape: 0.010523967444896698\n",
      "Learning rate [0.0005073583440799392]\n",
      "Mode: test __ Epoch: 44 __ Loss: 5.564738967223093e-05, mape: 0.014922990463674068, Best Mape: 0.010523967444896698\n",
      "Learning rate [0.0005022847606391398]\n",
      "Mode: test __ Epoch: 45 __ Loss: 4.3742707930505276e-05, mape: 0.0562465563416481, Best Mape: 0.010523967444896698\n",
      "Learning rate [0.0005022847606391398]\n",
      "Mode: test __ Epoch: 46 __ Loss: 3.729025820575771e-06, mape: 0.03928297385573387, Best Mape: 0.010523967444896698\n",
      "Learning rate [0.0005022847606391398]\n",
      "Mode: test __ Epoch: 47 __ Loss: 4.214774162392132e-05, mape: 0.01775260828435421, Best Mape: 0.010523967444896698\n",
      "Learning rate [0.0005022847606391398]\n",
      "Mode: test __ Epoch: 48 __ Loss: 4.570879173115827e-05, mape: 0.01734635792672634, Best Mape: 0.010523967444896698\n",
      "Learning rate [0.0004972619130327484]\n",
      "Mode: test __ Epoch: 49 __ Loss: 5.957444955129176e-06, mape: 0.02832835726439953, Best Mape: 0.010523967444896698\n",
      "Learning rate [0.0004972619130327484]\n",
      "Mode: test __ Epoch: 50 __ Loss: 2.805608801281778e-06, mape: 0.03276287391781807, Best Mape: 0.010523967444896698\n",
      "Learning rate [0.0004972619130327484]\n",
      "Mode: test __ Epoch: 51 __ Loss: 2.504177246009931e-06, mape: 0.03566386550664902, Best Mape: 0.010523967444896698\n",
      "Learning rate [0.0004972619130327484]\n",
      "Mode: test __ Epoch: 52 __ Loss: 4.117983280593762e-06, mape: 0.031956370919942856, Best Mape: 0.010523967444896698\n",
      "Learning rate [0.0004922892939024209]\n",
      "Mode: test __ Epoch: 53 __ Loss: 8.914085628930479e-05, mape: 0.012167845852673054, Best Mape: 0.010523967444896698\n",
      "Learning rate [0.0004922892939024209]\n",
      "Mode: test __ Epoch: 54 __ Loss: 6.738434603903443e-05, mape: 0.013179291971027851, Best Mape: 0.010523967444896698\n",
      "Learning rate [0.0004922892939024209]\n"
     ]
    },
    {
     "name": "stdout",
     "output_type": "stream",
     "text": [
      "Mode: test __ Epoch: 55 __ Loss: 3.854718306683935e-05, mape: 0.018496641889214516, Best Mape: 0.010523967444896698\n",
      "Learning rate [0.0004922892939024209]\n",
      "Mode: test __ Epoch: 56 __ Loss: 0.000146139194839634, mape: 0.010370180942118168, Best Mape: 0.010370180942118168\n",
      "Learning rate [0.00048736640096339664]\n",
      "Mode: test __ Epoch: 57 __ Loss: 3.114908031420782e-05, mape: 0.01936420239508152, Best Mape: 0.010370180942118168\n",
      "Learning rate [0.00048736640096339664]\n",
      "Mode: test __ Epoch: 58 __ Loss: 7.349877705564722e-05, mape: 0.012372131459414959, Best Mape: 0.010370180942118168\n",
      "Learning rate [0.00048736640096339664]\n",
      "Mode: test __ Epoch: 59 __ Loss: 5.7570381613913924e-05, mape: 0.014647661708295345, Best Mape: 0.010370180942118168\n",
      "Learning rate [0.00048736640096339664]\n",
      "Mode: test __ Epoch: 60 __ Loss: 4.7987115976866335e-05, mape: 0.015462206676602364, Best Mape: 0.010370180942118168\n",
      "Learning rate [0.00048249273695376266]\n",
      "Mode: test __ Epoch: 61 __ Loss: 7.457920582965016e-05, mape: 0.011902757920324802, Best Mape: 0.010370180942118168\n",
      "Learning rate [0.00048249273695376266]\n",
      "Mode: test __ Epoch: 62 __ Loss: 2.492969997547334e-06, mape: 0.032782841473817825, Best Mape: 0.010370180942118168\n",
      "Learning rate [0.00048249273695376266]\n",
      "Mode: test __ Epoch: 63 __ Loss: 0.00016755300748627633, mape: 0.012055454775691032, Best Mape: 0.010370180942118168\n",
      "Learning rate [0.00048249273695376266]\n",
      "Mode: test __ Epoch: 64 __ Loss: 4.584236739901826e-05, mape: 0.01340259239077568, Best Mape: 0.010370180942118168\n",
      "Learning rate [0.00047766780958422505]\n",
      "Mode: test __ Epoch: 65 __ Loss: 0.00016080828208941966, mape: 0.010417122393846512, Best Mape: 0.010370180942118168\n",
      "Learning rate [0.00047766780958422505]\n",
      "Mode: test __ Epoch: 66 __ Loss: 0.00013348749780561775, mape: 0.010738788172602654, Best Mape: 0.010370180942118168\n",
      "Learning rate [0.00047766780958422505]\n",
      "Mode: test __ Epoch: 67 __ Loss: 1.0617745829222258e-05, mape: 0.016390858218073845, Best Mape: 0.010370180942118168\n",
      "Learning rate [0.00047766780958422505]\n",
      "Mode: test __ Epoch: 68 __ Loss: 1.4730990187672433e-05, mape: 0.022256433963775635, Best Mape: 0.010370180942118168\n",
      "Learning rate [0.0004728911314883828]\n",
      "Mode: test __ Epoch: 69 __ Loss: 2.6654004614101723e-05, mape: 0.03280296549201012, Best Mape: 0.010370180942118168\n",
      "Learning rate [0.0004728911314883828]\n",
      "Mode: test __ Epoch: 70 __ Loss: 4.068395810463699e-06, mape: 0.01376629713922739, Best Mape: 0.010370180942118168\n",
      "Learning rate [0.0004728911314883828]\n",
      "Mode: test __ Epoch: 71 __ Loss: 2.4404903342656326e-06, mape: 0.017721951007843018, Best Mape: 0.010370180942118168\n",
      "Learning rate [0.0004728911314883828]\n",
      "Mode: test __ Epoch: 72 __ Loss: 8.503216122335289e-06, mape: 0.025711845606565475, Best Mape: 0.010370180942118168\n",
      "Learning rate [0.000468162220173499]\n",
      "Mode: test __ Epoch: 73 __ Loss: 4.315051410230808e-05, mape: 0.006770421750843525, Best Mape: 0.006770421750843525\n",
      "Learning rate [0.000468162220173499]\n",
      "Mode: test __ Epoch: 74 __ Loss: 2.6598736440064386e-06, mape: 0.006375424098223448, Best Mape: 0.006375424098223448\n",
      "Learning rate [0.000468162220173499]\n",
      "Mode: test __ Epoch: 75 __ Loss: 8.621539564046543e-06, mape: 0.01939411088824272, Best Mape: 0.006375424098223448\n",
      "Learning rate [0.000468162220173499]\n",
      "Mode: test __ Epoch: 76 __ Loss: 2.0936306100338697e-05, mape: 0.02958066202700138, Best Mape: 0.006375424098223448\n",
      "Learning rate [0.000463480597971764]\n",
      "Mode: test __ Epoch: 77 __ Loss: 4.373818956082687e-05, mape: 0.007109393831342459, Best Mape: 0.006375424098223448\n",
      "Learning rate [0.000463480597971764]\n",
      "Mode: test __ Epoch: 78 __ Loss: 1.3305909305927344e-05, mape: 0.021904893219470978, Best Mape: 0.006375424098223448\n",
      "Learning rate [0.000463480597971764]\n",
      "Mode: test __ Epoch: 79 __ Loss: 7.15132364348392e-06, mape: 0.020673321560025215, Best Mape: 0.006375424098223448\n",
      "Learning rate [0.000463480597971764]\n",
      "Mode: test __ Epoch: 80 __ Loss: 7.707767508691177e-06, mape: 0.009286673739552498, Best Mape: 0.006375424098223448\n",
      "Learning rate [0.00045884579199204637]\n",
      "Mode: test __ Epoch: 81 __ Loss: 7.160009408835322e-05, mape: 0.00705621438100934, Best Mape: 0.006375424098223448\n",
      "Learning rate [0.00045884579199204637]\n",
      "Mode: test __ Epoch: 82 __ Loss: 0.0007485231035389006, mape: 0.05370836332440376, Best Mape: 0.006375424098223448\n",
      "Learning rate [0.00045884579199204637]\n",
      "Mode: test __ Epoch: 83 __ Loss: 3.181238207616843e-05, mape: 0.0071091679856181145, Best Mape: 0.006375424098223448\n",
      "Learning rate [0.00045884579199204637]\n",
      "Mode: test __ Epoch: 84 __ Loss: 1.0829977327375673e-05, mape: 0.023361066356301308, Best Mape: 0.006375424098223448\n",
      "Learning rate [0.0004542573340721259]\n",
      "Mode: test __ Epoch: 85 __ Loss: 3.228381274311687e-06, mape: 0.019568609073758125, Best Mape: 0.006375424098223448\n",
      "Learning rate [0.0004542573340721259]\n",
      "Mode: test __ Epoch: 86 __ Loss: 2.738927605605568e-06, mape: 0.021069245412945747, Best Mape: 0.006375424098223448\n",
      "Learning rate [0.0004542573340721259]\n",
      "Mode: test __ Epoch: 87 __ Loss: 1.572224573465064e-05, mape: 0.02503720484673977, Best Mape: 0.006375424098223448\n",
      "Learning rate [0.0004542573340721259]\n",
      "Mode: test __ Epoch: 88 __ Loss: 4.452952452993486e-06, mape: 0.019620738923549652, Best Mape: 0.006375424098223448\n",
      "Learning rate [0.0004497147607314046]\n",
      "Mode: test __ Epoch: 89 __ Loss: 3.2908751563809346e-06, mape: 0.01428952720016241, Best Mape: 0.006375424098223448\n",
      "Learning rate [0.0004497147607314046]\n",
      "Mode: test __ Epoch: 90 __ Loss: 2.7892231173609616e-06, mape: 0.014630692079663277, Best Mape: 0.006375424098223448\n",
      "Learning rate [0.0004497147607314046]\n",
      "Mode: test __ Epoch: 91 __ Loss: 8.043124580581207e-06, mape: 0.034181300550699234, Best Mape: 0.006375424098223448\n",
      "Learning rate [0.0004497147607314046]\n",
      "Mode: test __ Epoch: 92 __ Loss: 1.6073912775027566e-05, mape: 0.009942629374563694, Best Mape: 0.006375424098223448\n",
      "Learning rate [0.00044521761312409054]\n",
      "Mode: test __ Epoch: 93 __ Loss: 4.000176431873115e-06, mape: 0.017996694892644882, Best Mape: 0.006375424098223448\n",
      "Learning rate [0.00044521761312409054]\n",
      "Mode: test __ Epoch: 94 __ Loss: 5.435138155007735e-05, mape: 0.006227451842278242, Best Mape: 0.006227451842278242\n",
      "Learning rate [0.00044521761312409054]\n",
      "Mode: test __ Epoch: 95 __ Loss: 5.88637703913264e-06, mape: 0.011874270625412464, Best Mape: 0.006227451842278242\n",
      "Learning rate [0.00044521761312409054]\n",
      "Mode: test __ Epoch: 96 __ Loss: 3.6247220123186707e-06, mape: 0.016230935230851173, Best Mape: 0.006227451842278242\n",
      "Learning rate [0.00044076543699284965]\n",
      "Mode: test __ Epoch: 97 __ Loss: 5.9153685469937045e-06, mape: 0.024485567584633827, Best Mape: 0.006227451842278242\n",
      "Learning rate [0.00044076543699284965]\n",
      "Mode: test __ Epoch: 98 __ Loss: 6.478089198935777e-05, mape: 0.005399671383202076, Best Mape: 0.005399671383202076\n",
      "Learning rate [0.00044076543699284965]\n",
      "Mode: test __ Epoch: 99 __ Loss: 4.569734755932586e-06, mape: 0.011345358565449715, Best Mape: 0.005399671383202076\n",
      "Learning rate [0.00044076543699284965]\n"
     ]
    }
   ],
   "source": [
    "best_mape=4\n",
    "best=None\n",
    "for epoch in range(100):\n",
    "    net, best, best_mape = train(net, best, train_loader_c, valid_loader_c, optimizer, criteria, epoch, best_mape)\n",
    "    print (f'Learning rate {scheduler.get_last_lr()}')\n",
    "    scheduler.step()\n",
    "    \n",
    "# save ./weights/"
   ]
  },
  {
   "cell_type": "markdown",
   "metadata": {},
   "source": [
    "## Save Model"
   ]
  },
  {
   "cell_type": "code",
   "execution_count": 17,
   "metadata": {},
   "outputs": [],
   "source": [
    "torch.save(best.state_dict(), \"./pretraining.pt\")"
   ]
  },
  {
   "cell_type": "markdown",
   "metadata": {},
   "source": [
    "# Load Model"
   ]
  },
  {
   "cell_type": "code",
   "execution_count": 18,
   "metadata": {},
   "outputs": [
    {
     "data": {
      "text/plain": [
       "CapacityNet(\n",
       "  (l1): Linear(in_features=1000, out_features=400, bias=True)\n",
       "  (l2): Linear(in_features=400, out_features=400, bias=True)\n",
       "  (l3): Linear(in_features=400, out_features=400, bias=True)\n",
       "  (l4): Linear(in_features=400, out_features=200, bias=True)\n",
       "  (l5): Linear(in_features=200, out_features=100, bias=True)\n",
       "  (l6): Linear(in_features=100, out_features=1, bias=True)\n",
       ")"
      ]
     },
     "execution_count": 18,
     "metadata": {},
     "output_type": "execute_result"
    }
   ],
   "source": [
    "best_model = CapacityNet()\n",
    "best_model.load_state_dict(torch.load(\"./pretraining.pt\"))\n",
    "best_model.eval()"
   ]
  },
  {
   "cell_type": "code",
   "execution_count": 19,
   "metadata": {},
   "outputs": [],
   "source": [
    "# best_model = best"
   ]
  },
  {
   "cell_type": "markdown",
   "metadata": {},
   "source": [
    "# Evaluate Performance \n",
    "# Val: (nasa cell 4 + mit cell 5)\n",
    "# Test: (Mit cell 6)"
   ]
  },
  {
   "cell_type": "code",
   "execution_count": 24,
   "metadata": {},
   "outputs": [
    {
     "name": "stdout",
     "output_type": "stream",
     "text": [
      "\n",
      "\n",
      " Valid MIT\n",
      "(873,) (873,)\n",
      "MAPE: 0.005399671738246077\n",
      "RMSE : 6.113164520323452e-05\n",
      "R2 Score : 0.9659422755980295\n"
     ]
    },
    {
     "data": {
      "image/png": "[encoded data removed]",
      "text/plain": [
       "<Figure size 700x500 with 1 Axes>"
      ]
     },
     "metadata": {},
     "output_type": "display_data"
    },
    {
     "name": "stdout",
     "output_type": "stream",
     "text": [
      "\n",
      "\n",
      " TEST MIT\n",
      "(169,) (169,)\n",
      "MAPE: 0.015885647556426057\n",
      "RMSE : 0.00030408744866315473\n",
      "R2 Score : 0.9167942596001293\n"
     ]
    },
    {
     "data": {
      "image/png": "[encoded data removed]",
      "text/plain": [
       "<Figure size 700x500 with 1 Axes>"
      ]
     },
     "metadata": {},
     "output_type": "display_data"
    }
   ],
   "source": [
    "from sklearn.metrics import r2_score, mean_squared_error\n",
    "\n",
    "# # Plot the capacity curve for cell 3 and predicted capacities for cell 3\n",
    "# valid_nasa = CapacityDataset([nasa_data[3]], type='test', window=[25, 26], random=True)\n",
    "# valid_mit = CapacityDataset([mit_data[4]], type='test', window=[25, 26],random=True)\n",
    "\n",
    "# valid_loader_nasa = DataLoader(valid_nasa, batch_size=16,  shuffle=False)\n",
    "# valid_loader_mit = DataLoader(valid_mit, batch_size=16, shuffle=False)\n",
    "\n",
    "# test_mit = CapacityDataset([mit_data[5]], type='test', window=[25, 26], random=True)\n",
    "# test_loader_mit = DataLoader(test_mit, batch_size=16, shuffle=False)\n",
    "\n",
    "\n",
    "for loader, type in ([(valid_loader_c, \"Valid MIT\"), (test_loader_mit, \"TEST MIT\")]):\n",
    "    print (\"\\n\\n\", type)\n",
    "    preds = [best_model(x.float()) for x, _, in loader]\n",
    "    y =  [x for _, x in loader]\n",
    "    y = torch.cat(y).view(-1).detach().numpy()\n",
    "    preds = torch.cat(preds).view(-1).detach().numpy()\n",
    "    print (preds.shape, y.shape)\n",
    "    plt.figure(figsize=(7, 5))\n",
    "    plt.plot(np.arange(preds.shape[0]),preds)\n",
    "    plt.plot(np.arange(preds.shape[0]),y)\n",
    "    error_train_mape = mean_absolute_percentage_error(preds, y)\n",
    "    error_train_rmse = mean_squared_error(preds, y)\n",
    "    error_train_r2 = r2_score(preds, y)\n",
    "    \n",
    "    print(f\"MAPE: {error_train_mape}\" )\n",
    "    print(f\"RMSE : { error_train_rmse}\")\n",
    "    print(f\"R2 Score : {error_train_r2}\")\n",
    "    \n",
    "    plt.show()"
   ]
  },
  {
   "cell_type": "code",
   "execution_count": null,
   "metadata": {},
   "outputs": [],
   "source": []
  },
  {
   "cell_type": "code",
   "execution_count": null,
   "metadata": {},
   "outputs": [],
   "source": []
  },
  {
   "cell_type": "code",
   "execution_count": null,
   "metadata": {},
   "outputs": [],
   "source": []
  }
 ],
 "metadata": {
  "kernelspec": {
   "display_name": "Python 3 (ipykernel)",
   "language": "python",
   "name": "python3"
  },
  "language_info": {
   "codemirror_mode": {
    "name": "ipython",
    "version": 3
   },
   "file_extension": ".py",
   "mimetype": "text/x-python",
   "name": "python",
   "nbconvert_exporter": "python",
   "pygments_lexer": "ipython3",
   "version": "3.8.3"
  }
 },
 "nbformat": 4,
 "nbformat_minor": 4
}
