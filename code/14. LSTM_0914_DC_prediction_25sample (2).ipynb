{
 "cells": [
  {
   "cell_type": "code",
   "execution_count": 1,
   "metadata": {},
   "outputs": [],
   "source": [
    "import os\n",
    "import pandas as pd\n",
    "pd.options.display.float_format = '{:,.2f}'.format\n",
    "pd.options.display.max_rows = 50\n",
    "pd.options.display.max_columns = 40\n",
    "import numpy as np\n",
    "from itertools import product\n",
    "import matplotlib.pyplot as plt\n",
    "from sklearn.metrics import mean_squared_log_error, mean_squared_error,  r2_score, mean_absolute_error\n",
    "import tensorflow as tf\n",
    "\n",
    "# from keras.models import Sequential, Model, load_model\n",
    "from keras.layers import Input, Dense, Activation, Flatten, Dropout\n",
    "from keras.layers import SimpleRNN, LSTM, GRU\n",
    "from tensorflow.keras.utils import Sequence\n",
    "\n",
    "import pandas as pd\n",
    "import os\n",
    "import numpy as np\n",
    "from scipy.interpolate import InterpolatedUnivariateSpline\n",
    "import copy\n",
    "import matplotlib.pyplot as plt\n",
    "from sklearn.metrics import mean_absolute_percentage_error\n",
    "from glob import glob\n"
   ]
  },
  {
   "cell_type": "code",
   "execution_count": 2,
   "metadata": {},
   "outputs": [],
   "source": [
    "from keras.models import Sequential, Model, load_model"
   ]
  },
  {
   "cell_type": "code",
   "execution_count": 3,
   "metadata": {},
   "outputs": [],
   "source": [
    "#os.environ[\"TF_CPP_MIN_LOG_LEVEL\"]=\"2\"\n",
    "# os.environ[\"CUDA_VISIBLE_DEVICES\"]=\"1\"\n",
    "os.environ['TF_FORCE_GPU_ALLOW_GROWTH'] = 'true'"
   ]
  },
  {
   "cell_type": "code",
   "execution_count": 4,
   "metadata": {},
   "outputs": [
    {
     "data": {
      "text/plain": [
       "[name: \"/device:CPU:0\"\n",
       " device_type: \"CPU\"\n",
       " memory_limit: 268435456\n",
       " locality {\n",
       " }\n",
       " incarnation: 3104451953992674020,\n",
       " name: \"/device:GPU:0\"\n",
       " device_type: \"GPU\"\n",
       " memory_limit: 10095296512\n",
       " locality {\n",
       "   bus_id: 1\n",
       "   links {\n",
       "   }\n",
       " }\n",
       " incarnation: 17602915665035401200\n",
       " physical_device_desc: \"device: 0, name: GeForce GTX 1080 Ti, pci bus id: 0000:01:00.0, compute capability: 6.1\"]"
      ]
     },
     "execution_count": 4,
     "metadata": {},
     "output_type": "execute_result"
    }
   ],
   "source": [
    "import tensorflow as tf\n",
    "from tensorflow.python.client import device_lib\n",
    "\n",
    "device_lib.list_local_devices()\n"
   ]
  },
  {
   "cell_type": "code",
   "execution_count": 5,
   "metadata": {},
   "outputs": [
    {
     "data": {
      "text/plain": [
       "[PhysicalDevice(name='/physical_device:GPU:0', device_type='GPU')]"
      ]
     },
     "execution_count": 5,
     "metadata": {},
     "output_type": "execute_result"
    }
   ],
   "source": [
    "tf.config.list_physical_devices('GPU')"
   ]
  },
  {
   "cell_type": "code",
   "execution_count": 6,
   "metadata": {},
   "outputs": [
    {
     "name": "stdout",
     "output_type": "stream",
     "text": [
      "[PhysicalDevice(name='/physical_device:GPU:0', device_type='GPU')]\n"
     ]
    }
   ],
   "source": [
    "from tensorflow.python.client import device_lib\n",
    "physical_devices = tf.config.experimental.list_physical_devices('GPU')\n",
    "print(physical_devices)\n",
    "if physical_devices:\n",
    "    tf.config.experimental.set_memory_growth(physical_devices[0], True)"
   ]
  },
  {
   "cell_type": "code",
   "execution_count": 7,
   "metadata": {},
   "outputs": [],
   "source": [
    "def load_csvs(csv_paths, columns, dataset=\"mit\", plot=True, rename=None):\n",
    "    # dataset can be mit or nasa\n",
    "    data = []\n",
    "    cycles = []\n",
    "    # path of directory where files are present\n",
    "    for i, path in enumerate(csv_paths):\n",
    "        assert os.path.exists(path)\n",
    "        df = pd.read_csv(path)\n",
    "        df = df[columns]\n",
    "        if dataset == \"mit\":\n",
    "            df = df[df['Step_Index'] == 10] # discharge\n",
    "            df = df[df['Step_Time'] > 0] # remove outliers\n",
    "            df = df[df['Step_Time'] < 5000] #remove outliers\n",
    "            df = df[df[\"Cycle_Index\"] > 0] # remove outliers\n",
    "            #df = df[df[\"Current\"] < -4.0]\n",
    "            #df[\"Discharge_Capacity\"] = df[\"Discharge_Capacity\"].max()\n",
    "            df[\"Discharge_Capacity\"] /= 1.1\n",
    "            df = df[df[\"Voltage\"] <3.22] \n",
    "            df = df[df[\"Voltage\"] >2.0]\n",
    "            \n",
    "        elif dataset == \"nasa\":\n",
    "            if rename:\n",
    "                df = df.rename(columns=rename)\n",
    "            df = df[df['Voltage'] > 2.5]\n",
    "            df = df[df['Voltage'] < 4.]\n",
    "            df = df[df['Current_measured'] < -1.8]\n",
    "            df[\"Voltage\"] *= 0.58\n",
    "\n",
    "            df[\"Step_Time\"] /= 4\n",
    "            df[\"Discharge_Capacity\"] /= 2.0\n",
    "        else:\n",
    "            raise NotImplementedError\n",
    "        data.append(df)\n",
    "        cycle = df[\"Cycle_Index\"].unique()\n",
    "        cycles.append(cycle)\n",
    "        \n",
    "        print (f\"total points in {path}\", df.shape)\n",
    "        \n",
    "#     if plot:\n",
    "#         plot_cycles(data, cycles)\n",
    "    \n",
    "    \n",
    "    return data, cycles\n",
    "\n",
    "def fit_spline(data, cycles, no_points=400, dataset=\"mit\"):\n",
    "    i = 0\n",
    "    for cycle, d in zip (cycles, data):\n",
    "        cell_np = []\n",
    "        for index, c in enumerate (cycle):\n",
    "            cycle_data = d[d[\"Cycle_Index\"] == c]\n",
    "            \n",
    "            if dataset ==\"mit\":\n",
    "                cycle_data = cycle_data[cycle_data.Current < -4.0]\n",
    "                cycle_data.Discharge_Capacity = cycle_data.Discharge_Capacity.max()\n",
    "                cycle_data = cycle_data[cycle_data.Voltage > 2.65]\n",
    "            \n",
    "\n",
    "            #selecting part of curve that has patterns\n",
    "            time, voltage, capacity, ind = cycle_data.Step_Time.values, cycle_data.Voltage, cycle_data.Discharge_Capacity, cycle_data.Cycle_Index\n",
    "            time = time - time[0]\n",
    "            if time.shape[0] < 100:\n",
    "                continue\n",
    "\n",
    "            # using spline function to to make dimensions of all cycles equal (to create equal number of points in every cycle)\n",
    "            ius = InterpolatedUnivariateSpline(time, voltage)\n",
    "\n",
    "            # creating linear space 0, 4000 of 100,000 points\n",
    "            xi = np.linspace(0, 1000, 100000)\n",
    "\n",
    "            #discarding points that are greater than time\n",
    "            xi = xi[xi < time[-1]]\n",
    "            #creating indices equal to number of points of xi and selecting 400 equidistant integers\n",
    "            indices = np.linspace(0, time[-1]*100 -1, no_points).astype(int)\n",
    "\n",
    "            #evaluating voltage for all xi\n",
    "            yi = ius(xi)\n",
    "\n",
    "            #selecting voltage at specified indices\n",
    "            yi = yi[indices]\n",
    "\n",
    "            #selecting time at specified indices\n",
    "            xi = xi[indices]\n",
    "            if dataset == \"mit\":\n",
    "                if (yi > 3.3).any() or (yi < 0).any() or (yi[:100] < 3.0).any():\n",
    "                    print('wrong cycle interpolation, ignore')\n",
    "                    continue\n",
    "            ind = np.zeros_like(xi) + ind.values[0]\n",
    "            capacity = np.zeros_like(xi) + np.max(capacity)\n",
    "            cell_np.append (np.array([xi, yi, capacity, ind]))\n",
    "        cell_np = np.concatenate(cell_np, axis=1)\n",
    "        cell_np = np.transpose (cell_np, (1,0))\n",
    "        data[i] = pd.DataFrame (cell_np, columns = ['Step_Time', 'Voltage', 'Discharge_Capacity', 'Cycle_Index'])\n",
    "        i+=1\n",
    "        \n",
    "    return data\n",
    "\n",
    "def plot_cycles(data, cycles):\n",
    "    for d, cycle in zip(data, cycles):\n",
    "        for index, c in enumerate(cycle):\n",
    "            cycle_data = d[d.Cycle_Index == c]\n",
    "            time, voltage = cycle_data['Step_Time'].values, cycle_data.Voltage \n",
    "           \n",
    "            plt.xlabel(\"time\")\n",
    "            plt.ylabel(\"voltage\")\n",
    "            plt.plot(time,voltage)\n",
    "\n",
    "    plt.show()\n",
    "    \n"
   ]
  },
  {
   "cell_type": "code",
   "execution_count": 8,
   "metadata": {},
   "outputs": [
    {
     "name": "stdout",
     "output_type": "stream",
     "text": [
      "Total 5 nasa csvs\n",
      "Total 10 mit csvs\n",
      "../../usman/Capacity_data/NASA\\B0005_discharge.csv\n",
      "../../usman/Capacity_data/NASA\\B0006_discharge.csv\n",
      "../../usman/Capacity_data/NASA\\B0007_discharge.csv\n",
      "../../usman/Capacity_data/NASA\\B0018_discharge.csv\n",
      "../../usman/Capacity_data/NASA\\B0036_discharge_corrected.csv\n",
      "../../usman/Capacity_data/MIT\\2017-05-12_5_4C-60per_3C_CH16.csv\n",
      "../../usman/Capacity_data/MIT\\2017-05-12_5_4C-80per_5_4C_CH12.csv\n",
      "../../usman/Capacity_data/MIT\\2017-05-12_6C-40per_3C_CH25.csv\n",
      "../../usman/Capacity_data/MIT\\2017-05-12_6C-40per_3C_CH26.csv\n",
      "../../usman/Capacity_data/MIT\\2017-05-12_6C-40per_3_6C_CH34.csv\n",
      "../../usman/Capacity_data/MIT\\2017-05-12_6C-50per_3_6C_CH36.csv\n",
      "../../usman/Capacity_data/MIT\\2017-05-12_8C-25per_3_6C_CH45.csv\n",
      "../../usman/Capacity_data/MIT\\2017-06-30_2C-10per_6C_CH10.csv\n",
      "../../usman/Capacity_data/MIT\\b1c1corrected.csv\n",
      "../../usman/Capacity_data/MIT\\b1c2corrected.csv\n"
     ]
    }
   ],
   "source": [
    "\n",
    "nasa_csvs = glob(\"../../usman/Capacity_data/NASA/*csv\")\n",
    "mit_csvs = glob(\"../../usman/Capacity_data/MIT/*csv\")\n",
    "\n",
    "nasa_columns = ['Time', 'cycle', 'Voltage_measured','Current_measured', 'Capacity']\n",
    "mit_columns = ['Step_Time', 'Step_Index', 'Cycle_Index','Current', 'Voltage', 'Discharge_Capacity']\n",
    "nasa_rename = {'Time': 'Step_Time', 'cycle': 'Cycle_Index', 'Voltage_measured': 'Voltage', \"Capacity\": 'Discharge_Capacity'}\n",
    "print(f\"Total {len(nasa_csvs)} nasa csvs\")\n",
    "print(f\"Total {len(mit_csvs)} mit csvs\")\n",
    "for csv in nasa_csvs:\n",
    "    print (csv)\n",
    "for csv in mit_csvs:\n",
    "    print (csv)"
   ]
  },
  {
   "cell_type": "code",
   "execution_count": null,
   "metadata": {},
   "outputs": [],
   "source": []
  },
  {
   "cell_type": "code",
   "execution_count": 9,
   "metadata": {},
   "outputs": [
    {
     "name": "stdout",
     "output_type": "stream",
     "text": [
      "total points in ../../usman/Capacity_data/NASA\\B0005_discharge.csv (45072, 5)\n",
      "total points in ../../usman/Capacity_data/NASA\\B0006_discharge.csv (44186, 5)\n",
      "total points in ../../usman/Capacity_data/NASA\\B0007_discharge.csv (47798, 5)\n",
      "total points in ../../usman/Capacity_data/NASA\\B0018_discharge.csv (31859, 5)\n",
      "total points in ../../usman/Capacity_data/NASA\\B0036_discharge_corrected.csv (46164, 5)\n",
      "total points in ../../usman/Capacity_data/MIT\\2017-05-12_5_4C-60per_3C_CH16.csv (242428, 6)\n",
      "total points in ../../usman/Capacity_data/MIT\\2017-05-12_5_4C-80per_5_4C_CH12.csv (183283, 6)\n",
      "total points in ../../usman/Capacity_data/MIT\\2017-05-12_6C-40per_3C_CH25.csv (335532, 6)\n",
      "total points in ../../usman/Capacity_data/MIT\\2017-05-12_6C-40per_3C_CH26.csv (287278, 6)\n",
      "total points in ../../usman/Capacity_data/MIT\\2017-05-12_6C-40per_3_6C_CH34.csv (282169, 6)\n",
      "total points in ../../usman/Capacity_data/MIT\\2017-05-12_6C-50per_3_6C_CH36.csv (289478, 6)\n",
      "total points in ../../usman/Capacity_data/MIT\\2017-05-12_8C-25per_3_6C_CH45.csv (238964, 6)\n",
      "total points in ../../usman/Capacity_data/MIT\\2017-06-30_2C-10per_6C_CH10.csv (53837, 6)\n",
      "total points in ../../usman/Capacity_data/MIT\\b1c1corrected.csv (725771, 6)\n",
      "total points in ../../usman/Capacity_data/MIT\\b1c2corrected.csv (756812, 6)\n"
     ]
    }
   ],
   "source": [
    "nasa_data, nasa_cycles = load_csvs(nasa_csvs, nasa_columns, dataset=\"nasa\", rename=nasa_rename)\n",
    "mit_data, mit_cycles = load_csvs(mit_csvs, mit_columns, dataset=\"mit\")\n"
   ]
  },
  {
   "cell_type": "code",
   "execution_count": 10,
   "metadata": {},
   "outputs": [
    {
     "data": {
      "text/html": [
       "<div>\n",
       "<style scoped>\n",
       "    .dataframe tbody tr th:only-of-type {\n",
       "        vertical-align: middle;\n",
       "    }\n",
       "\n",
       "    .dataframe tbody tr th {\n",
       "        vertical-align: top;\n",
       "    }\n",
       "\n",
       "    .dataframe thead th {\n",
       "        text-align: right;\n",
       "    }\n",
       "</style>\n",
       "<table border=\"1\" class=\"dataframe\">\n",
       "  <thead>\n",
       "    <tr style=\"text-align: right;\">\n",
       "      <th></th>\n",
       "      <th>Step_Time</th>\n",
       "      <th>Step_Index</th>\n",
       "      <th>Cycle_Index</th>\n",
       "      <th>Current</th>\n",
       "      <th>Voltage</th>\n",
       "      <th>Discharge_Capacity</th>\n",
       "    </tr>\n",
       "  </thead>\n",
       "  <tbody>\n",
       "    <tr>\n",
       "      <th>514560</th>\n",
       "      <td>26.38</td>\n",
       "      <td>10.00</td>\n",
       "      <td>1.00</td>\n",
       "      <td>-4.40</td>\n",
       "      <td>3.21</td>\n",
       "      <td>0.03</td>\n",
       "    </tr>\n",
       "    <tr>\n",
       "      <th>514561</th>\n",
       "      <td>31.04</td>\n",
       "      <td>10.00</td>\n",
       "      <td>1.00</td>\n",
       "      <td>-4.40</td>\n",
       "      <td>3.20</td>\n",
       "      <td>0.03</td>\n",
       "    </tr>\n",
       "    <tr>\n",
       "      <th>514562</th>\n",
       "      <td>36.05</td>\n",
       "      <td>10.00</td>\n",
       "      <td>1.00</td>\n",
       "      <td>-4.40</td>\n",
       "      <td>3.20</td>\n",
       "      <td>0.04</td>\n",
       "    </tr>\n",
       "    <tr>\n",
       "      <th>514563</th>\n",
       "      <td>41.06</td>\n",
       "      <td>10.00</td>\n",
       "      <td>1.00</td>\n",
       "      <td>-4.40</td>\n",
       "      <td>3.19</td>\n",
       "      <td>0.05</td>\n",
       "    </tr>\n",
       "    <tr>\n",
       "      <th>514564</th>\n",
       "      <td>41.06</td>\n",
       "      <td>10.00</td>\n",
       "      <td>1.00</td>\n",
       "      <td>-4.40</td>\n",
       "      <td>3.19</td>\n",
       "      <td>0.05</td>\n",
       "    </tr>\n",
       "    <tr>\n",
       "      <th>...</th>\n",
       "      <td>...</td>\n",
       "      <td>...</td>\n",
       "      <td>...</td>\n",
       "      <td>...</td>\n",
       "      <td>...</td>\n",
       "      <td>...</td>\n",
       "    </tr>\n",
       "    <tr>\n",
       "      <th>1268864</th>\n",
       "      <td>1,187.03</td>\n",
       "      <td>10.00</td>\n",
       "      <td>719.00</td>\n",
       "      <td>-0.05</td>\n",
       "      <td>2.00</td>\n",
       "      <td>0.80</td>\n",
       "    </tr>\n",
       "    <tr>\n",
       "      <th>1268865</th>\n",
       "      <td>1,192.04</td>\n",
       "      <td>10.00</td>\n",
       "      <td>719.00</td>\n",
       "      <td>-0.05</td>\n",
       "      <td>2.00</td>\n",
       "      <td>0.80</td>\n",
       "    </tr>\n",
       "    <tr>\n",
       "      <th>1268866</th>\n",
       "      <td>1,192.04</td>\n",
       "      <td>10.00</td>\n",
       "      <td>719.00</td>\n",
       "      <td>-0.05</td>\n",
       "      <td>2.00</td>\n",
       "      <td>0.80</td>\n",
       "    </tr>\n",
       "    <tr>\n",
       "      <th>1268867</th>\n",
       "      <td>1,197.04</td>\n",
       "      <td>10.00</td>\n",
       "      <td>719.00</td>\n",
       "      <td>-0.05</td>\n",
       "      <td>2.00</td>\n",
       "      <td>0.80</td>\n",
       "    </tr>\n",
       "    <tr>\n",
       "      <th>1268868</th>\n",
       "      <td>1,197.04</td>\n",
       "      <td>10.00</td>\n",
       "      <td>719.00</td>\n",
       "      <td>-0.05</td>\n",
       "      <td>2.00</td>\n",
       "      <td>0.80</td>\n",
       "    </tr>\n",
       "  </tbody>\n",
       "</table>\n",
       "<p>242428 rows × 6 columns</p>\n",
       "</div>"
      ],
      "text/plain": [
       "         Step_Time  Step_Index  Cycle_Index  Current  Voltage  \\\n",
       "514560       26.38       10.00         1.00    -4.40     3.21   \n",
       "514561       31.04       10.00         1.00    -4.40     3.20   \n",
       "514562       36.05       10.00         1.00    -4.40     3.20   \n",
       "514563       41.06       10.00         1.00    -4.40     3.19   \n",
       "514564       41.06       10.00         1.00    -4.40     3.19   \n",
       "...            ...         ...          ...      ...      ...   \n",
       "1268864   1,187.03       10.00       719.00    -0.05     2.00   \n",
       "1268865   1,192.04       10.00       719.00    -0.05     2.00   \n",
       "1268866   1,192.04       10.00       719.00    -0.05     2.00   \n",
       "1268867   1,197.04       10.00       719.00    -0.05     2.00   \n",
       "1268868   1,197.04       10.00       719.00    -0.05     2.00   \n",
       "\n",
       "         Discharge_Capacity  \n",
       "514560                 0.03  \n",
       "514561                 0.03  \n",
       "514562                 0.04  \n",
       "514563                 0.05  \n",
       "514564                 0.05  \n",
       "...                     ...  \n",
       "1268864                0.80  \n",
       "1268865                0.80  \n",
       "1268866                0.80  \n",
       "1268867                0.80  \n",
       "1268868                0.80  \n",
       "\n",
       "[242428 rows x 6 columns]"
      ]
     },
     "execution_count": 10,
     "metadata": {},
     "output_type": "execute_result"
    }
   ],
   "source": [
    "mit_data[0]"
   ]
  },
  {
   "cell_type": "code",
   "execution_count": null,
   "metadata": {},
   "outputs": [],
   "source": []
  },
  {
   "cell_type": "code",
   "execution_count": 11,
   "metadata": {},
   "outputs": [
    {
     "name": "stdout",
     "output_type": "stream",
     "text": [
      "Fitting spline on NASA set ...\n",
      "Fitting Split on MIT set ...\n",
      "wrong cycle interpolation, ignore\n",
      "wrong cycle interpolation, ignore\n",
      "wrong cycle interpolation, ignore\n",
      "wrong cycle interpolation, ignore\n",
      "wrong cycle interpolation, ignore\n",
      "wrong cycle interpolation, ignore\n",
      "wrong cycle interpolation, ignore\n",
      "wrong cycle interpolation, ignore\n",
      "wrong cycle interpolation, ignore\n",
      "wrong cycle interpolation, ignore\n",
      "wrong cycle interpolation, ignore\n",
      "wrong cycle interpolation, ignore\n",
      "wrong cycle interpolation, ignore\n",
      "wrong cycle interpolation, ignore\n",
      "wrong cycle interpolation, ignore\n",
      "wrong cycle interpolation, ignore\n",
      "wrong cycle interpolation, ignore\n",
      "wrong cycle interpolation, ignore\n",
      "wrong cycle interpolation, ignore\n",
      "wrong cycle interpolation, ignore\n",
      "wrong cycle interpolation, ignore\n",
      "wrong cycle interpolation, ignore\n",
      "wrong cycle interpolation, ignore\n"
     ]
    }
   ],
   "source": [
    "print (\"Fitting spline on NASA set ...\")\n",
    "nasa_data = fit_spline(nasa_data, nasa_cycles, dataset=\"nasa\")\n",
    "\n",
    "#plot_cycles(nasa_data, nasa_cycles)\n",
    "print (\"Fitting Split on MIT set ...\")\n",
    "mit_data = fit_spline(mit_data, mit_cycles, dataset=\"mit\")\n",
    "#plot_cycles(mit_data, mit_cycles)"
   ]
  },
  {
   "cell_type": "code",
   "execution_count": 12,
   "metadata": {},
   "outputs": [
    {
     "name": "stdout",
     "output_type": "stream",
     "text": [
      "286800\n",
      "718\n"
     ]
    },
    {
     "data": {
      "text/html": [
       "<div>\n",
       "<style scoped>\n",
       "    .dataframe tbody tr th:only-of-type {\n",
       "        vertical-align: middle;\n",
       "    }\n",
       "\n",
       "    .dataframe tbody tr th {\n",
       "        vertical-align: top;\n",
       "    }\n",
       "\n",
       "    .dataframe thead th {\n",
       "        text-align: right;\n",
       "    }\n",
       "</style>\n",
       "<table border=\"1\" class=\"dataframe\">\n",
       "  <thead>\n",
       "    <tr style=\"text-align: right;\">\n",
       "      <th></th>\n",
       "      <th>Step_Time</th>\n",
       "      <th>Voltage</th>\n",
       "      <th>Discharge_Capacity</th>\n",
       "      <th>Cycle_Index</th>\n",
       "    </tr>\n",
       "  </thead>\n",
       "  <tbody>\n",
       "    <tr>\n",
       "      <th>286795</th>\n",
       "      <td>584.02</td>\n",
       "      <td>2.69</td>\n",
       "      <td>0.73</td>\n",
       "      <td>719.00</td>\n",
       "    </tr>\n",
       "    <tr>\n",
       "      <th>286796</th>\n",
       "      <td>585.50</td>\n",
       "      <td>2.68</td>\n",
       "      <td>0.73</td>\n",
       "      <td>719.00</td>\n",
       "    </tr>\n",
       "    <tr>\n",
       "      <th>286797</th>\n",
       "      <td>586.98</td>\n",
       "      <td>2.68</td>\n",
       "      <td>0.73</td>\n",
       "      <td>719.00</td>\n",
       "    </tr>\n",
       "    <tr>\n",
       "      <th>286798</th>\n",
       "      <td>588.46</td>\n",
       "      <td>2.67</td>\n",
       "      <td>0.73</td>\n",
       "      <td>719.00</td>\n",
       "    </tr>\n",
       "    <tr>\n",
       "      <th>286799</th>\n",
       "      <td>589.94</td>\n",
       "      <td>2.66</td>\n",
       "      <td>0.73</td>\n",
       "      <td>719.00</td>\n",
       "    </tr>\n",
       "  </tbody>\n",
       "</table>\n",
       "</div>"
      ],
      "text/plain": [
       "        Step_Time  Voltage  Discharge_Capacity  Cycle_Index\n",
       "286795     584.02     2.69                0.73       719.00\n",
       "286796     585.50     2.68                0.73       719.00\n",
       "286797     586.98     2.68                0.73       719.00\n",
       "286798     588.46     2.67                0.73       719.00\n",
       "286799     589.94     2.66                0.73       719.00"
      ]
     },
     "execution_count": 12,
     "metadata": {},
     "output_type": "execute_result"
    }
   ],
   "source": [
    "print(len(mit_data[0]))\n",
    "print(len(mit_cycles[0]))\n",
    "\n",
    "mit_data[0].tail()"
   ]
  },
  {
   "cell_type": "code",
   "execution_count": null,
   "metadata": {},
   "outputs": [],
   "source": []
  },
  {
   "cell_type": "code",
   "execution_count": 13,
   "metadata": {},
   "outputs": [],
   "source": [
    "window = 25\n",
    "BATCH_SIZE = 64\n",
    "BUFFER_SIZE = 10000\n",
    "EVALUATION_INTERVAL = 200\n",
    "EPOCHS = 100"
   ]
  },
  {
   "cell_type": "code",
   "execution_count": 14,
   "metadata": {},
   "outputs": [],
   "source": [
    "def make_data_set(data_set, window, type='train'):\n",
    "    \n",
    "    x_data = np.empty((0,2*window),float)\n",
    "    y_data = []\n",
    "    for i in range(len(data_set)):\n",
    "        data = data_set[i]\n",
    "        cycles = data['Cycle_Index'].unique()\n",
    "        for cycle in cycles:\n",
    "            step_time = data[data['Cycle_Index']==cycle].Step_Time.values\n",
    "            voltage = data[data['Cycle_Index']==cycle].Voltage.values\n",
    "            dc_capacity = data[data['Cycle_Index']==cycle].Discharge_Capacity.max()\n",
    "\n",
    "            idx = np.random.randint(0,400-window)\n",
    "            time_x = step_time[idx:idx+window]\n",
    "            voltage_x = voltage[idx:idx+window]\n",
    "\n",
    "            x = np.zeros((1,window*2))\n",
    "            x[0,::2] = voltage_x\n",
    "            x[0,1::2] = time_x\n",
    "            \n",
    "            x_data = np.concatenate((x_data,x),axis=0)\n",
    "            y_data.append(dc_capacity)\n",
    "    \n",
    "    x_data = x_data.reshape((x_data.shape[0], x_data.shape[1], 1))\n",
    "    y_data = np.array(y_data)\n",
    "\n",
    "    univariate = tf.data.Dataset.from_tensor_slices((x_data, y_data))\n",
    "    if type == 'train':\n",
    "        univariate = univariate.cache().shuffle(BUFFER_SIZE).batch(BATCH_SIZE).repeat()\n",
    "    elif type == 'val':\n",
    "        univariate = univariate.batch(BATCH_SIZE).repeat()\n",
    "    else:\n",
    "        univariate = univariate.batch(BATCH_SIZE)\n",
    "\n",
    "    return x_data, y_data, univariate"
   ]
  },
  {
   "cell_type": "code",
   "execution_count": 15,
   "metadata": {
    "scrolled": false
   },
   "outputs": [],
   "source": [
    "x_train, y_train, train_univariate = make_data_set(nasa_data[:3] + mit_data[:4],window=25)\n",
    "x_val, y_val, val_univariate = make_data_set([nasa_data[3]] + [mit_data[4]],window=25,type='val')"
   ]
  },
  {
   "cell_type": "code",
   "execution_count": 16,
   "metadata": {},
   "outputs": [
    {
     "data": {
      "text/plain": [
       "(3634, 50, 1)"
      ]
     },
     "execution_count": 16,
     "metadata": {},
     "output_type": "execute_result"
    }
   ],
   "source": [
    "x_train.shape"
   ]
  },
  {
   "cell_type": "code",
   "execution_count": 17,
   "metadata": {},
   "outputs": [],
   "source": [
    "x_test1, y_test1, test_univariate1 = make_data_set([nasa_data[-1]],window=25,type='test')\n",
    "x_test2, y_test2, test_univariate2 = make_data_set([mit_data[6]],window=25,type='test')"
   ]
  },
  {
   "cell_type": "markdown",
   "metadata": {},
   "source": [
    "# GRU model"
   ]
  },
  {
   "cell_type": "code",
   "execution_count": 18,
   "metadata": {
    "scrolled": false
   },
   "outputs": [
    {
     "name": "stdout",
     "output_type": "stream",
     "text": [
      "Model: \"sequential\"\n",
      "_________________________________________________________________\n",
      "Layer (type)                 Output Shape              Param #   \n",
      "=================================================================\n",
      "gru (GRU)                    (None, 50, 128)           50304     \n",
      "_________________________________________________________________\n",
      "gru_1 (GRU)                  (None, 50, 256)           296448    \n",
      "_________________________________________________________________\n",
      "gru_2 (GRU)                  (None, 50, 128)           148224    \n",
      "_________________________________________________________________\n",
      "gru_3 (GRU)                  (None, 64)                37248     \n",
      "_________________________________________________________________\n",
      "dense (Dense)                (None, 1)                 65        \n",
      "=================================================================\n",
      "Total params: 532,289\n",
      "Trainable params: 532,289\n",
      "Non-trainable params: 0\n",
      "_________________________________________________________________\n",
      "Epoch 1/100\n",
      "200/200 [==============================] - 17s 27ms/step - loss: 0.0296 - val_loss: 0.0048\n",
      "Epoch 2/100\n",
      "200/200 [==============================] - 3s 17ms/step - loss: 0.0046 - val_loss: 0.0053\n",
      "Epoch 3/100\n",
      "200/200 [==============================] - 3s 17ms/step - loss: 0.0044 - val_loss: 0.0044\n",
      "Epoch 4/100\n",
      "200/200 [==============================] - 3s 17ms/step - loss: 0.0046 - val_loss: 0.0047\n",
      "Epoch 5/100\n",
      "200/200 [==============================] - 3s 17ms/step - loss: 0.0045 - val_loss: 0.0044\n",
      "Epoch 6/100\n",
      "200/200 [==============================] - 3s 16ms/step - loss: 0.0045 - val_loss: 0.0036\n",
      "Epoch 7/100\n",
      "200/200 [==============================] - 3s 17ms/step - loss: 0.0044 - val_loss: 0.0036\n",
      "Epoch 8/100\n",
      "200/200 [==============================] - 3s 17ms/step - loss: 0.0041 - val_loss: 0.0036\n",
      "Epoch 9/100\n",
      "200/200 [==============================] - 3s 17ms/step - loss: 0.0041 - val_loss: 0.0052\n",
      "Epoch 10/100\n",
      "200/200 [==============================] - 3s 17ms/step - loss: 0.0039 - val_loss: 0.0032\n",
      "Epoch 11/100\n",
      "200/200 [==============================] - 3s 17ms/step - loss: 0.0037 - val_loss: 0.0027\n",
      "Epoch 12/100\n",
      "200/200 [==============================] - 3s 16ms/step - loss: 0.0036 - val_loss: 0.0035\n",
      "Epoch 13/100\n",
      "200/200 [==============================] - 3s 17ms/step - loss: 0.0032 - val_loss: 0.0025\n",
      "Epoch 14/100\n",
      "200/200 [==============================] - 3s 16ms/step - loss: 0.0029 - val_loss: 0.0025\n",
      "Epoch 15/100\n",
      "200/200 [==============================] - 3s 16ms/step - loss: 0.0031 - val_loss: 0.0038\n",
      "Epoch 16/100\n",
      "200/200 [==============================] - 3s 17ms/step - loss: 0.0029 - val_loss: 0.0032\n",
      "Epoch 17/100\n",
      "200/200 [==============================] - 3s 17ms/step - loss: 0.0024 - val_loss: 0.0025\n",
      "Epoch 18/100\n",
      "200/200 [==============================] - 3s 17ms/step - loss: 0.0020 - val_loss: 0.0045\n",
      "Epoch 19/100\n",
      "200/200 [==============================] - 3s 17ms/step - loss: 0.0018 - val_loss: 7.6457e-04\n",
      "Epoch 20/100\n",
      "200/200 [==============================] - 4s 18ms/step - loss: 0.0016 - val_loss: 0.0015\n",
      "Epoch 21/100\n",
      "200/200 [==============================] - 3s 17ms/step - loss: 0.0011 - val_loss: 0.0020\n",
      "Epoch 22/100\n",
      "200/200 [==============================] - 3s 17ms/step - loss: 9.0256e-04 - val_loss: 6.3852e-04\n",
      "Epoch 23/100\n",
      "200/200 [==============================] - 3s 16ms/step - loss: 5.6297e-04 - val_loss: 8.8435e-04\n",
      "Epoch 24/100\n",
      "200/200 [==============================] - 3s 17ms/step - loss: 8.0841e-04 - val_loss: 7.9046e-04\n",
      "Epoch 25/100\n",
      "200/200 [==============================] - 3s 17ms/step - loss: 6.0561e-04 - val_loss: 2.4745e-04\n",
      "Epoch 26/100\n",
      "200/200 [==============================] - 3s 17ms/step - loss: 6.6640e-04 - val_loss: 8.3090e-04\n",
      "Epoch 27/100\n",
      "200/200 [==============================] - 3s 17ms/step - loss: 4.3231e-04 - val_loss: 2.0443e-04\n",
      "Epoch 28/100\n",
      "200/200 [==============================] - 3s 16ms/step - loss: 5.5958e-04 - val_loss: 4.0263e-04\n",
      "Epoch 29/100\n",
      "200/200 [==============================] - 3s 16ms/step - loss: 4.0151e-04 - val_loss: 4.5292e-04\n",
      "Epoch 30/100\n",
      "200/200 [==============================] - 3s 17ms/step - loss: 6.5267e-04 - val_loss: 0.0020\n",
      "Epoch 31/100\n",
      "200/200 [==============================] - 3s 17ms/step - loss: 3.9446e-04 - val_loss: 1.7050e-04\n",
      "Epoch 32/100\n",
      "200/200 [==============================] - 3s 17ms/step - loss: 5.7471e-04 - val_loss: 1.3579e-04\n",
      "Epoch 33/100\n",
      "200/200 [==============================] - 3s 17ms/step - loss: 3.6155e-04 - val_loss: 0.0011\n",
      "Epoch 34/100\n",
      "200/200 [==============================] - 3s 16ms/step - loss: 2.7394e-04 - val_loss: 2.2208e-04\n",
      "Epoch 35/100\n",
      "200/200 [==============================] - 3s 17ms/step - loss: 3.1859e-04 - val_loss: 1.8098e-04\n",
      "Epoch 36/100\n",
      "200/200 [==============================] - 3s 16ms/step - loss: 4.2509e-04 - val_loss: 1.7902e-04\n",
      "Epoch 37/100\n",
      "200/200 [==============================] - 3s 17ms/step - loss: 2.8088e-04 - val_loss: 1.9349e-04\n",
      "Epoch 38/100\n",
      "200/200 [==============================] - 3s 17ms/step - loss: 6.0201e-04 - val_loss: 3.8235e-04\n",
      "Epoch 39/100\n",
      "200/200 [==============================] - 3s 17ms/step - loss: 2.6641e-04 - val_loss: 1.3912e-04\n",
      "Epoch 40/100\n",
      "200/200 [==============================] - 3s 16ms/step - loss: 2.7423e-04 - val_loss: 1.6376e-04\n",
      "Epoch 41/100\n",
      "200/200 [==============================] - 3s 17ms/step - loss: 2.2588e-04 - val_loss: 3.2586e-04\n",
      "Epoch 42/100\n",
      "200/200 [==============================] - 3s 17ms/step - loss: 3.6714e-04 - val_loss: 2.2047e-04\n",
      "Epoch 43/100\n",
      "200/200 [==============================] - 3s 16ms/step - loss: 0.0107 - val_loss: 0.0045\n",
      "Epoch 44/100\n",
      "200/200 [==============================] - 4s 18ms/step - loss: 0.0045 - val_loss: 0.0049\n",
      "Epoch 45/100\n",
      "200/200 [==============================] - 4s 18ms/step - loss: 0.0044 - val_loss: 0.0047\n",
      "Epoch 46/100\n",
      "200/200 [==============================] - 3s 16ms/step - loss: 0.0044 - val_loss: 0.0071\n",
      "Epoch 47/100\n",
      "200/200 [==============================] - 3s 16ms/step - loss: 0.0042 - val_loss: 0.0033\n",
      "Epoch 48/100\n",
      "200/200 [==============================] - 3s 17ms/step - loss: 0.0042 - val_loss: 0.0036\n",
      "Epoch 49/100\n",
      "200/200 [==============================] - 4s 18ms/step - loss: 0.0038 - val_loss: 0.0033\n",
      "Epoch 50/100\n",
      "200/200 [==============================] - 4s 19ms/step - loss: 0.0037 - val_loss: 0.0028\n",
      "Epoch 51/100\n",
      "200/200 [==============================] - 3s 17ms/step - loss: 0.0034 - val_loss: 0.0059\n",
      "Epoch 52/100\n",
      "200/200 [==============================] - 3s 17ms/step - loss: 0.0033 - val_loss: 0.0030\n",
      "Epoch 53/100\n",
      "200/200 [==============================] - 3s 17ms/step - loss: 0.0034 - val_loss: 0.0028\n",
      "Epoch 54/100\n",
      "200/200 [==============================] - 4s 18ms/step - loss: 0.0027 - val_loss: 0.0031\n",
      "Epoch 55/100\n",
      "200/200 [==============================] - 3s 17ms/step - loss: 0.0016 - val_loss: 6.5991e-04\n",
      "Epoch 56/100\n",
      "200/200 [==============================] - 3s 16ms/step - loss: 8.1414e-04 - val_loss: 2.7831e-04\n",
      "Epoch 57/100\n",
      "200/200 [==============================] - 3s 16ms/step - loss: 2.0332e-04 - val_loss: 1.2648e-04\n",
      "Epoch 58/100\n",
      "200/200 [==============================] - 3s 17ms/step - loss: 1.8797e-04 - val_loss: 8.6883e-05\n",
      "Epoch 59/100\n",
      "200/200 [==============================] - 4s 20ms/step - loss: 1.5791e-04 - val_loss: 2.6562e-04\n",
      "Epoch 60/100\n",
      "200/200 [==============================] - 4s 18ms/step - loss: 2.8316e-04 - val_loss: 3.6437e-04\n",
      "Epoch 61/100\n",
      "200/200 [==============================] - 3s 16ms/step - loss: 2.0658e-04 - val_loss: 9.3604e-05\n",
      "Epoch 62/100\n",
      "200/200 [==============================] - 3s 17ms/step - loss: 1.8668e-04 - val_loss: 9.0171e-05\n",
      "Epoch 63/100\n",
      "200/200 [==============================] - 3s 17ms/step - loss: 1.3879e-04 - val_loss: 7.1342e-05\n",
      "Epoch 64/100\n",
      "200/200 [==============================] - 4s 20ms/step - loss: 0.0025 - val_loss: 0.0045\n",
      "Epoch 65/100\n",
      "200/200 [==============================] - 3s 16ms/step - loss: 0.0043 - val_loss: 0.0048\n",
      "Epoch 66/100\n",
      "200/200 [==============================] - 3s 16ms/step - loss: 0.0036 - val_loss: 0.0027\n",
      "Epoch 67/100\n",
      "200/200 [==============================] - 3s 16ms/step - loss: 0.0029 - val_loss: 0.0019\n",
      "Epoch 68/100\n",
      "200/200 [==============================] - 3s 16ms/step - loss: 0.0023 - val_loss: 0.0011\n",
      "Epoch 69/100\n",
      "200/200 [==============================] - 4s 19ms/step - loss: 4.7552e-04 - val_loss: 1.1937e-04\n",
      "Epoch 70/100\n",
      "200/200 [==============================] - 3s 16ms/step - loss: 1.2795e-04 - val_loss: 1.3038e-04\n",
      "Epoch 71/100\n",
      "200/200 [==============================] - 3s 16ms/step - loss: 1.9270e-04 - val_loss: 1.1868e-04\n",
      "Epoch 72/100\n",
      "200/200 [==============================] - 3s 16ms/step - loss: 1.4353e-04 - val_loss: 9.1620e-05\n",
      "Epoch 73/100\n",
      "200/200 [==============================] - 4s 18ms/step - loss: 1.2819e-04 - val_loss: 5.9937e-05\n",
      "Epoch 74/100\n",
      "200/200 [==============================] - 4s 19ms/step - loss: 1.3614e-04 - val_loss: 1.1089e-04\n",
      "Epoch 75/100\n",
      "200/200 [==============================] - 3s 17ms/step - loss: 1.7303e-04 - val_loss: 1.5801e-04\n",
      "Epoch 76/100\n",
      "200/200 [==============================] - 3s 16ms/step - loss: 1.1686e-04 - val_loss: 1.6358e-04\n",
      "Epoch 77/100\n",
      "200/200 [==============================] - 3s 16ms/step - loss: 1.0494e-04 - val_loss: 6.7814e-05\n",
      "Epoch 78/100\n",
      "200/200 [==============================] - 4s 18ms/step - loss: 1.8512e-04 - val_loss: 1.4315e-04\n",
      "Epoch 79/100\n",
      "200/200 [==============================] - 4s 18ms/step - loss: 0.0035 - val_loss: 0.0050\n",
      "Epoch 80/100\n",
      "200/200 [==============================] - 4s 18ms/step - loss: 0.0034 - val_loss: 0.0011\n",
      "Epoch 81/100\n",
      "200/200 [==============================] - 4s 18ms/step - loss: 0.0011 - val_loss: 1.1627e-04\n",
      "Epoch 82/100\n",
      "200/200 [==============================] - 3s 17ms/step - loss: 1.4660e-04 - val_loss: 1.1823e-04\n",
      "Epoch 83/100\n",
      "200/200 [==============================] - 4s 20ms/step - loss: 1.1634e-04 - val_loss: 8.6511e-05\n",
      "Epoch 84/100\n",
      "200/200 [==============================] - 4s 18ms/step - loss: 1.3061e-04 - val_loss: 4.8040e-05\n",
      "Epoch 85/100\n",
      "200/200 [==============================] - 3s 16ms/step - loss: 8.6042e-05 - val_loss: 5.9965e-05\n",
      "Epoch 86/100\n",
      "200/200 [==============================] - 3s 16ms/step - loss: 9.8764e-05 - val_loss: 3.1821e-05\n",
      "Epoch 87/100\n",
      "200/200 [==============================] - 3s 17ms/step - loss: 1.0339e-04 - val_loss: 4.0177e-05\n",
      "Epoch 88/100\n",
      "200/200 [==============================] - 4s 18ms/step - loss: 0.0033 - val_loss: 0.0027\n",
      "Epoch 89/100\n",
      "200/200 [==============================] - 3s 16ms/step - loss: 0.0023 - val_loss: 7.6497e-04\n",
      "Epoch 90/100\n",
      "200/200 [==============================] - 3s 16ms/step - loss: 2.4474e-04 - val_loss: 6.6974e-05\n",
      "Epoch 91/100\n",
      "200/200 [==============================] - 3s 16ms/step - loss: 1.0692e-04 - val_loss: 3.3822e-05\n",
      "Epoch 92/100\n",
      "200/200 [==============================] - 3s 17ms/step - loss: 9.7510e-05 - val_loss: 7.5996e-05\n",
      "Epoch 93/100\n",
      "200/200 [==============================] - 4s 19ms/step - loss: 1.0059e-04 - val_loss: 4.4249e-05\n",
      "Epoch 94/100\n",
      "200/200 [==============================] - 3s 16ms/step - loss: 1.2001e-04 - val_loss: 6.7252e-05\n",
      "Epoch 95/100\n",
      "200/200 [==============================] - 3s 16ms/step - loss: 1.1377e-04 - val_loss: 5.0159e-05\n",
      "Epoch 96/100\n",
      "200/200 [==============================] - 3s 16ms/step - loss: 8.2840e-05 - val_loss: 7.4776e-05\n",
      "Epoch 97/100\n",
      "200/200 [==============================] - 3s 17ms/step - loss: 0.0037 - val_loss: 0.0041\n",
      "Epoch 98/100\n",
      "200/200 [==============================] - 4s 18ms/step - loss: 0.0032 - val_loss: 0.0015\n",
      "Epoch 99/100\n",
      "200/200 [==============================] - 3s 16ms/step - loss: 4.4956e-04 - val_loss: 7.2465e-05\n",
      "Epoch 100/100\n",
      "200/200 [==============================] - 3s 16ms/step - loss: 6.3144e-05 - val_loss: 4.0903e-05\n"
     ]
    }
   ],
   "source": [
    "dropout_ratio = 0\n",
    "batch_size = 64\n",
    "epoch = 100\n",
    "workers=4\n",
    "input_shape = x_train.shape[1:]\n",
    "# GRU\n",
    "model = Sequential()\n",
    "model.add(GRU(128, input_shape=input_shape, return_sequences=True, activation='tanh'))\n",
    "#model.add(Dropout(dropout_ratio)) \n",
    "model.add(GRU(256, return_sequences=True, activation=\"tanh\"))\n",
    "# model.add(Dropout(dropout_ratio)) \n",
    "model.add(GRU(128, return_sequences=True, activation=\"tanh\"))\n",
    "# model.add(Dropout(dropout_ratio)) \n",
    "model.add(GRU(64, return_sequences=False, activation=\"tanh\"))\n",
    "# model.add(Dropout(dropout_ratio)) o\n",
    "model.add(Dense(1))\n",
    "model.compile(optimizer='adam', loss='mean_squared_error')\n",
    "model.summary()\n",
    "model_fit = model.fit(train_univariate, validation_data=val_univariate,\n",
    "                      epochs=epoch,\n",
    "                       steps_per_epoch=EVALUATION_INTERVAL, validation_steps=50)"
   ]
  },
  {
   "cell_type": "code",
   "execution_count": null,
   "metadata": {},
   "outputs": [],
   "source": []
  },
  {
   "cell_type": "code",
   "execution_count": 19,
   "metadata": {},
   "outputs": [],
   "source": [
    "def model_test(model, y_test, test):\n",
    "    y_pred = model.predict(test)\n",
    "\n",
    "    plt.figure(figsize=(10, 8))\n",
    "    plt.plot(y_test, 'k-', label='True')\n",
    "    plt.plot(y_pred, 'r', label='prediction')\n",
    "    plt.legend()\n",
    "    plt.show()\n",
    "    print(f\"Mean Absolute Error : {mean_absolute_error(y_pred, y_test):.3f}\")\n",
    "    print(f\"Mean Squared Error(RMSE) : {mean_squared_error(y_pred, y_test, squared=False):.3f}\")\n",
    "    print(f\"MAPE: {mean_absolute_percentage_error(y_pred, y_test):.3f}\")\n",
    "    print(f\"R2 Score : {r2_score(y_pred, y_test):.3f}\")\n",
    "    \n",
    "   # return y_pred"
   ]
  },
  {
   "cell_type": "code",
   "execution_count": 20,
   "metadata": {},
   "outputs": [
    {
     "data": {
      "image/png": "[encoded data removed]",
      "text/plain": [
       "<Figure size 720x576 with 1 Axes>"
      ]
     },
     "metadata": {
      "needs_background": "light"
     },
     "output_type": "display_data"
    },
    {
     "name": "stdout",
     "output_type": "stream",
     "text": [
      "Mean Absolute Error : 0.006\n",
      "Mean Squared Error(RMSE) : 0.007\n",
      "MAPE: 0.006\n",
      "R2 Score : 0.954\n"
     ]
    }
   ],
   "source": [
    "model_test(model, y_test1, test_univariate1)"
   ]
  },
  {
   "cell_type": "code",
   "execution_count": 21,
   "metadata": {},
   "outputs": [
    {
     "data": {
      "image/png": "[encoded data removed]",
      "text/plain": [
       "<Figure size 720x576 with 1 Axes>"
      ]
     },
     "metadata": {
      "needs_background": "light"
     },
     "output_type": "display_data"
    },
    {
     "name": "stdout",
     "output_type": "stream",
     "text": [
      "Mean Absolute Error : 0.005\n",
      "Mean Squared Error(RMSE) : 0.006\n",
      "MAPE: 0.006\n",
      "R2 Score : 0.991\n"
     ]
    }
   ],
   "source": [
    "model_test(model, y_test2, test_univariate2)"
   ]
  },
  {
   "cell_type": "code",
   "execution_count": 22,
   "metadata": {},
   "outputs": [],
   "source": [
    "NASA = model.predict(test_univariate1)\n",
    "MIT = model.predict(test_univariate2)"
   ]
  },
  {
   "cell_type": "code",
   "execution_count": 23,
   "metadata": {},
   "outputs": [],
   "source": [
    "pd.DataFrame(NASA).to_csv(f'./GRU_NASA_Pred.csv')\n",
    "pd.DataFrame(MIT).to_csv(f'./GRU_MIT_Pred.csv')"
   ]
  },
  {
   "cell_type": "code",
   "execution_count": null,
   "metadata": {},
   "outputs": [],
   "source": [
    "test_univariate2"
   ]
  },
  {
   "cell_type": "markdown",
   "metadata": {},
   "source": []
  },
  {
   "cell_type": "code",
   "execution_count": null,
   "metadata": {},
   "outputs": [],
   "source": [
    "for x, y in train_univariate: \n",
    "    for i,curve in enumerate(x):\n",
    "        plt.plot(curve[1::2], curve[::2])\n",
    "plt.show()"
   ]
  },
  {
   "cell_type": "markdown",
   "metadata": {},
   "source": []
  },
  {
   "cell_type": "code",
   "execution_count": null,
   "metadata": {},
   "outputs": [],
   "source": [
    "for x, y in train_univariate: \n",
    "    for i,curve in enumerate(x):\n",
    "        plt.plot(curve[1::2], curve[::2])\n",
    "plt.show()"
   ]
  },
  {
   "cell_type": "code",
   "execution_count": null,
   "metadata": {},
   "outputs": [],
   "source": []
  }
 ],
 "metadata": {
  "kernelspec": {
   "display_name": "Python 3",
   "language": "python",
   "name": "python3"
  },
  "language_info": {
   "codemirror_mode": {
    "name": "ipython",
    "version": 3
   },
   "file_extension": ".py",
   "mimetype": "text/x-python",
   "name": "python",
   "nbconvert_exporter": "python",
   "pygments_lexer": "ipython3",
   "version": "3.8.3"
  }
 },
 "nbformat": 4,
 "nbformat_minor": 5
}
